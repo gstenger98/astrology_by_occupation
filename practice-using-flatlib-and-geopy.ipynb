{
 "cells": [
  {
   "cell_type": "markdown",
   "metadata": {},
   "source": [
    "I'm gonna make up some practice data and try to make an astrology chart out of it."
   ]
  },
  {
   "cell_type": "code",
   "execution_count": 1,
   "metadata": {},
   "outputs": [],
   "source": [
    "import pandas as pd\n",
    "import numpy as np\n",
    "import flatlib as fl\n",
    "import geopy as gp\n",
    "import re"
   ]
  },
  {
   "cell_type": "code",
   "execution_count": 6,
   "metadata": {},
   "outputs": [],
   "source": [
    "df = pd.DataFrame([['Daiana', 'September 16, 1997; 9:00', 'Berlin, Germany'],['Jackson', 'July 2, 1997; 16:07', 'London, England; GB'],['Samantha', 'October 26, 1997; 14:00', 'Salem, Oregon; USA']], columns = ['name', 'birthtime', 'birthplace'])"
   ]
  },
  {
   "cell_type": "code",
   "execution_count": 7,
   "metadata": {},
   "outputs": [
    {
     "data": {
      "text/html": [
       "<div>\n",
       "<style scoped>\n",
       "    .dataframe tbody tr th:only-of-type {\n",
       "        vertical-align: middle;\n",
       "    }\n",
       "\n",
       "    .dataframe tbody tr th {\n",
       "        vertical-align: top;\n",
       "    }\n",
       "\n",
       "    .dataframe thead th {\n",
       "        text-align: right;\n",
       "    }\n",
       "</style>\n",
       "<table border=\"1\" class=\"dataframe\">\n",
       "  <thead>\n",
       "    <tr style=\"text-align: right;\">\n",
       "      <th></th>\n",
       "      <th>name</th>\n",
       "      <th>birthtime</th>\n",
       "      <th>birthplace</th>\n",
       "    </tr>\n",
       "  </thead>\n",
       "  <tbody>\n",
       "    <tr>\n",
       "      <th>0</th>\n",
       "      <td>Daiana</td>\n",
       "      <td>September 16, 1997; 9:00</td>\n",
       "      <td>Berlin, Germany</td>\n",
       "    </tr>\n",
       "    <tr>\n",
       "      <th>1</th>\n",
       "      <td>Jackson</td>\n",
       "      <td>July 2, 1997; 16:07</td>\n",
       "      <td>London, England; GB</td>\n",
       "    </tr>\n",
       "    <tr>\n",
       "      <th>2</th>\n",
       "      <td>Samantha</td>\n",
       "      <td>October 26, 1997; 14:00</td>\n",
       "      <td>Salem, Oregon; USA</td>\n",
       "    </tr>\n",
       "  </tbody>\n",
       "</table>\n",
       "</div>"
      ],
      "text/plain": [
       "       name                 birthtime           birthplace\n",
       "0    Daiana  September 16, 1997; 9:00      Berlin, Germany\n",
       "1   Jackson       July 2, 1997; 16:07  London, England; GB\n",
       "2  Samantha   October 26, 1997; 14:00   Salem, Oregon; USA"
      ]
     },
     "execution_count": 7,
     "metadata": {},
     "output_type": "execute_result"
    }
   ],
   "source": [
    "df.head()"
   ]
  },
  {
   "cell_type": "markdown",
   "metadata": {},
   "source": [
    "Now I need to come up with a method which transforms birthtime into the proper format and a birthplace into a long/lat."
   ]
  },
  {
   "cell_type": "code",
   "execution_count": 9,
   "metadata": {},
   "outputs": [],
   "source": [
    "## The birthtime thing should be pretty easy I think. I won't do it all out, but the following example is helpful.\n",
    "#date = Datetime('2015/03/13', '17:00', '+00:00')\n",
    "## To get birthplace into lon/lat, use geopy.\n",
    "#location = geolocator.geocode(\"175 5th Avenue NYC\")\n",
    "\n",
    "from geopy.geocoders import Nominatim\n",
    "geolocator = Nominatim(user_agent=\"specify_your_app_name_here\")\n",
    "\n",
    "from geopy.extra.rate_limiter import RateLimiter\n",
    "geocode = RateLimiter(geolocator.geocode, min_delay_seconds=1)\n",
    "df['location'] = df['birthplace'].apply(geocode)\n",
    "df['point'] = df['location'].apply(lambda loc: tuple(loc.point) if loc else None)\n"
   ]
  },
  {
   "cell_type": "code",
   "execution_count": 10,
   "metadata": {},
   "outputs": [
    {
     "data": {
      "text/html": [
       "<div>\n",
       "<style scoped>\n",
       "    .dataframe tbody tr th:only-of-type {\n",
       "        vertical-align: middle;\n",
       "    }\n",
       "\n",
       "    .dataframe tbody tr th {\n",
       "        vertical-align: top;\n",
       "    }\n",
       "\n",
       "    .dataframe thead th {\n",
       "        text-align: right;\n",
       "    }\n",
       "</style>\n",
       "<table border=\"1\" class=\"dataframe\">\n",
       "  <thead>\n",
       "    <tr style=\"text-align: right;\">\n",
       "      <th></th>\n",
       "      <th>name</th>\n",
       "      <th>birthtime</th>\n",
       "      <th>birthplace</th>\n",
       "      <th>location</th>\n",
       "      <th>point</th>\n",
       "    </tr>\n",
       "  </thead>\n",
       "  <tbody>\n",
       "    <tr>\n",
       "      <th>0</th>\n",
       "      <td>Daiana</td>\n",
       "      <td>September 16, 1997; 9:00</td>\n",
       "      <td>Berlin, Germany</td>\n",
       "      <td>(Berlin, Deutschland, (52.5170365, 13.3888599))</td>\n",
       "      <td>(52.5170365, 13.3888599, 0.0)</td>\n",
       "    </tr>\n",
       "    <tr>\n",
       "      <th>1</th>\n",
       "      <td>Jackson</td>\n",
       "      <td>July 2, 1997; 16:07</td>\n",
       "      <td>London, England; GB</td>\n",
       "      <td>(London, Greater London, England, SW1A 2DX, Un...</td>\n",
       "      <td>(51.5073219, -0.1276474, 0.0)</td>\n",
       "    </tr>\n",
       "    <tr>\n",
       "      <th>2</th>\n",
       "      <td>Samantha</td>\n",
       "      <td>October 26, 1997; 14:00</td>\n",
       "      <td>Salem, Oregon; USA</td>\n",
       "      <td>(Salem, Marion County, Oregon, United States o...</td>\n",
       "      <td>(44.9391565, -123.033121, 0.0)</td>\n",
       "    </tr>\n",
       "  </tbody>\n",
       "</table>\n",
       "</div>"
      ],
      "text/plain": [
       "       name                 birthtime           birthplace  \\\n",
       "0    Daiana  September 16, 1997; 9:00      Berlin, Germany   \n",
       "1   Jackson       July 2, 1997; 16:07  London, England; GB   \n",
       "2  Samantha   October 26, 1997; 14:00   Salem, Oregon; USA   \n",
       "\n",
       "                                            location  \\\n",
       "0    (Berlin, Deutschland, (52.5170365, 13.3888599))   \n",
       "1  (London, Greater London, England, SW1A 2DX, Un...   \n",
       "2  (Salem, Marion County, Oregon, United States o...   \n",
       "\n",
       "                            point  \n",
       "0   (52.5170365, 13.3888599, 0.0)  \n",
       "1   (51.5073219, -0.1276474, 0.0)  \n",
       "2  (44.9391565, -123.033121, 0.0)  "
      ]
     },
     "execution_count": 10,
     "metadata": {},
     "output_type": "execute_result"
    }
   ],
   "source": [
    "df.head()"
   ]
  },
  {
   "cell_type": "markdown",
   "metadata": {},
   "source": [
    "It works!!! That means I can put the lon/lat directly into my pandas dataframe."
   ]
  },
  {
   "cell_type": "markdown",
   "metadata": {},
   "source": [
    "My question now is how to extract a birthdate and birthtime from jumbly data.\n",
    "\n",
    "E.g.:"
   ]
  },
  {
   "cell_type": "code",
   "execution_count": null,
   "metadata": {},
   "outputs": [],
   "source": [
    "'''\n",
    "Steve Cozzi - Birth Chart\n",
    "\n",
    "Gender:Male\n",
    "\n",
    "Date of Birth:16 September 1945 - 02:44h\n",
    "\n",
    "Birth place:Chicago, Illinois\n",
    "\n",
    "Country:United States US, United States\n",
    "\n",
    "Age:74 years\n",
    "\n",
    "Sun:  Vir\n",
    "\n",
    "Moon: Cap\n",
    "\n",
    "ASC:   Leo\n",
    "\n",
    "Life Path: 8\n",
    "\n",
    "Compatibility\n",
    "\n",
    "Occupation:astrologer\n",
    "'''\n",
    "#We need to use regex here.\n",
    "#We're looking for something that looks like...\n",
    "## [1 or 2 numbers] + [space] + [January or February or ... or December] + [space] + [4 numbers] + [space] + [any character] + [space] + [two numbers] + [colon] + two numbers.\n",
    "# ^We want to store this value in our dataframe as 'birthtime' (or 'birthtime_clean' or something).\n",
    "\n",
    "birthtime_patter = [0-9]+' *'+[]...\n"
   ]
  },
  {
   "cell_type": "code",
   "execution_count": 11,
   "metadata": {},
   "outputs": [],
   "source": [
    "#Wait... there's a better way to do this.\n",
    "import time\n"
   ]
  },
  {
   "cell_type": "code",
   "execution_count": 22,
   "metadata": {},
   "outputs": [
    {
     "data": {
      "text/plain": [
       "time.struct_time(tm_year=2005, tm_mon=12, tm_mday=29, tm_hour=0, tm_min=0, tm_sec=0, tm_wday=3, tm_yday=363, tm_isdst=-1)"
      ]
     },
     "execution_count": 22,
     "metadata": {},
     "output_type": "execute_result"
    }
   ],
   "source": [
    "time.strptime('December 29, 2005 Thursday', \"%B %d, %Y %A\")\n",
    "#time.strptime('December 29, 2005 Thursday', \"%B %d, %Y %A\").tm_year\n",
    "#time.strptime('December 29, 2005 Thursday', \"%B %d, %Y %A\").tm_mon\n",
    "#time.strptime('December 29, 2005 Thursday', \"%B %d, %Y %A\").tm_day\n",
    "#time.strptime('December 29, 2005 Thursday', \"%B %d, %Y %A\").tm_hour\n",
    "#time.strptime('December 29, 2005 Thursday', \"%B %d, %Y %A\").tm_min\n"
   ]
  },
  {
   "cell_type": "code",
   "execution_count": 31,
   "metadata": {},
   "outputs": [
    {
     "data": {
      "text/plain": [
       "time.struct_time(tm_year=1945, tm_mon=9, tm_mday=16, tm_hour=2, tm_min=44, tm_sec=0, tm_wday=6, tm_yday=259, tm_isdst=-1)"
      ]
     },
     "execution_count": 31,
     "metadata": {},
     "output_type": "execute_result"
    }
   ],
   "source": [
    "#time.strptime('December 29, 2005 Thursday', \"%B %d, %Y %A\")\n",
    "time.strptime('16 September 1945 - 02:44h', \"%d %B %Y - %H:%Mh\")"
   ]
  },
  {
   "cell_type": "code",
   "execution_count": 41,
   "metadata": {},
   "outputs": [
    {
     "name": "stdout",
     "output_type": "stream",
     "text": [
      "time.struct_time(tm_year=1945, tm_mon=9, tm_mday=16, tm_hour=2, tm_min=44, tm_sec=0, tm_wday=6, tm_yday=259, tm_isdst=-1)\n"
     ]
    }
   ],
   "source": [
    "jarbled_up_txt1 = '''\n",
    "Steve Cozzi - Birth Chart\n",
    "\n",
    "Gender:Male\n",
    "\n",
    "Date of Birth:16 September 1945 - 02:44h\n",
    "\n",
    "Birth place:Chicago, Illinois\n",
    "\n",
    "Country:United States US, United States\n",
    "\n",
    "Age:74 years\n",
    "\n",
    "Sun:  Vir\n",
    "\n",
    "Moon: Cap\n",
    "\n",
    "ASC:   Leo\n",
    "\n",
    "Life Path: 8\n",
    "\n",
    "Compatibility\n",
    "\n",
    "Occupation:astrologer\n",
    "'''\n",
    "jarbled_up_txt2 = '''\n",
    "Frank Black - Birth Chart\n",
    "(Charles Michael Kittredge Thompson IV)\n",
    "Gender:Male\n",
    "Date of Birth:6 April 1965 - 10:29h\n",
    "Birth place:Boston\n",
    "Country:United States US, United States\n",
    "Age:55 years\n",
    "Sun:  Ari\n",
    "Moon: Gem\n",
    "ASC:   Can\n",
    "Life Path: 4\n",
    "Compatibility\n",
    "Occupation:composer, guitarist, singer\n",
    "'''\n",
    "jarbled_up_strng = jarbled_up_txt1.replace('\\n', '')\n",
    "count = 0\n",
    "while count < len(jarbled_up_strng):\n",
    "    try:\n",
    "        #t = time.strptime('16 September 1945 - 02:44h', \"%d %B %Y - %H:%Mh\")\n",
    "        partial_text = jarbled_up_strng[count:]\n",
    "        colon_idx = partial_text.index(':')\n",
    "        new_partial_text = partial_text[:colon_idx + 4]\n",
    "        #print(new_partial_text)\n",
    "        t = time.strptime(new_partial_text, \"%d %B %Y - %H:%Mh\")\n",
    "        print(t)\n",
    "        break\n",
    "    except:\n",
    "        count += 1"
   ]
  },
  {
   "cell_type": "code",
   "execution_count": null,
   "metadata": {},
   "outputs": [],
   "source": []
  }
 ],
 "metadata": {
  "kernelspec": {
   "display_name": "Python 3",
   "language": "python",
   "name": "python3"
  },
  "language_info": {
   "codemirror_mode": {
    "name": "ipython",
    "version": 3
   },
   "file_extension": ".py",
   "mimetype": "text/x-python",
   "name": "python",
   "nbconvert_exporter": "python",
   "pygments_lexer": "ipython3",
   "version": "3.7.1"
  }
 },
 "nbformat": 4,
 "nbformat_minor": 2
}
