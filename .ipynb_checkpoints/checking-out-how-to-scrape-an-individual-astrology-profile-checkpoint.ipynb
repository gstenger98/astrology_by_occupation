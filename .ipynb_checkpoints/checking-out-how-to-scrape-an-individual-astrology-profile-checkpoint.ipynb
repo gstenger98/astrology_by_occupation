{
 "cells": [
  {
   "cell_type": "code",
   "execution_count": 1,
   "metadata": {},
   "outputs": [],
   "source": [
    "import warnings\n",
    "warnings.filterwarnings('ignore')\n",
    "\n",
    "from pymongo import MongoClient\n",
    "import pprint\n",
    "\n",
    "import copy\n",
    "import pandas as pd\n",
    "\n",
    "import requests\n",
    "\n",
    "from bs4 import BeautifulSoup"
   ]
  },
  {
   "cell_type": "code",
   "execution_count": 2,
   "metadata": {},
   "outputs": [],
   "source": [
    "df = pd.read_csv('newest_celeb_list.csv')"
   ]
  },
  {
   "cell_type": "code",
   "execution_count": 3,
   "metadata": {},
   "outputs": [],
   "source": [
    "client = MongoClient('localhost', 27017)\n",
    "db = client.metroid\n",
    "pages = db.pages"
   ]
  },
  {
   "cell_type": "code",
   "execution_count": null,
   "metadata": {},
   "outputs": [],
   "source": [
    "'''\n",
    "<div class=\"detail-info flipthis-highlight\" style=\"width: 440px;\">\n",
    "<div style=\"float: left; width: 310px; overflow: hidden; background: #;\">\n",
    "<div class=\"fl\">\n",
    "<a class=\"tenky-modry\" href=\"https://famouspeople.astro-seek.com/famous-birthdays/16-september\">16 September </a> <a class=\"tenky-modry\" href=\"https://famouspeople.astro-seek.com/famous-birth-year/1945\">1945</a>\n",
    " - 02:44h</div>\n",
    "\n",
    "<div class=\"cl p5\"></div>\n",
    "<div class=\"fl\" style=\"width: 110px;\"><strong>Birth place</strong>:</div>\n",
    "<div class=\"fl\" style=\"width: 190px; background: #;\">\n",
    "Chicago, Illinois</div>\n",
    "<div class=\"cl p2\"></div>\n",
    "<div class=\"cl p2\"></div>\n",
    "'''\n",
    "print('Waddup')"
   ]
  },
  {
   "cell_type": "code",
   "execution_count": 36,
   "metadata": {},
   "outputs": [
    {
     "name": "stdout",
     "output_type": "stream",
     "text": [
      "r_Stephen_Arroyo is returning <Response [200]>\n"
     ]
    }
   ],
   "source": [
    "l = 104786\n",
    "info_lst = []\n",
    "r_dict = {}\n",
    "\n",
    "for i in range(0,1):\n",
    "    proto_celeb_name = df.iloc[i]['name_and_date']\n",
    "    hmm = proto_celeb_name.index('(')\n",
    "    almost_celeb_name = proto_celeb_name[:hmm - 1]\n",
    "    celeb_name = almost_celeb_name.replace(' ', '_')\n",
    "    \n",
    "    r = 'r_' + celeb_name\n",
    "    current_celeb_url = df.iloc[i]['url_list']\n",
    "    r_val = requests.get(current_celeb_url)\n",
    "    print(r + ' is returning ' + str(r_val))\n",
    "    r_dict[r] = r_val\n",
    "    pages.insert_one({'html': r_val.content})\n",
    "\n",
    "    soup = BeautifulSoup(r_val.content, 'html')\n",
    "    \n",
    "    div = soup.find('div', {'style': 'float: left; width: 310px; overflow: hidden; background: #;'})\n",
    "    t = div.text.strip()\n",
    "    #t = ''.join(t)\n",
    "    t = t[29:]\n",
    "    t = t.replace('\\n', '')\n",
    "    info_lst.append(t)\n",
    "    \n",
    "    '''\n",
    "    rows = table.find_all('tr')\n",
    "    all_rows = []\n",
    "    empty_row = {'name_and_date': None, 'name_url': None}\n",
    "\n",
    "    for row in rows[0::2]:\n",
    "        new_row = copy.copy(empty_row)\n",
    "        columns = row.find_all('td')\n",
    "        new_row['name_and_date'] = columns[0].text.strip()\n",
    "        new_row['name_url'] = columns[0].a['href']\n",
    "        #new_row['flag'] = columns[2].text.strip()\n",
    "        #new_row['country'] = columns[3].text.strip()\n",
    "        all_rows.append(new_row)\n",
    "\n",
    "    for elemelem in all_rows:\n",
    "        valvalval.append(elemelem)\n",
    "\n",
    "    all_row_dict[r] = valvalval\n",
    "    '''"
   ]
  },
  {
   "cell_type": "code",
   "execution_count": 37,
   "metadata": {},
   "outputs": [],
   "source": [
    "temporary_df = pd.DataFrame([0,1,2,3])\n"
   ]
  },
  {
   "cell_type": "code",
   "execution_count": 38,
   "metadata": {},
   "outputs": [
    {
     "data": {
      "text/html": [
       "<div>\n",
       "<style scoped>\n",
       "    .dataframe tbody tr th:only-of-type {\n",
       "        vertical-align: middle;\n",
       "    }\n",
       "\n",
       "    .dataframe tbody tr th {\n",
       "        vertical-align: top;\n",
       "    }\n",
       "\n",
       "    .dataframe thead th {\n",
       "        text-align: right;\n",
       "    }\n",
       "</style>\n",
       "<table border=\"1\" class=\"dataframe\">\n",
       "  <thead>\n",
       "    <tr style=\"text-align: right;\">\n",
       "      <th></th>\n",
       "      <th>0</th>\n",
       "    </tr>\n",
       "  </thead>\n",
       "  <tbody>\n",
       "    <tr>\n",
       "      <th>0</th>\n",
       "      <td>0</td>\n",
       "    </tr>\n",
       "    <tr>\n",
       "      <th>1</th>\n",
       "      <td>1</td>\n",
       "    </tr>\n",
       "    <tr>\n",
       "      <th>2</th>\n",
       "      <td>2</td>\n",
       "    </tr>\n",
       "    <tr>\n",
       "      <th>3</th>\n",
       "      <td>3</td>\n",
       "    </tr>\n",
       "  </tbody>\n",
       "</table>\n",
       "</div>"
      ],
      "text/plain": [
       "   0\n",
       "0  0\n",
       "1  1\n",
       "2  2\n",
       "3  3"
      ]
     },
     "execution_count": 38,
     "metadata": {},
     "output_type": "execute_result"
    }
   ],
   "source": [
    "temporary_df"
   ]
  },
  {
   "cell_type": "code",
   "execution_count": null,
   "metadata": {},
   "outputs": [],
   "source": []
  }
 ],
 "metadata": {
  "kernelspec": {
   "display_name": "Python 3",
   "language": "python",
   "name": "python3"
  },
  "language_info": {
   "codemirror_mode": {
    "name": "ipython",
    "version": 3
   },
   "file_extension": ".py",
   "mimetype": "text/x-python",
   "name": "python",
   "nbconvert_exporter": "python",
   "pygments_lexer": "ipython3",
   "version": "3.7.1"
  }
 },
 "nbformat": 4,
 "nbformat_minor": 2
}
