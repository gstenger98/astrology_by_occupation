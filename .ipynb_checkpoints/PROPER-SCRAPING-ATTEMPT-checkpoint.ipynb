{
 "cells": [
  {
   "cell_type": "code",
   "execution_count": 1,
   "metadata": {},
   "outputs": [],
   "source": [
    "import warnings\n",
    "warnings.filterwarnings('ignore')\n",
    "\n",
    "from pymongo import MongoClient\n",
    "import pprint\n",
    "\n",
    "import copy\n",
    "import pandas as pd\n",
    "\n",
    "import requests\n",
    "import numpy as np\n",
    "\n",
    "from bs4 import BeautifulSoup"
   ]
  },
  {
   "cell_type": "markdown",
   "metadata": {},
   "source": [
    "# Summary\n",
    "\n",
    "I will now scrape data from astro-seek.com.\n",
    "\n",
    "I will store the birthplace and birthtime in a list each.\n",
    "\n",
    "I will add these lists to a pandas dataframe (viz. a copy of the dataframe created by newest_celeb_list.csv), and I will export it as a csv.\n",
    "\n",
    "To make things easier, I will go one occupation at a time."
   ]
  },
  {
   "cell_type": "markdown",
   "metadata": {},
   "source": [
    "## Choosing an Occupation\n",
    "\n",
    "I will now choose a couple of occupations."
   ]
  },
  {
   "cell_type": "code",
   "execution_count": 2,
   "metadata": {},
   "outputs": [],
   "source": [
    "df = pd.read_csv('newest_celeb_list.csv')"
   ]
  },
  {
   "cell_type": "code",
   "execution_count": 3,
   "metadata": {},
   "outputs": [
    {
     "data": {
      "text/html": [
       "<div>\n",
       "<style scoped>\n",
       "    .dataframe tbody tr th:only-of-type {\n",
       "        vertical-align: middle;\n",
       "    }\n",
       "\n",
       "    .dataframe tbody tr th {\n",
       "        vertical-align: top;\n",
       "    }\n",
       "\n",
       "    .dataframe thead th {\n",
       "        text-align: right;\n",
       "    }\n",
       "</style>\n",
       "<table border=\"1\" class=\"dataframe\">\n",
       "  <thead>\n",
       "    <tr style=\"text-align: right;\">\n",
       "      <th></th>\n",
       "      <th>occupation</th>\n",
       "      <th>name_and_date</th>\n",
       "      <th>url_list</th>\n",
       "    </tr>\n",
       "  </thead>\n",
       "  <tbody>\n",
       "    <tr>\n",
       "      <th>0</th>\n",
       "      <td>r_astrologers</td>\n",
       "      <td>Stephen Arroyo (*Oct 6, 1946)</td>\n",
       "      <td>https://birthcharts.astro-seek.com/birth-chart...</td>\n",
       "    </tr>\n",
       "    <tr>\n",
       "      <th>1</th>\n",
       "      <td>r_astrologers</td>\n",
       "      <td>Catherine Aubier (*Nov 8, 1941)</td>\n",
       "      <td>https://birthcharts.astro-seek.com/birth-chart...</td>\n",
       "    </tr>\n",
       "    <tr>\n",
       "      <th>2</th>\n",
       "      <td>r_astrologers</td>\n",
       "      <td>Nick Campion (*Mar 4, 1953)</td>\n",
       "      <td>https://birthcharts.astro-seek.com/birth-chart...</td>\n",
       "    </tr>\n",
       "    <tr>\n",
       "      <th>3</th>\n",
       "      <td>r_astrologers</td>\n",
       "      <td>Charubel (*Nov 9, 1826)</td>\n",
       "      <td>https://birthcharts.astro-seek.com/birth-chart...</td>\n",
       "    </tr>\n",
       "    <tr>\n",
       "      <th>4</th>\n",
       "      <td>r_astrologers</td>\n",
       "      <td>Wim Van Dam (*Jul 26, 1950)</td>\n",
       "      <td>https://birthcharts.astro-seek.com/birth-chart...</td>\n",
       "    </tr>\n",
       "  </tbody>\n",
       "</table>\n",
       "</div>"
      ],
      "text/plain": [
       "      occupation                    name_and_date  \\\n",
       "0  r_astrologers    Stephen Arroyo (*Oct 6, 1946)   \n",
       "1  r_astrologers  Catherine Aubier (*Nov 8, 1941)   \n",
       "2  r_astrologers      Nick Campion (*Mar 4, 1953)   \n",
       "3  r_astrologers          Charubel (*Nov 9, 1826)   \n",
       "4  r_astrologers      Wim Van Dam (*Jul 26, 1950)   \n",
       "\n",
       "                                            url_list  \n",
       "0  https://birthcharts.astro-seek.com/birth-chart...  \n",
       "1  https://birthcharts.astro-seek.com/birth-chart...  \n",
       "2  https://birthcharts.astro-seek.com/birth-chart...  \n",
       "3  https://birthcharts.astro-seek.com/birth-chart...  \n",
       "4  https://birthcharts.astro-seek.com/birth-chart...  "
      ]
     },
     "execution_count": 3,
     "metadata": {},
     "output_type": "execute_result"
    }
   ],
   "source": [
    "df.head()"
   ]
  },
  {
   "cell_type": "code",
   "execution_count": 6,
   "metadata": {},
   "outputs": [
    {
     "data": {
      "text/plain": [
       "array(['r_astrologers', 'r_chemists', 'r_cooks', 'r_diplomats',\n",
       "       'r_doctors', 'r_entrepreneurs', 'r_fashion-models',\n",
       "       'r_journalists-publicists', 'r_lawyers', 'r_mathematicians',\n",
       "       'r_philosophers', 'r_physicists', 'r_pilots-aviators',\n",
       "       'r_politicians', 'r_porn-stars', 'r_presenters', 'r_presidents',\n",
       "       'r_priests-theologians', 'r_producers', 'r_psychologists',\n",
       "       'r_rulers', 'r_scientists-inventors', 'r_soldiers',\n",
       "       'r_stunt-performers', 'r_teachers', 'r_the-popes', 'r_translators',\n",
       "       'r_voice-actors', 'r_athletes', 'r_baseball-players',\n",
       "       'r_basketball-players', 'r_figure-skaters', 'r_football-players',\n",
       "       'r_golfers', 'r_gymnasts', 'r_ice-hockey-players',\n",
       "       'r_martial-artists', 'r_racers', 'r_runners-sprinters', 'r_skiers',\n",
       "       'r_swimmers', 'r_tennis-players', 'r_actors', 'r_architects',\n",
       "       'r_artists', 'r_cameramans', 'r_composers', 'r_conductors',\n",
       "       'r_dancers', 'r_designers', 'r_directors', 'r_musicians',\n",
       "       'r_opera-singers', 'r_painters', 'r_photographers', 'r_poets',\n",
       "       'r_script-writers', 'r_sculptors', 'r_singers', 'r_writers',\n",
       "       'r_activists', 'r_cannibals', 'r_children-of-celebs',\n",
       "       'r_directors-ceos', 'r_founders', 'r_murderers', 'r_nazis',\n",
       "       'r_siamese-twins', 'r_transgender', 'r_twins-multiples',\n",
       "       'r_victims'], dtype=object)"
      ]
     },
     "execution_count": 6,
     "metadata": {},
     "output_type": "execute_result"
    }
   ],
   "source": [
    "df.occupation.unique()"
   ]
  },
  {
   "cell_type": "markdown",
   "metadata": {},
   "source": [
    "## I'm Gonna Choose a Few Occupations\n",
    "\n",
    "I will choose 15 to be exact.\n",
    "\n",
    "My list:\n",
    "-chemists\n",
    "-cooks\n",
    "-doctors\n",
    "-entrepreneurs\n",
    "-fashion models\n",
    "-journalists/publicists\n",
    "-lawyers\n",
    "-mathematicians\n",
    "-pilots/aviators\n",
    "-philosophers\n",
    "-physicists\n",
    "-politicians\n",
    "-porn stars\n",
    "-presenters\n",
    "-presidents\n",
    "-priests/theologians\n",
    "-producers\n",
    "-rulers\n",
    "-scientists/inventors\n",
    "-soldiers\n",
    "-baseball players\n",
    "-basketball players\n",
    "-martial artists\n",
    "-racers\n",
    "-tennis players\n",
    "-actors (shorten this list though)\n",
    "-architects\n",
    "-artists\n",
    "-composers\n",
    "-dancers\n",
    "-designers\n",
    "-directors (shorten this list though)\n",
    "-musicians\n",
    "-painters\n",
    "-photographers\n",
    "-poets (cut this list in half)\n",
    "-script writers (shorten this list though)\n",
    "-sculptors\n",
    "-singers\n",
    "-writers (cut this list in half)\n",
    "-activists\n",
    "-founders\n",
    "\n",
    "Ok, I need to shorten this list. First, I'll organize it into categories:\n",
    "\n",
    "\n",
    "SCIENCE\n",
    "-scientists/inventors\n",
    "-chemists\n",
    "-cooks\n",
    "-doctors\n",
    "-physicists\n",
    "\n",
    "\n",
    "BUSINESS\n",
    "-entrepreneurs\n",
    "-designers\n",
    "-architects\n",
    "\n",
    "\n",
    "MODELING\n",
    "-fashion models\n",
    "-porn stars\n",
    "\n",
    "\n",
    "\n",
    "WRITER\n",
    "-journalists/publicists\n",
    "-poets (cut this list in half)\n",
    "-writers (cut this list in half)\n",
    "\n",
    "\n",
    "\n",
    "ARTS\n",
    "-artists\n",
    "-painters\n",
    "-photographers\n",
    "-sculptors\n",
    "\n",
    "\n",
    "\n",
    "\n",
    "\n",
    "LEADER\n",
    "-rulers\n",
    "-presidents\n",
    "-priests/theologians\n",
    "-politicians\n",
    "-founders\n",
    "\n",
    "\n",
    "\n",
    "ACADEMIC\n",
    "-mathematicians\n",
    "-philosophers\n",
    "\n",
    "\n",
    "\n",
    "ATHLETE\n",
    "-baseball players\n",
    "-basketball players\n",
    "-martial artists\n",
    "-racers\n",
    "-tennis players\n",
    "\n",
    "\n",
    "\n",
    "FINE_ARTS/CINEMA\n",
    "-actors (shorten this list though)\n",
    "-producers\n",
    "-script writers (shorten this list though)\n",
    "-dancers\n",
    "-directors (shorten this list though)\n",
    "\n",
    "\n",
    "\n",
    "\n",
    "MUSIC\n",
    "-singers\n",
    "-musicians\n",
    "-composers\n",
    "\n",
    "\n",
    "\n",
    "OTHER\n",
    "-lawyers\n",
    "-pilots/aviators\n",
    "-soldiers\n",
    "-activists\n",
    "-presenters\n",
    "\n",
    "\n",
    "\n",
    "\n",
    "...Ok, well that's 42 occupations. That's fine I guess"
   ]
  },
  {
   "cell_type": "code",
   "execution_count": 8,
   "metadata": {},
   "outputs": [
    {
     "data": {
      "text/plain": [
       "array(['r_astrologers', 'r_chemists', 'r_cooks', 'r_diplomats',\n",
       "       'r_doctors', 'r_entrepreneurs', 'r_fashion-models',\n",
       "       'r_journalists-publicists', 'r_lawyers', 'r_mathematicians',\n",
       "       'r_philosophers', 'r_physicists', 'r_pilots-aviators',\n",
       "       'r_politicians', 'r_porn-stars', 'r_presenters', 'r_presidents',\n",
       "       'r_priests-theologians', 'r_producers', 'r_psychologists',\n",
       "       'r_rulers', 'r_scientists-inventors', 'r_soldiers',\n",
       "       'r_stunt-performers', 'r_teachers', 'r_the-popes', 'r_translators',\n",
       "       'r_voice-actors', 'r_athletes', 'r_baseball-players',\n",
       "       'r_basketball-players', 'r_figure-skaters', 'r_football-players',\n",
       "       'r_golfers', 'r_gymnasts', 'r_ice-hockey-players',\n",
       "       'r_martial-artists', 'r_racers', 'r_runners-sprinters', 'r_skiers',\n",
       "       'r_swimmers', 'r_tennis-players', 'r_actors', 'r_architects',\n",
       "       'r_artists', 'r_cameramans', 'r_composers', 'r_conductors',\n",
       "       'r_dancers', 'r_designers', 'r_directors', 'r_musicians',\n",
       "       'r_opera-singers', 'r_painters', 'r_photographers', 'r_poets',\n",
       "       'r_script-writers', 'r_sculptors', 'r_singers', 'r_writers',\n",
       "       'r_activists', 'r_cannibals', 'r_children-of-celebs',\n",
       "       'r_directors-ceos', 'r_founders', 'r_murderers', 'r_nazis',\n",
       "       'r_siamese-twins', 'r_transgender', 'r_twins-multiples',\n",
       "       'r_victims'], dtype=object)"
      ]
     },
     "execution_count": 8,
     "metadata": {},
     "output_type": "execute_result"
    }
   ],
   "source": [
    "df.occupation.unique()"
   ]
  },
  {
   "cell_type": "code",
   "execution_count": 14,
   "metadata": {},
   "outputs": [],
   "source": [
    "occupations_list_shortened = [\n",
    "'r_scientists-inventors',\n",
    "'r_chemists',\n",
    "'r_cooks',\n",
    "'r_doctors',\n",
    "'r_physicists',\n",
    "'r_entrepreneurs',\n",
    "'r_designers',\n",
    "'r_architects',\n",
    "'r_fashion-models',\n",
    "'r_porn-stars',\n",
    "'r_journalists-publicists',\n",
    "'r_poets',\n",
    "'r_writers',\n",
    "'r_artists',\n",
    "'r_painters',\n",
    "'r_photographers',\n",
    "'r_sculptors',\n",
    "'r_rulers',\n",
    "'r_presidents',\n",
    "'r_priests-theologians',\n",
    "'r_politicians',\n",
    "'r_founders',\n",
    "'r_mathematicians',\n",
    "'r_philosophers',\n",
    "'r_basketball-players',\n",
    "'r_baseball-players',\n",
    "'r_martial-artists',\n",
    "'r_racers',\n",
    "'r_tennis-players',\n",
    "'r_actors',\n",
    "'r_producers',\n",
    "'r_script-writers',\n",
    "'r_dancers',\n",
    "'r_directors-ceos',\n",
    "'r_singers',\n",
    "'r_musicians',\n",
    "'r_composers',\n",
    "'r_lawyers',\n",
    "'r_pilots-aviators',\n",
    "'r_soldiers',\n",
    "'r_activists',\n",
    "'r_presenters']"
   ]
  },
  {
   "cell_type": "code",
   "execution_count": 15,
   "metadata": {},
   "outputs": [
    {
     "name": "stdout",
     "output_type": "stream",
     "text": [
      "['r_scientists-inventors', 'r_chemists', 'r_cooks', 'r_doctors', 'r_physicists', 'r_entrepreneurs', 'r_designers', 'r_architects', 'r_fashion-models', 'r_porn-stars', 'r_journalists-publicists', 'r_poets', 'r_writers', 'r_artists', 'r_painters', 'r_photographers', 'r_sculptors', 'r_rulers', 'r_presidents', 'r_priests-theologians', 'r_politicians', 'r_founders', 'r_mathematicians', 'r_philosophers', 'r_basketball-players', 'r_baseball-players', 'r_martial-artists', 'r_racers', 'r_tennis-players', 'r_actors', 'r_producers', 'r_script-writers', 'r_dancers', 'r_directors-ceos', 'r_singers', 'r_musicians', 'r_composers', 'r_lawyers', 'r_pilots-aviators', 'r_soldiers', 'r_activists', 'r_presenters']\n"
     ]
    }
   ],
   "source": [
    "print(occupations_list_shortened)"
   ]
  },
  {
   "cell_type": "markdown",
   "metadata": {},
   "source": [
    "Ok, now we make a function which accepts an occupation and creates an appropriate dataframe.\n",
    "\n",
    "My idea is to mark the index of the first instance and of the last instance for each occupation.\n",
    "\n",
    "Afterwards, we just scrape the urls from those rows."
   ]
  },
  {
   "cell_type": "code",
   "execution_count": 18,
   "metadata": {},
   "outputs": [
    {
     "name": "stdout",
     "output_type": "stream",
     "text": [
      "r_scientists-inventors\n",
      "11140\n",
      "11371\n",
      "r_chemists\n",
      "957\n",
      "1128\n",
      "r_cooks\n",
      "1129\n",
      "1340\n",
      "r_doctors\n",
      "1434\n",
      "1587\n",
      "r_physicists\n",
      "4802\n",
      "5217\n",
      "r_entrepreneurs\n",
      "1588\n",
      "2105\n",
      "r_designers\n",
      "70129\n",
      "70393\n",
      "r_architects\n",
      "65332\n",
      "65691\n",
      "r_fashion-models\n",
      "2106\n",
      "3528\n",
      "r_porn-stars\n",
      "8347\n",
      "8637\n",
      "r_journalists-publicists\n",
      "3529\n",
      "4295\n",
      "r_poets\n",
      "86097\n",
      "86814\n",
      "r_writers\n",
      "98771\n",
      "103668\n",
      "r_artists\n",
      "65692\n",
      "66157\n",
      "r_painters\n",
      "85235\n",
      "85951\n",
      "r_photographers\n",
      "85952\n",
      "86096\n",
      "r_sculptors\n",
      "92268\n",
      "92406\n",
      "r_rulers\n",
      "11030\n",
      "11139\n",
      "r_presidents\n",
      "9150\n",
      "9357\n",
      "r_priests-theologians\n",
      "9358\n",
      "9540\n",
      "r_politicians\n",
      "5386\n",
      "8346\n",
      "r_founders\n",
      "104031\n",
      "104230\n",
      "r_mathematicians\n",
      "4468\n",
      "4588\n",
      "r_philosophers\n",
      "4589\n",
      "4801\n",
      "r_basketball-players\n",
      "13490\n",
      "14169\n",
      "r_baseball-players\n",
      "13043\n",
      "13489\n",
      "r_martial-artists\n",
      "15848\n",
      "16279\n",
      "r_racers\n",
      "16280\n",
      "16568\n",
      "r_tennis-players\n",
      "16963\n",
      "17347\n",
      "r_actors\n",
      "17348\n",
      "65331\n",
      "r_producers\n",
      "9541\n",
      "10900\n",
      "r_script-writers\n",
      "86815\n",
      "92267\n",
      "r_dancers\n",
      "69432\n",
      "70128\n",
      "r_directors-ceos\n",
      "103986\n",
      "104030\n",
      "r_singers\n",
      "92407\n",
      "98770\n",
      "r_musicians\n",
      "83079\n",
      "85157\n",
      "r_composers\n",
      "67077\n",
      "69326\n",
      "r_lawyers\n",
      "4296\n",
      "4467\n",
      "r_pilots-aviators\n",
      "5218\n",
      "5385\n",
      "r_soldiers\n",
      "11372\n",
      "11717\n",
      "r_activists\n",
      "103669\n",
      "103822\n",
      "r_presenters\n",
      "8638\n",
      "9149\n",
      "{'r_scientists-inventors': [11140, 11371], 'r_chemists': [957, 1128], 'r_cooks': [1129, 1340], 'r_doctors': [1434, 1587], 'r_physicists': [4802, 5217], 'r_entrepreneurs': [1588, 2105], 'r_designers': [70129, 70393], 'r_architects': [65332, 65691], 'r_fashion-models': [2106, 3528], 'r_porn-stars': [8347, 8637], 'r_journalists-publicists': [3529, 4295], 'r_poets': [86097, 86814], 'r_writers': [98771, 103668], 'r_artists': [65692, 66157], 'r_painters': [85235, 85951], 'r_photographers': [85952, 86096], 'r_sculptors': [92268, 92406], 'r_rulers': [11030, 11139], 'r_presidents': [9150, 9357], 'r_priests-theologians': [9358, 9540], 'r_politicians': [5386, 8346], 'r_founders': [104031, 104230], 'r_mathematicians': [4468, 4588], 'r_philosophers': [4589, 4801], 'r_basketball-players': [13490, 14169], 'r_baseball-players': [13043, 13489], 'r_martial-artists': [15848, 16279], 'r_racers': [16280, 16568], 'r_tennis-players': [16963, 17347], 'r_actors': [17348, 65331], 'r_producers': [9541, 10900], 'r_script-writers': [86815, 92267], 'r_dancers': [69432, 70128], 'r_directors-ceos': [103986, 104030], 'r_singers': [92407, 98770], 'r_musicians': [83079, 85157], 'r_composers': [67077, 69326], 'r_lawyers': [4296, 4467], 'r_pilots-aviators': [5218, 5385], 'r_soldiers': [11372, 11717], 'r_activists': [103669, 103822], 'r_presenters': [8638, 9149]}\n"
     ]
    }
   ],
   "source": [
    "first_and_last_row_dict = {}\n",
    "\n",
    "for o in occupations_list_shortened:\n",
    "    print(o)\n",
    "    temp_idx = np.where(df['occupation'] == o)\n",
    "    #print(temp_idx)\n",
    "    temp_val_i = temp_idx[0][0].item()\n",
    "    print(temp_val_i)\n",
    "    temp_val_ii = temp_idx[0][-1].item()\n",
    "    print(temp_val_ii)\n",
    "    first_and_last_row_dict[o] = [temp_val_i, temp_val_ii]\n",
    "    \n",
    "print(first_and_last_row_dict)"
   ]
  },
  {
   "cell_type": "code",
   "execution_count": 26,
   "metadata": {},
   "outputs": [
    {
     "data": {
      "text/html": [
       "<div>\n",
       "<style scoped>\n",
       "    .dataframe tbody tr th:only-of-type {\n",
       "        vertical-align: middle;\n",
       "    }\n",
       "\n",
       "    .dataframe tbody tr th {\n",
       "        vertical-align: top;\n",
       "    }\n",
       "\n",
       "    .dataframe thead th {\n",
       "        text-align: right;\n",
       "    }\n",
       "</style>\n",
       "<table border=\"1\" class=\"dataframe\">\n",
       "  <thead>\n",
       "    <tr style=\"text-align: right;\">\n",
       "      <th></th>\n",
       "      <th>occupation</th>\n",
       "      <th>name_and_date</th>\n",
       "      <th>url_list</th>\n",
       "    </tr>\n",
       "  </thead>\n",
       "  <tbody>\n",
       "    <tr>\n",
       "      <th>11717</th>\n",
       "      <td>r_soldiers</td>\n",
       "      <td>Josef Mašín (*Aug 26, 1896)</td>\n",
       "      <td>https://birthcharts.astro-seek.com/birth-chart...</td>\n",
       "    </tr>\n",
       "    <tr>\n",
       "      <th>11718</th>\n",
       "      <td>r_stunt-performers</td>\n",
       "      <td>Jackie Chan (*Apr 7, 1954)</td>\n",
       "      <td>https://birthcharts.astro-seek.com/birth-chart...</td>\n",
       "    </tr>\n",
       "  </tbody>\n",
       "</table>\n",
       "</div>"
      ],
      "text/plain": [
       "               occupation                name_and_date  \\\n",
       "11717          r_soldiers  Josef Mašín (*Aug 26, 1896)   \n",
       "11718  r_stunt-performers   Jackie Chan (*Apr 7, 1954)   \n",
       "\n",
       "                                                url_list  \n",
       "11717  https://birthcharts.astro-seek.com/birth-chart...  \n",
       "11718  https://birthcharts.astro-seek.com/birth-chart...  "
      ]
     },
     "execution_count": 26,
     "metadata": {},
     "output_type": "execute_result"
    }
   ],
   "source": [
    "# check...\n",
    "df.iloc[11717:11719]"
   ]
  },
  {
   "cell_type": "code",
   "execution_count": 27,
   "metadata": {},
   "outputs": [],
   "source": [
    "client = MongoClient('localhost', 27017)\n",
    "db = client.metroid\n",
    "pages = db.pages"
   ]
  },
  {
   "cell_type": "code",
   "execution_count": 83,
   "metadata": {},
   "outputs": [
    {
     "data": {
      "text/plain": [
       "65692"
      ]
     },
     "execution_count": 83,
     "metadata": {},
     "output_type": "execute_result"
    }
   ],
   "source": [
    "first_and_last_row_dict['r_artists'][0]"
   ]
  },
  {
   "cell_type": "code",
   "execution_count": 84,
   "metadata": {},
   "outputs": [
    {
     "data": {
      "text/plain": [
       "11140"
      ]
     },
     "execution_count": 84,
     "metadata": {},
     "output_type": "execute_result"
    }
   ],
   "source": [
    "first_and_last_row_dict[occupations_list_shortened[0]][0]"
   ]
  },
  {
   "cell_type": "code",
   "execution_count": 78,
   "metadata": {},
   "outputs": [],
   "source": [
    "temporary_df_dict = {}"
   ]
  },
  {
   "cell_type": "code",
   "execution_count": 104,
   "metadata": {},
   "outputs": [
    {
     "name": "stdout",
     "output_type": "stream",
     "text": [
      "['r_journalists-publicists', 'r_poets', 'r_writers', 'r_artists', 'r_painters', 'r_photographers', 'r_sculptors', 'r_rulers', 'r_presidents', 'r_priests-theologians', 'r_politicians', 'r_founders', 'r_mathematicians', 'r_philosophers', 'r_basketball-players', 'r_baseball-players', 'r_martial-artists', 'r_racers', 'r_tennis-players', 'r_actors', 'r_producers', 'r_script-writers', 'r_dancers', 'r_directors-ceos', 'r_singers', 'r_musicians', 'r_composers', 'r_lawyers', 'r_pilots-aviators', 'r_soldiers', 'r_activists', 'r_presenters']\n"
     ]
    },
    {
     "ename": "KeyboardInterrupt",
     "evalue": "",
     "output_type": "error",
     "traceback": [
      "\u001b[0;31m---------------------------------------------------------------------------\u001b[0m",
      "\u001b[0;31mKeyboardInterrupt\u001b[0m                         Traceback (most recent call last)",
      "\u001b[0;32m<ipython-input-104-63112237002d>\u001b[0m in \u001b[0;36m<module>\u001b[0;34m\u001b[0m\n\u001b[1;32m     25\u001b[0m         \u001b[0mr\u001b[0m \u001b[0;34m=\u001b[0m \u001b[0;34m'r_'\u001b[0m \u001b[0;34m+\u001b[0m \u001b[0mceleb_name\u001b[0m\u001b[0;34m\u001b[0m\u001b[0;34m\u001b[0m\u001b[0m\n\u001b[1;32m     26\u001b[0m         \u001b[0mcurrent_celeb_url\u001b[0m \u001b[0;34m=\u001b[0m \u001b[0mdf\u001b[0m\u001b[0;34m.\u001b[0m\u001b[0miloc\u001b[0m\u001b[0;34m[\u001b[0m\u001b[0mi\u001b[0m\u001b[0;34m]\u001b[0m\u001b[0;34m[\u001b[0m\u001b[0;34m'url_list'\u001b[0m\u001b[0;34m]\u001b[0m\u001b[0;34m\u001b[0m\u001b[0;34m\u001b[0m\u001b[0m\n\u001b[0;32m---> 27\u001b[0;31m         \u001b[0mr_val\u001b[0m \u001b[0;34m=\u001b[0m \u001b[0mrequests\u001b[0m\u001b[0;34m.\u001b[0m\u001b[0mget\u001b[0m\u001b[0;34m(\u001b[0m\u001b[0mcurrent_celeb_url\u001b[0m\u001b[0;34m)\u001b[0m\u001b[0;34m\u001b[0m\u001b[0;34m\u001b[0m\u001b[0m\n\u001b[0m\u001b[1;32m     28\u001b[0m         \u001b[0;31m#print(r + ' is returning ' + str(r_val))\u001b[0m\u001b[0;34m\u001b[0m\u001b[0;34m\u001b[0m\u001b[0;34m\u001b[0m\u001b[0m\n\u001b[1;32m     29\u001b[0m         \u001b[0mo_r_dict\u001b[0m\u001b[0;34m[\u001b[0m\u001b[0mr\u001b[0m\u001b[0;34m]\u001b[0m \u001b[0;34m=\u001b[0m \u001b[0mr_val\u001b[0m\u001b[0;34m\u001b[0m\u001b[0;34m\u001b[0m\u001b[0m\n",
      "\u001b[0;32m/anaconda3/lib/python3.7/site-packages/requests/api.py\u001b[0m in \u001b[0;36mget\u001b[0;34m(url, params, **kwargs)\u001b[0m\n\u001b[1;32m     73\u001b[0m \u001b[0;34m\u001b[0m\u001b[0m\n\u001b[1;32m     74\u001b[0m     \u001b[0mkwargs\u001b[0m\u001b[0;34m.\u001b[0m\u001b[0msetdefault\u001b[0m\u001b[0;34m(\u001b[0m\u001b[0;34m'allow_redirects'\u001b[0m\u001b[0;34m,\u001b[0m \u001b[0;32mTrue\u001b[0m\u001b[0;34m)\u001b[0m\u001b[0;34m\u001b[0m\u001b[0;34m\u001b[0m\u001b[0m\n\u001b[0;32m---> 75\u001b[0;31m     \u001b[0;32mreturn\u001b[0m \u001b[0mrequest\u001b[0m\u001b[0;34m(\u001b[0m\u001b[0;34m'get'\u001b[0m\u001b[0;34m,\u001b[0m \u001b[0murl\u001b[0m\u001b[0;34m,\u001b[0m \u001b[0mparams\u001b[0m\u001b[0;34m=\u001b[0m\u001b[0mparams\u001b[0m\u001b[0;34m,\u001b[0m \u001b[0;34m**\u001b[0m\u001b[0mkwargs\u001b[0m\u001b[0;34m)\u001b[0m\u001b[0;34m\u001b[0m\u001b[0;34m\u001b[0m\u001b[0m\n\u001b[0m\u001b[1;32m     76\u001b[0m \u001b[0;34m\u001b[0m\u001b[0m\n\u001b[1;32m     77\u001b[0m \u001b[0;34m\u001b[0m\u001b[0m\n",
      "\u001b[0;32m/anaconda3/lib/python3.7/site-packages/requests/api.py\u001b[0m in \u001b[0;36mrequest\u001b[0;34m(method, url, **kwargs)\u001b[0m\n\u001b[1;32m     58\u001b[0m     \u001b[0;31m# cases, and look like a memory leak in others.\u001b[0m\u001b[0;34m\u001b[0m\u001b[0;34m\u001b[0m\u001b[0;34m\u001b[0m\u001b[0m\n\u001b[1;32m     59\u001b[0m     \u001b[0;32mwith\u001b[0m \u001b[0msessions\u001b[0m\u001b[0;34m.\u001b[0m\u001b[0mSession\u001b[0m\u001b[0;34m(\u001b[0m\u001b[0;34m)\u001b[0m \u001b[0;32mas\u001b[0m \u001b[0msession\u001b[0m\u001b[0;34m:\u001b[0m\u001b[0;34m\u001b[0m\u001b[0;34m\u001b[0m\u001b[0m\n\u001b[0;32m---> 60\u001b[0;31m         \u001b[0;32mreturn\u001b[0m \u001b[0msession\u001b[0m\u001b[0;34m.\u001b[0m\u001b[0mrequest\u001b[0m\u001b[0;34m(\u001b[0m\u001b[0mmethod\u001b[0m\u001b[0;34m=\u001b[0m\u001b[0mmethod\u001b[0m\u001b[0;34m,\u001b[0m \u001b[0murl\u001b[0m\u001b[0;34m=\u001b[0m\u001b[0murl\u001b[0m\u001b[0;34m,\u001b[0m \u001b[0;34m**\u001b[0m\u001b[0mkwargs\u001b[0m\u001b[0;34m)\u001b[0m\u001b[0;34m\u001b[0m\u001b[0;34m\u001b[0m\u001b[0m\n\u001b[0m\u001b[1;32m     61\u001b[0m \u001b[0;34m\u001b[0m\u001b[0m\n\u001b[1;32m     62\u001b[0m \u001b[0;34m\u001b[0m\u001b[0m\n",
      "\u001b[0;32m/anaconda3/lib/python3.7/site-packages/requests/sessions.py\u001b[0m in \u001b[0;36mrequest\u001b[0;34m(self, method, url, params, data, headers, cookies, files, auth, timeout, allow_redirects, proxies, hooks, stream, verify, cert, json)\u001b[0m\n\u001b[1;32m    531\u001b[0m         }\n\u001b[1;32m    532\u001b[0m         \u001b[0msend_kwargs\u001b[0m\u001b[0;34m.\u001b[0m\u001b[0mupdate\u001b[0m\u001b[0;34m(\u001b[0m\u001b[0msettings\u001b[0m\u001b[0;34m)\u001b[0m\u001b[0;34m\u001b[0m\u001b[0;34m\u001b[0m\u001b[0m\n\u001b[0;32m--> 533\u001b[0;31m         \u001b[0mresp\u001b[0m \u001b[0;34m=\u001b[0m \u001b[0mself\u001b[0m\u001b[0;34m.\u001b[0m\u001b[0msend\u001b[0m\u001b[0;34m(\u001b[0m\u001b[0mprep\u001b[0m\u001b[0;34m,\u001b[0m \u001b[0;34m**\u001b[0m\u001b[0msend_kwargs\u001b[0m\u001b[0;34m)\u001b[0m\u001b[0;34m\u001b[0m\u001b[0;34m\u001b[0m\u001b[0m\n\u001b[0m\u001b[1;32m    534\u001b[0m \u001b[0;34m\u001b[0m\u001b[0m\n\u001b[1;32m    535\u001b[0m         \u001b[0;32mreturn\u001b[0m \u001b[0mresp\u001b[0m\u001b[0;34m\u001b[0m\u001b[0;34m\u001b[0m\u001b[0m\n",
      "\u001b[0;32m/anaconda3/lib/python3.7/site-packages/requests/sessions.py\u001b[0m in \u001b[0;36msend\u001b[0;34m(self, request, **kwargs)\u001b[0m\n\u001b[1;32m    644\u001b[0m \u001b[0;34m\u001b[0m\u001b[0m\n\u001b[1;32m    645\u001b[0m         \u001b[0;31m# Send the request\u001b[0m\u001b[0;34m\u001b[0m\u001b[0;34m\u001b[0m\u001b[0;34m\u001b[0m\u001b[0m\n\u001b[0;32m--> 646\u001b[0;31m         \u001b[0mr\u001b[0m \u001b[0;34m=\u001b[0m \u001b[0madapter\u001b[0m\u001b[0;34m.\u001b[0m\u001b[0msend\u001b[0m\u001b[0;34m(\u001b[0m\u001b[0mrequest\u001b[0m\u001b[0;34m,\u001b[0m \u001b[0;34m**\u001b[0m\u001b[0mkwargs\u001b[0m\u001b[0;34m)\u001b[0m\u001b[0;34m\u001b[0m\u001b[0;34m\u001b[0m\u001b[0m\n\u001b[0m\u001b[1;32m    647\u001b[0m \u001b[0;34m\u001b[0m\u001b[0m\n\u001b[1;32m    648\u001b[0m         \u001b[0;31m# Total elapsed time of the request (approximately)\u001b[0m\u001b[0;34m\u001b[0m\u001b[0;34m\u001b[0m\u001b[0;34m\u001b[0m\u001b[0m\n",
      "\u001b[0;32m/anaconda3/lib/python3.7/site-packages/requests/adapters.py\u001b[0m in \u001b[0;36msend\u001b[0;34m(self, request, stream, timeout, verify, cert, proxies)\u001b[0m\n\u001b[1;32m    447\u001b[0m                     \u001b[0mdecode_content\u001b[0m\u001b[0;34m=\u001b[0m\u001b[0;32mFalse\u001b[0m\u001b[0;34m,\u001b[0m\u001b[0;34m\u001b[0m\u001b[0;34m\u001b[0m\u001b[0m\n\u001b[1;32m    448\u001b[0m                     \u001b[0mretries\u001b[0m\u001b[0;34m=\u001b[0m\u001b[0mself\u001b[0m\u001b[0;34m.\u001b[0m\u001b[0mmax_retries\u001b[0m\u001b[0;34m,\u001b[0m\u001b[0;34m\u001b[0m\u001b[0;34m\u001b[0m\u001b[0m\n\u001b[0;32m--> 449\u001b[0;31m                     \u001b[0mtimeout\u001b[0m\u001b[0;34m=\u001b[0m\u001b[0mtimeout\u001b[0m\u001b[0;34m\u001b[0m\u001b[0;34m\u001b[0m\u001b[0m\n\u001b[0m\u001b[1;32m    450\u001b[0m                 )\n\u001b[1;32m    451\u001b[0m \u001b[0;34m\u001b[0m\u001b[0m\n",
      "\u001b[0;32m/anaconda3/lib/python3.7/site-packages/urllib3/connectionpool.py\u001b[0m in \u001b[0;36murlopen\u001b[0;34m(self, method, url, body, headers, retries, redirect, assert_same_host, timeout, pool_timeout, release_conn, chunked, body_pos, **response_kw)\u001b[0m\n\u001b[1;32m    598\u001b[0m                                                   \u001b[0mtimeout\u001b[0m\u001b[0;34m=\u001b[0m\u001b[0mtimeout_obj\u001b[0m\u001b[0;34m,\u001b[0m\u001b[0;34m\u001b[0m\u001b[0;34m\u001b[0m\u001b[0m\n\u001b[1;32m    599\u001b[0m                                                   \u001b[0mbody\u001b[0m\u001b[0;34m=\u001b[0m\u001b[0mbody\u001b[0m\u001b[0;34m,\u001b[0m \u001b[0mheaders\u001b[0m\u001b[0;34m=\u001b[0m\u001b[0mheaders\u001b[0m\u001b[0;34m,\u001b[0m\u001b[0;34m\u001b[0m\u001b[0;34m\u001b[0m\u001b[0m\n\u001b[0;32m--> 600\u001b[0;31m                                                   chunked=chunked)\n\u001b[0m\u001b[1;32m    601\u001b[0m \u001b[0;34m\u001b[0m\u001b[0m\n\u001b[1;32m    602\u001b[0m             \u001b[0;31m# If we're going to release the connection in ``finally:``, then\u001b[0m\u001b[0;34m\u001b[0m\u001b[0;34m\u001b[0m\u001b[0;34m\u001b[0m\u001b[0m\n",
      "\u001b[0;32m/anaconda3/lib/python3.7/site-packages/urllib3/connectionpool.py\u001b[0m in \u001b[0;36m_make_request\u001b[0;34m(self, conn, method, url, timeout, chunked, **httplib_request_kw)\u001b[0m\n\u001b[1;32m    341\u001b[0m         \u001b[0;31m# Trigger any extra validation we need to do.\u001b[0m\u001b[0;34m\u001b[0m\u001b[0;34m\u001b[0m\u001b[0;34m\u001b[0m\u001b[0m\n\u001b[1;32m    342\u001b[0m         \u001b[0;32mtry\u001b[0m\u001b[0;34m:\u001b[0m\u001b[0;34m\u001b[0m\u001b[0;34m\u001b[0m\u001b[0m\n\u001b[0;32m--> 343\u001b[0;31m             \u001b[0mself\u001b[0m\u001b[0;34m.\u001b[0m\u001b[0m_validate_conn\u001b[0m\u001b[0;34m(\u001b[0m\u001b[0mconn\u001b[0m\u001b[0;34m)\u001b[0m\u001b[0;34m\u001b[0m\u001b[0;34m\u001b[0m\u001b[0m\n\u001b[0m\u001b[1;32m    344\u001b[0m         \u001b[0;32mexcept\u001b[0m \u001b[0;34m(\u001b[0m\u001b[0mSocketTimeout\u001b[0m\u001b[0;34m,\u001b[0m \u001b[0mBaseSSLError\u001b[0m\u001b[0;34m)\u001b[0m \u001b[0;32mas\u001b[0m \u001b[0me\u001b[0m\u001b[0;34m:\u001b[0m\u001b[0;34m\u001b[0m\u001b[0;34m\u001b[0m\u001b[0m\n\u001b[1;32m    345\u001b[0m             \u001b[0;31m# Py2 raises this as a BaseSSLError, Py3 raises it as socket timeout.\u001b[0m\u001b[0;34m\u001b[0m\u001b[0;34m\u001b[0m\u001b[0;34m\u001b[0m\u001b[0m\n",
      "\u001b[0;32m/anaconda3/lib/python3.7/site-packages/urllib3/connectionpool.py\u001b[0m in \u001b[0;36m_validate_conn\u001b[0;34m(self, conn)\u001b[0m\n\u001b[1;32m    837\u001b[0m         \u001b[0;31m# Force connect early to allow us to validate the connection.\u001b[0m\u001b[0;34m\u001b[0m\u001b[0;34m\u001b[0m\u001b[0;34m\u001b[0m\u001b[0m\n\u001b[1;32m    838\u001b[0m         \u001b[0;32mif\u001b[0m \u001b[0;32mnot\u001b[0m \u001b[0mgetattr\u001b[0m\u001b[0;34m(\u001b[0m\u001b[0mconn\u001b[0m\u001b[0;34m,\u001b[0m \u001b[0;34m'sock'\u001b[0m\u001b[0;34m,\u001b[0m \u001b[0;32mNone\u001b[0m\u001b[0;34m)\u001b[0m\u001b[0;34m:\u001b[0m  \u001b[0;31m# AppEngine might not have  `.sock`\u001b[0m\u001b[0;34m\u001b[0m\u001b[0;34m\u001b[0m\u001b[0m\n\u001b[0;32m--> 839\u001b[0;31m             \u001b[0mconn\u001b[0m\u001b[0;34m.\u001b[0m\u001b[0mconnect\u001b[0m\u001b[0;34m(\u001b[0m\u001b[0;34m)\u001b[0m\u001b[0;34m\u001b[0m\u001b[0;34m\u001b[0m\u001b[0m\n\u001b[0m\u001b[1;32m    840\u001b[0m \u001b[0;34m\u001b[0m\u001b[0m\n\u001b[1;32m    841\u001b[0m         \u001b[0;32mif\u001b[0m \u001b[0;32mnot\u001b[0m \u001b[0mconn\u001b[0m\u001b[0;34m.\u001b[0m\u001b[0mis_verified\u001b[0m\u001b[0;34m:\u001b[0m\u001b[0;34m\u001b[0m\u001b[0;34m\u001b[0m\u001b[0m\n",
      "\u001b[0;32m/anaconda3/lib/python3.7/site-packages/urllib3/connection.py\u001b[0m in \u001b[0;36mconnect\u001b[0;34m(self)\u001b[0m\n\u001b[1;32m    342\u001b[0m             \u001b[0mca_cert_dir\u001b[0m\u001b[0;34m=\u001b[0m\u001b[0mself\u001b[0m\u001b[0;34m.\u001b[0m\u001b[0mca_cert_dir\u001b[0m\u001b[0;34m,\u001b[0m\u001b[0;34m\u001b[0m\u001b[0;34m\u001b[0m\u001b[0m\n\u001b[1;32m    343\u001b[0m             \u001b[0mserver_hostname\u001b[0m\u001b[0;34m=\u001b[0m\u001b[0mserver_hostname\u001b[0m\u001b[0;34m,\u001b[0m\u001b[0;34m\u001b[0m\u001b[0;34m\u001b[0m\u001b[0m\n\u001b[0;32m--> 344\u001b[0;31m             ssl_context=context)\n\u001b[0m\u001b[1;32m    345\u001b[0m \u001b[0;34m\u001b[0m\u001b[0m\n\u001b[1;32m    346\u001b[0m         \u001b[0;32mif\u001b[0m \u001b[0mself\u001b[0m\u001b[0;34m.\u001b[0m\u001b[0massert_fingerprint\u001b[0m\u001b[0;34m:\u001b[0m\u001b[0;34m\u001b[0m\u001b[0;34m\u001b[0m\u001b[0m\n",
      "\u001b[0;32m/anaconda3/lib/python3.7/site-packages/urllib3/util/ssl_.py\u001b[0m in \u001b[0;36mssl_wrap_socket\u001b[0;34m(sock, keyfile, certfile, cert_reqs, ca_certs, server_hostname, ssl_version, ciphers, ssl_context, ca_cert_dir)\u001b[0m\n\u001b[1;32m    342\u001b[0m             or IS_SECURETRANSPORT):\n\u001b[1;32m    343\u001b[0m         \u001b[0;32mif\u001b[0m \u001b[0mHAS_SNI\u001b[0m \u001b[0;32mand\u001b[0m \u001b[0mserver_hostname\u001b[0m \u001b[0;32mis\u001b[0m \u001b[0;32mnot\u001b[0m \u001b[0;32mNone\u001b[0m\u001b[0;34m:\u001b[0m\u001b[0;34m\u001b[0m\u001b[0;34m\u001b[0m\u001b[0m\n\u001b[0;32m--> 344\u001b[0;31m             \u001b[0;32mreturn\u001b[0m \u001b[0mcontext\u001b[0m\u001b[0;34m.\u001b[0m\u001b[0mwrap_socket\u001b[0m\u001b[0;34m(\u001b[0m\u001b[0msock\u001b[0m\u001b[0;34m,\u001b[0m \u001b[0mserver_hostname\u001b[0m\u001b[0;34m=\u001b[0m\u001b[0mserver_hostname\u001b[0m\u001b[0;34m)\u001b[0m\u001b[0;34m\u001b[0m\u001b[0;34m\u001b[0m\u001b[0m\n\u001b[0m\u001b[1;32m    345\u001b[0m \u001b[0;34m\u001b[0m\u001b[0m\n\u001b[1;32m    346\u001b[0m         warnings.warn(\n",
      "\u001b[0;32m/anaconda3/lib/python3.7/site-packages/urllib3/contrib/pyopenssl.py\u001b[0m in \u001b[0;36mwrap_socket\u001b[0;34m(self, sock, server_side, do_handshake_on_connect, suppress_ragged_eofs, server_hostname)\u001b[0m\n\u001b[1;32m    451\u001b[0m         \u001b[0;32mwhile\u001b[0m \u001b[0;32mTrue\u001b[0m\u001b[0;34m:\u001b[0m\u001b[0;34m\u001b[0m\u001b[0;34m\u001b[0m\u001b[0m\n\u001b[1;32m    452\u001b[0m             \u001b[0;32mtry\u001b[0m\u001b[0;34m:\u001b[0m\u001b[0;34m\u001b[0m\u001b[0;34m\u001b[0m\u001b[0m\n\u001b[0;32m--> 453\u001b[0;31m                 \u001b[0mcnx\u001b[0m\u001b[0;34m.\u001b[0m\u001b[0mdo_handshake\u001b[0m\u001b[0;34m(\u001b[0m\u001b[0;34m)\u001b[0m\u001b[0;34m\u001b[0m\u001b[0;34m\u001b[0m\u001b[0m\n\u001b[0m\u001b[1;32m    454\u001b[0m             \u001b[0;32mexcept\u001b[0m \u001b[0mOpenSSL\u001b[0m\u001b[0;34m.\u001b[0m\u001b[0mSSL\u001b[0m\u001b[0;34m.\u001b[0m\u001b[0mWantReadError\u001b[0m\u001b[0;34m:\u001b[0m\u001b[0;34m\u001b[0m\u001b[0;34m\u001b[0m\u001b[0m\n\u001b[1;32m    455\u001b[0m                 \u001b[0;32mif\u001b[0m \u001b[0;32mnot\u001b[0m \u001b[0mutil\u001b[0m\u001b[0;34m.\u001b[0m\u001b[0mwait_for_read\u001b[0m\u001b[0;34m(\u001b[0m\u001b[0msock\u001b[0m\u001b[0;34m,\u001b[0m \u001b[0msock\u001b[0m\u001b[0;34m.\u001b[0m\u001b[0mgettimeout\u001b[0m\u001b[0;34m(\u001b[0m\u001b[0;34m)\u001b[0m\u001b[0;34m)\u001b[0m\u001b[0;34m:\u001b[0m\u001b[0;34m\u001b[0m\u001b[0;34m\u001b[0m\u001b[0m\n",
      "\u001b[0;32m/anaconda3/lib/python3.7/site-packages/OpenSSL/SSL.py\u001b[0m in \u001b[0;36mdo_handshake\u001b[0;34m(self)\u001b[0m\n\u001b[1;32m   1904\u001b[0m         \u001b[0;34m:\u001b[0m\u001b[0;32mreturn\u001b[0m\u001b[0;34m:\u001b[0m \u001b[0;32mNone\u001b[0m\u001b[0;34m.\u001b[0m\u001b[0;34m\u001b[0m\u001b[0;34m\u001b[0m\u001b[0m\n\u001b[1;32m   1905\u001b[0m         \"\"\"\n\u001b[0;32m-> 1906\u001b[0;31m         \u001b[0mresult\u001b[0m \u001b[0;34m=\u001b[0m \u001b[0m_lib\u001b[0m\u001b[0;34m.\u001b[0m\u001b[0mSSL_do_handshake\u001b[0m\u001b[0;34m(\u001b[0m\u001b[0mself\u001b[0m\u001b[0;34m.\u001b[0m\u001b[0m_ssl\u001b[0m\u001b[0;34m)\u001b[0m\u001b[0;34m\u001b[0m\u001b[0;34m\u001b[0m\u001b[0m\n\u001b[0m\u001b[1;32m   1907\u001b[0m         \u001b[0mself\u001b[0m\u001b[0;34m.\u001b[0m\u001b[0m_raise_ssl_error\u001b[0m\u001b[0;34m(\u001b[0m\u001b[0mself\u001b[0m\u001b[0;34m.\u001b[0m\u001b[0m_ssl\u001b[0m\u001b[0;34m,\u001b[0m \u001b[0mresult\u001b[0m\u001b[0;34m)\u001b[0m\u001b[0;34m\u001b[0m\u001b[0;34m\u001b[0m\u001b[0m\n\u001b[1;32m   1908\u001b[0m \u001b[0;34m\u001b[0m\u001b[0m\n",
      "\u001b[0;31mKeyboardInterrupt\u001b[0m: "
     ]
    }
   ],
   "source": [
    "occupations_list_shortened_var = [occupations_list_shortened[_] for _ in range(10,42)]\n",
    "print(occupations_list_shortened_var)\n",
    "\n",
    "\n",
    "# For loop over each occupation.\n",
    "for o in occupations_list_shortened_var:\n",
    "    o_info_list = []\n",
    "    o_r_dict = {}\n",
    "    \n",
    "    o_name_list = []\n",
    "    o_occupation_list = []\n",
    "    \n",
    "    lower = first_and_last_row_dict[o][0]\n",
    "    higher = first_and_last_row_dict[o][1] + 1\n",
    "    for i in range(lower, higher):\n",
    "    #for i in range(lower, lower + 3):\n",
    "        proto_celeb_name = df.iloc[i]['name_and_date']\n",
    "        hmm = proto_celeb_name.index('(')\n",
    "        almost_celeb_name = proto_celeb_name[:hmm - 1]\n",
    "        celeb_name = almost_celeb_name.replace(' ', '_')\n",
    "        \n",
    "        o_name_list.append(celeb_name)\n",
    "        o_occupation_list.append(o)\n",
    "        \n",
    "        r = 'r_' + celeb_name\n",
    "        current_celeb_url = df.iloc[i]['url_list']\n",
    "        r_val = requests.get(current_celeb_url)\n",
    "        #print(r + ' is returning ' + str(r_val))\n",
    "        o_r_dict[r] = r_val\n",
    "        pages.insert_one({'html': r_val.content})\n",
    "\n",
    "        soup = BeautifulSoup(r_val.content, 'html')\n",
    "        \n",
    "        div = soup.find('div', {'style': 'float: left; width: 310px; overflow: hidden; background: #;'})\n",
    "        try:\n",
    "            t = div.text.strip()\n",
    "            t = t.replace('\\n', '')\n",
    "            #print(t)\n",
    "            o_info_list.append(t)\n",
    "        except:\n",
    "            o_info_list.append('no_info_found')\n",
    "    \n",
    "    #temporary_df_dict[o + str('_df')] = pd.DataFrame([o_info_list]).transpose()\n",
    "    \n",
    "    #zippedLList =  list(zip(occupation_llllist, name_and_date_llllist, name_url_llllist))\n",
    "    #da_bestest_df = pd.DataFrame(zippedLList, columns = ['occupation', 'name_and_date', 'url_list'])\n",
    "    \n",
    "    zipped_list = list(zip(o_name_list, o_info_list, o_occupation_list))\n",
    "    temporary_df_dict[o + str('_df')] = pd.DataFrame(zipped_list, columns = ['name', 'info', 'occupation'])\n"
   ]
  },
  {
   "cell_type": "code",
   "execution_count": 107,
   "metadata": {},
   "outputs": [
    {
     "data": {
      "text/plain": [
       "dict_keys(['r_scientists-inventors_df', 'r_chemists_df', 'r_cooks_df', 'r_doctors_df', 'r_physicists_df', 'r_entrepreneurs_df', 'r_designers_df', 'r_architects_df', 'r_fashion-models_df', 'r_porn-stars_df', 'r_journalists-publicists_df', 'r_poets_df', 'r_writers_df', 'r_artists_df', 'r_painters_df', 'r_photographers_df', 'r_sculptors_df', 'r_rulers_df', 'r_presidents_df', 'r_priests-theologians_df', 'r_politicians_df', 'r_founders_df', 'r_mathematicians_df', 'r_philosophers_df', 'r_basketball-players_df', 'r_baseball-players_df', 'r_martial-artists_df', 'r_racers_df', 'r_tennis-players_df'])"
      ]
     },
     "execution_count": 107,
     "metadata": {},
     "output_type": "execute_result"
    }
   ],
   "source": [
    "temporary_df_dict.keys()\n",
    "#temporary_df_dict['r_fashion-models_df']\n",
    "#temporary_df_dict\n",
    "#temporary_df_dict['r_martial-artists_df']"
   ]
  },
  {
   "cell_type": "code",
   "execution_count": 136,
   "metadata": {},
   "outputs": [],
   "source": [
    "#temporary_df_dict['r_racers_df'].to_csv('hi_its_racers_df.csv', index=False)"
   ]
  },
  {
   "cell_type": "code",
   "execution_count": null,
   "metadata": {},
   "outputs": [],
   "source": []
  }
 ],
 "metadata": {
  "kernelspec": {
   "display_name": "Python 3",
   "language": "python",
   "name": "python3"
  },
  "language_info": {
   "codemirror_mode": {
    "name": "ipython",
    "version": 3
   },
   "file_extension": ".py",
   "mimetype": "text/x-python",
   "name": "python",
   "nbconvert_exporter": "python",
   "pygments_lexer": "ipython3",
   "version": "3.7.1"
  }
 },
 "nbformat": 4,
 "nbformat_minor": 2
}
