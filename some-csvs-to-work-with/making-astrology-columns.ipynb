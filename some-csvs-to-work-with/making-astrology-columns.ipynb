{
 "cells": [
  {
   "cell_type": "code",
   "execution_count": 18,
   "metadata": {},
   "outputs": [],
   "source": [
    "import pandas as pd\n",
    "import numpy as np\n",
    "import math\n",
    "import flatlib as fl\n",
    "import geopy as gp\n",
    "import re"
   ]
  },
  {
   "cell_type": "markdown",
   "metadata": {},
   "source": [
    "At this point, I need to make columns with actual astrology data -- sun signs and all that.\n",
    "\n",
    "So I need to brainstorm what columns I'd like to put in my dataframes, as well as how I'd like to format these columns.\n",
    "\n",
    "My initial thought is to make the following columns:\n",
    "\n",
    "-Planetary Signs (includes the signs of each planet as a list)\n",
    "\n",
    "-House Signs (includes the signs of each house as a list)\n",
    "\n",
    "-Planetary Houses (includes which planets are in which house)\n",
    "\n",
    "-Planetary Angles (includes which planets have an important angle between them)\n",
    "\n",
    "The only thing is that FlatLib is giving me a little trouble with anything-to-do-with houses -- the planetary signs work great, as do the planetary angles. I think it's because FlatLib uses a weird house system ('Alcibitus', or something) -- and I want it in the normal one (which is Placidus as far as I can tell).\n",
    "\n",
    "I just had a wild thought. What if calculate the Placidus houses by hand myself? I could just code up a function which gives the houses for a particular time and location. It's just trigonometry, how bad can it be.\n",
    "\n",
    "Ok, this link tells me what to do roughly: https://www.astrologerdsbaquila.com/n/Placidus+House+Cusps+Calculation+-+Worked+Example-411-146/.\n",
    "\n",
    "I'm gonna go step by step."
   ]
  },
  {
   "cell_type": "code",
   "execution_count": 19,
   "metadata": {},
   "outputs": [],
   "source": [
    "df = pd.DataFrame([['Jackson', 'July 2, 1997; 16:07', 'San Ramon, California, United States']], columns = ['name', 'birthtime', 'birthplace'])\n",
    "from geopy.geocoders import Nominatim\n",
    "geolocator = Nominatim(user_agent=\"specify_your_app_name_here\")\n",
    "\n",
    "from geopy.extra.rate_limiter import RateLimiter\n",
    "geocode = RateLimiter(geolocator.geocode, min_delay_seconds=1)\n",
    "df['location'] = df['birthplace'].apply(geocode)\n",
    "df['point'] = df['location'].apply(lambda loc: tuple(loc.point) if loc else None)"
   ]
  },
  {
   "cell_type": "code",
   "execution_count": 20,
   "metadata": {},
   "outputs": [
    {
     "data": {
      "text/html": [
       "<div>\n",
       "<style scoped>\n",
       "    .dataframe tbody tr th:only-of-type {\n",
       "        vertical-align: middle;\n",
       "    }\n",
       "\n",
       "    .dataframe tbody tr th {\n",
       "        vertical-align: top;\n",
       "    }\n",
       "\n",
       "    .dataframe thead th {\n",
       "        text-align: right;\n",
       "    }\n",
       "</style>\n",
       "<table border=\"1\" class=\"dataframe\">\n",
       "  <thead>\n",
       "    <tr style=\"text-align: right;\">\n",
       "      <th></th>\n",
       "      <th>name</th>\n",
       "      <th>birthtime</th>\n",
       "      <th>birthplace</th>\n",
       "      <th>location</th>\n",
       "      <th>point</th>\n",
       "    </tr>\n",
       "  </thead>\n",
       "  <tbody>\n",
       "    <tr>\n",
       "      <th>0</th>\n",
       "      <td>Jackson</td>\n",
       "      <td>July 2, 1997; 16:07</td>\n",
       "      <td>San Ramon, California, United States</td>\n",
       "      <td>(San Ramon, Contra Costa County, California, U...</td>\n",
       "      <td>(37.7799273, -121.9780153, 0.0)</td>\n",
       "    </tr>\n",
       "  </tbody>\n",
       "</table>\n",
       "</div>"
      ],
      "text/plain": [
       "      name            birthtime                            birthplace  \\\n",
       "0  Jackson  July 2, 1997; 16:07  San Ramon, California, United States   \n",
       "\n",
       "                                            location  \\\n",
       "0  (San Ramon, Contra Costa County, California, U...   \n",
       "\n",
       "                             point  \n",
       "0  (37.7799273, -121.9780153, 0.0)  "
      ]
     },
     "execution_count": 20,
     "metadata": {},
     "output_type": "execute_result"
    }
   ],
   "source": [
    "#This df isn't exactly right, but whatevs\n",
    "df.head()"
   ]
  },
  {
   "cell_type": "markdown",
   "metadata": {},
   "source": [
    "# Step 1: Convert LST to RAMC\n",
    "\n",
    "... i.e. convert local sidereal time to right ascension of the MC ('Medium Coeli', also called 'Midheaven').\n",
    "\n",
    "This means transforming the 24-hour-time into decimal-hours into decimal-hours * 15, aka the RAMC.\n",
    "\n",
    "So in my case, I would transform 16:07 into about 16.12 which transforms into 241.75, which is my RAMC. (Actually, since we're going based on UTC, I need to subtract 7 hours from my birthtime -- aka 9:07.)\n",
    "\n",
    "Here's a method that does this:"
   ]
  },
  {
   "cell_type": "code",
   "execution_count": 21,
   "metadata": {},
   "outputs": [],
   "source": [
    "def lst_to_ramc(time):\n",
    "    hr = int(time.split(':')[0])\n",
    "    mn = int(time.split(':')[1])\n",
    "    return (hr * 60 + mn) / 4"
   ]
  },
  {
   "cell_type": "code",
   "execution_count": 74,
   "metadata": {},
   "outputs": [
    {
     "data": {
      "text/plain": [
       "136.75"
      ]
     },
     "execution_count": 74,
     "metadata": {},
     "output_type": "execute_result"
    }
   ],
   "source": [
    "lst_to_ramc('9:07')\n",
    "#It works!"
   ]
  },
  {
   "cell_type": "markdown",
   "metadata": {},
   "source": [
    "# Step 2: Find MC\n",
    "\n",
    "... aka the Medium Coeli aka the Midheaven.\n",
    "\n",
    "This involves a constant 'e' which stands for the obliquity-of-ecliptic (of Earth), which is about 23 26' 31.5633\" in degrees or about 23.44210092 in decimal degrees.\n",
    "\n",
    "The relevant formula here is the following:\n",
    "\n",
    "MC = arctan(tan(RAMC) / cos(e)).\n",
    "\n",
    "In my case, I have MC = arctan(tan(241.75) / cos(23.44210092)) = 63.76 degrees or 63 45' 36\".\n",
    "\n",
    "Also, since my RAMC was in between 90 and 270 degrees, I need to add 180 degrees to my resulting MC. (If my RAMC were between 0 and 90 degrees, I would leave it alone. If it were between 270 and 360 degrees, I would add 180 degrees and reverse the sign (i.e. multiply by -1).)\n",
    "\n",
    "So my final MC is 63 45' 36\" + 180 = 243 45' 36\".\n",
    "\n",
    "Here's a method that does this:"
   ]
  },
  {
   "cell_type": "code",
   "execution_count": 137,
   "metadata": {},
   "outputs": [],
   "source": [
    "def mc(ramc):\n",
    "    e = 23.44210092\n",
    "    mc = math.degrees(math.atan(math.tan(math.radians(ramc)) / math.cos(math.radians(e))))\n",
    "    #print(mc)\n",
    "    if ramc < 90:\n",
    "        random = 'All is good.'\n",
    "    elif ramc < 270:\n",
    "        mc = mc + 180\n",
    "    else:\n",
    "        mc = (mc + 180) * (-1)\n",
    "    #print(mc)\n",
    "    '''\n",
    "    print(math.modf(mc))\n",
    "    dv = math.modf(mc)\n",
    "    d = dv[1]\n",
    "    mv = math.modf(dv[0] * 60)\n",
    "    m = mv[1]\n",
    "    sv = math.modf(mv[0] * 60)\n",
    "    s = sv[1]\n",
    "    mc_lst = [d,m,s]\n",
    "    print(mc_lst)\n",
    "    \n",
    "    #ans = '{}d {}m {}s'.format(d,m,s)\n",
    "    #return ans\n",
    "    return mc_lst\n",
    "    '''\n",
    "    return mc"
   ]
  },
  {
   "cell_type": "code",
   "execution_count": 138,
   "metadata": {},
   "outputs": [
    {
     "data": {
      "text/plain": [
       "134.28333428251193"
      ]
     },
     "execution_count": 138,
     "metadata": {},
     "output_type": "execute_result"
    }
   ],
   "source": [
    "jackson_ramc = 136.75\n",
    "mc(jackson_ramc)\n",
    "#This is like 10 degrees off for me... come back to this."
   ]
  },
  {
   "cell_type": "markdown",
   "metadata": {},
   "source": [
    "# Step 3: The Ascendant\n",
    "\n",
    "Here, we need to use the values e and ramc from before -- but we also need to use a value L, which is the latitude.\n",
    "\n",
    "The formula is kinda long, so I'm just gonna write the method and see what happens."
   ]
  },
  {
   "cell_type": "code",
   "execution_count": 147,
   "metadata": {},
   "outputs": [],
   "source": [
    "def asc(ramc, L):\n",
    "    e = 23.44210092\n",
    "    numer1 = math.tan(L) * math.sin(math.radians(e))\n",
    "    numer2 = math.sin(math.radians(ramc)) * math.cos(math.radians(e))\n",
    "    full_numer = (-1) * (numer1 + numer2)\n",
    "    denom = math.cos(math.radians(ramc))\n",
    "    val = math.degrees(math.atan(denom / full_numer))\n",
    "    #print(val)\n",
    "    \n",
    "    if val < 90 and val >= 0:\n",
    "        random = 'All is good'\n",
    "    #elif val < 0 and val >= -90:\n",
    "    else:\n",
    "        val += 180\n",
    "    #print(val)\n",
    "    if val < mc(ramc):\n",
    "        val += 180\n",
    "    else:\n",
    "        val = (val + 180) * (-1)\n",
    "    \n",
    "    return val\n",
    "    "
   ]
  },
  {
   "cell_type": "code",
   "execution_count": 148,
   "metadata": {},
   "outputs": [
    {
     "data": {
      "text/plain": [
       "227.7825804890644"
      ]
     },
     "execution_count": 148,
     "metadata": {},
     "output_type": "execute_result"
    }
   ],
   "source": [
    "jackson_L = 37.7799273\n",
    "jackson_ramc = 136.75\n",
    "asc(jackson_ramc, jackson_L)\n",
    "#Not sure if this working exactly right... test out other cases."
   ]
  },
  {
   "cell_type": "markdown",
   "metadata": {},
   "source": [
    "# Step 4: The IC and DESC\n",
    "\n",
    "... aka the Imum Coeli and the Descendant. Here we need e (as before). We also need mc and asc respectively."
   ]
  },
  {
   "cell_type": "code",
   "execution_count": 154,
   "metadata": {},
   "outputs": [],
   "source": [
    "def ic(mc):\n",
    "    e = 23.44210092\n",
    "    val = math.degrees(math.asin(math.sin(math.radians(mc)) * math.sin(math.radians(e))))\n",
    "    return val\n",
    "\n",
    "def desc(asc):\n",
    "    e = 23.44210092\n",
    "    val = math.degrees(math.asin(math.sin(math.radians(asc)) * math.sin(math.radians(e))))\n",
    "    return val"
   ]
  },
  {
   "cell_type": "code",
   "execution_count": 155,
   "metadata": {},
   "outputs": [
    {
     "name": "stdout",
     "output_type": "stream",
     "text": [
      "16.54684777638035\n",
      "-17.135185146607768\n"
     ]
    }
   ],
   "source": [
    "jackson_mc = mc(jackson_ramc)\n",
    "jackson_asc = asc(jackson_ramc, jackson_L)\n",
    "\n",
    "print(ic(jackson_mc))\n",
    "print(desc(jackson_asc))\n",
    "\n",
    "#This seems incorrect. Fix later."
   ]
  },
  {
   "cell_type": "markdown",
   "metadata": {},
   "source": [
    "# Step 5: 11th House Cusp\n",
    "\n",
    "We're gonna need ramc, e, and L."
   ]
  },
  {
   "cell_type": "code",
   "execution_count": 170,
   "metadata": {},
   "outputs": [],
   "source": [
    "def eleventh(ramc,L):\n",
    "    e = 23.44210092\n",
    "    ra = ramc + 30\n",
    "    delta_is_shrunk = False\n",
    "    while delta_is_shrunk == False:\n",
    "        ra_new = ramc + math.degrees(math.acos((-1) * (math.sin(math.radians(ra))) * (math.tan(math.radians(e))) * (math.tan(math.radians(L)))))/3\n",
    "        if ra_new - ra < 0.001:\n",
    "            delta_is_shrunk = True\n",
    "            break\n",
    "        ra = ra_new\n",
    "    return ra_new"
   ]
  },
  {
   "cell_type": "code",
   "execution_count": 171,
   "metadata": {},
   "outputs": [
    {
     "data": {
      "text/plain": [
       "168.06120811367305"
      ]
     },
     "execution_count": 171,
     "metadata": {},
     "output_type": "execute_result"
    }
   ],
   "source": [
    "jackson_L = 37.7799273\n",
    "jackson_ramc = 136.75\n",
    "\n",
    "eleventh(jackson_ramc,jackson_L)"
   ]
  },
  {
   "cell_type": "markdown",
   "metadata": {},
   "source": [
    "# Step 6: Convert 11th House Cusp to Longitude\n",
    "\n",
    "This will just require the 11th house cusp and e."
   ]
  },
  {
   "cell_type": "code",
   "execution_count": 174,
   "metadata": {},
   "outputs": [],
   "source": [
    "def convert_eleventh(eleventh):\n",
    "    e = 23.44210092\n",
    "    return math.degrees(math.atan(math.tan(math.radians(eleventh)) / math.cos(math.radians(e))))"
   ]
  },
  {
   "cell_type": "code",
   "execution_count": 175,
   "metadata": {},
   "outputs": [
    {
     "data": {
      "text/plain": [
       "-12.977903345227649"
      ]
     },
     "execution_count": 175,
     "metadata": {},
     "output_type": "execute_result"
    }
   ],
   "source": [
    "convert_eleventh(168.06120811367305)"
   ]
  },
  {
   "cell_type": "markdown",
   "metadata": {},
   "source": [
    "# Step 7: 12th House Cusp\n",
    "\n",
    "This will require ramc, e, and L."
   ]
  },
  {
   "cell_type": "code",
   "execution_count": 176,
   "metadata": {},
   "outputs": [],
   "source": [
    "def twelfth(ramc,L):\n",
    "    pass"
   ]
  },
  {
   "cell_type": "markdown",
   "metadata": {},
   "source": [
    "# INTERRUPTION\n",
    "\n",
    "... due to time constraints, I'm gonna just do the equal-house system. It's way quicker. (I may go back and finish up the Placidus stuff later though.) Here's how the equal-house system works:\n",
    "\n",
    "-find the ascendant\n",
    "\n",
    "-split up the rest of the circle into 30 degree chunks\n",
    "\n",
    "-you're done.\n",
    "\n",
    "Let's just write the method."
   ]
  },
  {
   "cell_type": "code",
   "execution_count": 196,
   "metadata": {},
   "outputs": [],
   "source": [
    "def equal_houses(time, L):\n",
    "    \n",
    "    hr = int(time.split(':')[0])\n",
    "    mn = int(time.split(':')[1])\n",
    "    ramc = (hr * 60 + mn) / 4\n",
    "\n",
    "    e = 23.44210092\n",
    "    numer1 = math.tan(L) * math.sin(math.radians(e))\n",
    "    numer2 = math.sin(math.radians(ramc)) * math.cos(math.radians(e))\n",
    "    full_numer = (-1) * (numer1 + numer2)\n",
    "    denom = math.cos(math.radians(ramc))\n",
    "    val = math.degrees(math.atan(denom / full_numer))\n",
    "    #print(val)\n",
    "    \n",
    "    if val <= 90 and val >= 0:\n",
    "        random = 'All is good'\n",
    "    #elif val < 0 and val >= -90:\n",
    "    else:\n",
    "        val += 180\n",
    "    #print(val)\n",
    "    '''\n",
    "    if val < mc(ramc):\n",
    "        val += 180\n",
    "    else:\n",
    "        val = (val + 180) * (-1)\n",
    "    '''\n",
    "    #calculate mc(ramc).\n",
    "    if val - mc(ramc) <= 180:\n",
    "        random = 'All is good'\n",
    "    else:\n",
    "        ???\n",
    "    \n",
    "    \n",
    "    houses = []\n",
    "    for i in range(12):\n",
    "        houses.append((val + 30 * i) % 360)\n",
    "    \n",
    "    return houses"
   ]
  },
  {
   "cell_type": "code",
   "execution_count": 202,
   "metadata": {},
   "outputs": [
    {
     "data": {
      "text/plain": [
       "[100.36662105991138,\n",
       " 130.36662105991138,\n",
       " 160.36662105991138,\n",
       " 190.36662105991138,\n",
       " 220.36662105991138,\n",
       " 250.36662105991138,\n",
       " 280.3666210599114,\n",
       " 310.3666210599114,\n",
       " 340.3666210599114,\n",
       " 10.366621059911381,\n",
       " 40.36662105991138,\n",
       " 70.36662105991138]"
      ]
     },
     "execution_count": 202,
     "metadata": {},
     "output_type": "execute_result"
    }
   ],
   "source": [
    "jackson_L = 37.7799273\n",
    "#jackson_time = '09:07'\n",
    "#jackson_time = '16:07'\n",
    "jackson_time = '23:07'\n",
    "equal_houses(jackson_time, jackson_L)\n",
    "#It doesn't work yet."
   ]
  },
  {
   "cell_type": "code",
   "execution_count": 200,
   "metadata": {},
   "outputs": [
    {
     "data": {
      "text/plain": [
       "[168.67244325109274,\n",
       " 198.67244325109274,\n",
       " 228.67244325109274,\n",
       " 258.6724432510928,\n",
       " 288.6724432510928,\n",
       " 318.6724432510928,\n",
       " 348.6724432510928,\n",
       " 18.672443251092744,\n",
       " 48.672443251092744,\n",
       " 78.67244325109274,\n",
       " 108.67244325109274,\n",
       " 138.67244325109274]"
      ]
     },
     "execution_count": 200,
     "metadata": {},
     "output_type": "execute_result"
    }
   ],
   "source": [
    "tom_cruise_L = 43.0481\n",
    "#tom_cruise_time = '11:06'\n",
    "#tom_cruise_time = '15:06'\n",
    "#tom_cruise_time = '19:06'\n",
    "equal_houses(tom_cruise_time, tom_cruise_L)"
   ]
  },
  {
   "cell_type": "code",
   "execution_count": null,
   "metadata": {},
   "outputs": [],
   "source": []
  }
 ],
 "metadata": {
  "kernelspec": {
   "display_name": "Python 3",
   "language": "python",
   "name": "python3"
  },
  "language_info": {
   "codemirror_mode": {
    "name": "ipython",
    "version": 3
   },
   "file_extension": ".py",
   "mimetype": "text/x-python",
   "name": "python",
   "nbconvert_exporter": "python",
   "pygments_lexer": "ipython3",
   "version": "3.7.1"
  }
 },
 "nbformat": 4,
 "nbformat_minor": 2
}
