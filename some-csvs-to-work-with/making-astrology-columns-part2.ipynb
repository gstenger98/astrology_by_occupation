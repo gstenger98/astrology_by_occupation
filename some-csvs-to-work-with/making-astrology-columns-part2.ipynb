{
 "cells": [
  {
   "cell_type": "markdown",
   "metadata": {},
   "source": [
    "Here we're gonna practice creating and plotting the astrology columns."
   ]
  },
  {
   "cell_type": "code",
   "execution_count": 44,
   "metadata": {},
   "outputs": [],
   "source": [
    "import warnings\n",
    "warnings.filterwarnings('ignore')\n",
    "\n",
    "import pandas as pd\n",
    "import numpy as np\n",
    "import re\n",
    "import string\n",
    "import seaborn as sns\n",
    "%matplotlib inline\n",
    "import random\n",
    "import matplotlib.pyplot as plt\n",
    "import scipy.stats as stats\n",
    "import math\n",
    "\n",
    "from geopy.geocoders import Nominatim\n",
    "from geopy.extra.rate_limiter import RateLimiter\n",
    "\n",
    "from flatlib.datetime import Datetime\n",
    "from flatlib.geopos import GeoPos\n",
    "from flatlib.chart import Chart\n",
    "from flatlib import const\n",
    "from flatlib import aspects\n",
    "\n",
    "from timezonefinder import TimezoneFinder\n",
    "from datetime import datetime\n",
    "from pytz import timezone, utc\n",
    "\n"
   ]
  },
  {
   "cell_type": "code",
   "execution_count": 45,
   "metadata": {},
   "outputs": [],
   "source": [
    "df = pd.read_csv('r_rulers_charted.csv')"
   ]
  },
  {
   "cell_type": "code",
   "execution_count": 46,
   "metadata": {},
   "outputs": [
    {
     "name": "stdout",
     "output_type": "stream",
     "text": [
      "hi\n"
     ]
    }
   ],
   "source": [
    "#df.head()\n",
    "print('hi')"
   ]
  },
  {
   "cell_type": "code",
   "execution_count": 47,
   "metadata": {},
   "outputs": [],
   "source": [
    "df['count'] = np.arange(len(df))"
   ]
  },
  {
   "cell_type": "markdown",
   "metadata": {},
   "source": [
    "Shoot, I just realized that my chart column is filled with strings (of course)... this doesn't really help me I'm afraid. So I'm gonna have to remake the charts here (which shouldn't take long)."
   ]
  },
  {
   "cell_type": "code",
   "execution_count": 48,
   "metadata": {},
   "outputs": [],
   "source": [
    "def intify(strng):\n",
    "    #strng = strng.tolist()\n",
    "    return int(strng)\n",
    "\n",
    "def birthtime_fixer(strng):\n",
    "    #strng = strng.tolist()\n",
    "    old_date = str(strng)[1:-1]\n",
    "    old_date = old_date.replace('\\'','')\n",
    "    old_date = old_date.split(', ',)\n",
    "    return old_date\n",
    "\n",
    "def point_fixer(strng):\n",
    "    #strng = strng.tolist()\n",
    "    location = str(strng[2:-1]).replace('\\'','')\n",
    "    location = location.split(', ')\n",
    "    return location\n"
   ]
  },
  {
   "cell_type": "code",
   "execution_count": 49,
   "metadata": {
    "scrolled": true
   },
   "outputs": [
    {
     "data": {
      "text/html": [
       "<div>\n",
       "<style scoped>\n",
       "    .dataframe tbody tr th:only-of-type {\n",
       "        vertical-align: middle;\n",
       "    }\n",
       "\n",
       "    .dataframe tbody tr th {\n",
       "        vertical-align: top;\n",
       "    }\n",
       "\n",
       "    .dataframe thead th {\n",
       "        text-align: right;\n",
       "    }\n",
       "</style>\n",
       "<table border=\"1\" class=\"dataframe\">\n",
       "  <thead>\n",
       "    <tr style=\"text-align: right;\">\n",
       "      <th></th>\n",
       "      <th>name</th>\n",
       "      <th>occupation</th>\n",
       "      <th>count</th>\n",
       "      <th>birthtime</th>\n",
       "      <th>birthplace</th>\n",
       "      <th>location</th>\n",
       "      <th>point</th>\n",
       "      <th>chart</th>\n",
       "    </tr>\n",
       "  </thead>\n",
       "  <tbody>\n",
       "    <tr>\n",
       "      <th>0</th>\n",
       "      <td>Emperor_Shōwa</td>\n",
       "      <td>r_rulers</td>\n",
       "      <td>0</td>\n",
       "      <td>['1901', 4, '29', '22:10']</td>\n",
       "      <td>Tokyo, Japan</td>\n",
       "      <td>東京都, 日本 (Japan)</td>\n",
       "      <td>('35n6828', '139e7595')</td>\n",
       "      <td>&lt;flatlib.chart.Chart object at 0x6270b0160&gt;</td>\n",
       "    </tr>\n",
       "    <tr>\n",
       "      <th>1</th>\n",
       "      <td>Kaiser_Wilhelm_II</td>\n",
       "      <td>r_rulers</td>\n",
       "      <td>1</td>\n",
       "      <td>['1859', 1, '27', '15:00']</td>\n",
       "      <td>Berlin, Germany</td>\n",
       "      <td>Berlin, Deutschland</td>\n",
       "      <td>('52n517', '13e3889')</td>\n",
       "      <td>&lt;flatlib.chart.Chart object at 0x626f16c88&gt;</td>\n",
       "    </tr>\n",
       "    <tr>\n",
       "      <th>2</th>\n",
       "      <td>Princess_Diana</td>\n",
       "      <td>r_rulers</td>\n",
       "      <td>2</td>\n",
       "      <td>['1961', 7, '1', '19:45']</td>\n",
       "      <td>Sandringham, England, United Kingdom</td>\n",
       "      <td>Sandringham, Norfolk, East of England, England...</td>\n",
       "      <td>('52n8294', '0e5156')</td>\n",
       "      <td>&lt;flatlib.chart.Chart object at 0x626f12a20&gt;</td>\n",
       "    </tr>\n",
       "    <tr>\n",
       "      <th>3</th>\n",
       "      <td>Tsar_Nicholas_II</td>\n",
       "      <td>r_rulers</td>\n",
       "      <td>3</td>\n",
       "      <td>['1868', 5, '18', '00:15']</td>\n",
       "      <td>Saint Petersburg, Russia</td>\n",
       "      <td>Санкт-Петербург, Северо-Западный федеральный о...</td>\n",
       "      <td>('59n9607', '30e1587')</td>\n",
       "      <td>&lt;flatlib.chart.Chart object at 0x626f12240&gt;</td>\n",
       "    </tr>\n",
       "    <tr>\n",
       "      <th>4</th>\n",
       "      <td>Norodom_Sihanouk</td>\n",
       "      <td>r_rulers</td>\n",
       "      <td>4</td>\n",
       "      <td>['1922', 10, '31', '19:05']</td>\n",
       "      <td>Phnom Penh, Cambodia</td>\n",
       "      <td>រាជធានីភ្នំពេញ, ខណ្ឌដូនពេញ, រាជធានីភ្នំពេញ, 11...</td>\n",
       "      <td>('11n5683', '104e9224')</td>\n",
       "      <td>&lt;flatlib.chart.Chart object at 0x626eef1d0&gt;</td>\n",
       "    </tr>\n",
       "  </tbody>\n",
       "</table>\n",
       "</div>"
      ],
      "text/plain": [
       "                name occupation  count                    birthtime  \\\n",
       "0      Emperor_Shōwa   r_rulers      0   ['1901', 4, '29', '22:10']   \n",
       "1  Kaiser_Wilhelm_II   r_rulers      1   ['1859', 1, '27', '15:00']   \n",
       "2     Princess_Diana   r_rulers      2    ['1961', 7, '1', '19:45']   \n",
       "3   Tsar_Nicholas_II   r_rulers      3   ['1868', 5, '18', '00:15']   \n",
       "4   Norodom_Sihanouk   r_rulers      4  ['1922', 10, '31', '19:05']   \n",
       "\n",
       "                             birthplace  \\\n",
       "0                          Tokyo, Japan   \n",
       "1                       Berlin, Germany   \n",
       "2  Sandringham, England, United Kingdom   \n",
       "3              Saint Petersburg, Russia   \n",
       "4                  Phnom Penh, Cambodia   \n",
       "\n",
       "                                            location                    point  \\\n",
       "0                                    東京都, 日本 (Japan)  ('35n6828', '139e7595')   \n",
       "1                                Berlin, Deutschland    ('52n517', '13e3889')   \n",
       "2  Sandringham, Norfolk, East of England, England...    ('52n8294', '0e5156')   \n",
       "3  Санкт-Петербург, Северо-Западный федеральный о...   ('59n9607', '30e1587')   \n",
       "4  រាជធានីភ្នំពេញ, ខណ្ឌដូនពេញ, រាជធានីភ្នំពេញ, 11...  ('11n5683', '104e9224')   \n",
       "\n",
       "                                         chart  \n",
       "0  <flatlib.chart.Chart object at 0x6270b0160>  \n",
       "1  <flatlib.chart.Chart object at 0x626f16c88>  \n",
       "2  <flatlib.chart.Chart object at 0x626f12a20>  \n",
       "3  <flatlib.chart.Chart object at 0x626f12240>  \n",
       "4  <flatlib.chart.Chart object at 0x626eef1d0>  "
      ]
     },
     "execution_count": 49,
     "metadata": {},
     "output_type": "execute_result"
    }
   ],
   "source": [
    "df_new = df\n",
    "df_new.head()"
   ]
  },
  {
   "cell_type": "code",
   "execution_count": 50,
   "metadata": {},
   "outputs": [
    {
     "data": {
      "text/html": [
       "<div>\n",
       "<style scoped>\n",
       "    .dataframe tbody tr th:only-of-type {\n",
       "        vertical-align: middle;\n",
       "    }\n",
       "\n",
       "    .dataframe tbody tr th {\n",
       "        vertical-align: top;\n",
       "    }\n",
       "\n",
       "    .dataframe thead th {\n",
       "        text-align: right;\n",
       "    }\n",
       "</style>\n",
       "<table border=\"1\" class=\"dataframe\">\n",
       "  <thead>\n",
       "    <tr style=\"text-align: right;\">\n",
       "      <th></th>\n",
       "      <th>name</th>\n",
       "      <th>occupation</th>\n",
       "      <th>count</th>\n",
       "      <th>birthtime</th>\n",
       "      <th>birthplace</th>\n",
       "      <th>location</th>\n",
       "      <th>point</th>\n",
       "      <th>chart</th>\n",
       "    </tr>\n",
       "  </thead>\n",
       "  <tbody>\n",
       "    <tr>\n",
       "      <th>81</th>\n",
       "      <td>Norodom_Sihanuk</td>\n",
       "      <td>r_rulers</td>\n",
       "      <td>81</td>\n",
       "      <td>['1922', 10, '31']</td>\n",
       "      <td>Phnom Penh, Cambodia</td>\n",
       "      <td>រាជធានីភ្នំពេញ, ខណ្ឌដូនពេញ, រាជធានីភ្នំពេញ, 11...</td>\n",
       "      <td>('11n5683', '104e9224')</td>\n",
       "      <td>&lt;flatlib.chart.Chart object at 0x624ac5be0&gt;</td>\n",
       "    </tr>\n",
       "    <tr>\n",
       "      <th>82</th>\n",
       "      <td>Archduchess_Sophie_of_Austria</td>\n",
       "      <td>r_rulers</td>\n",
       "      <td>82</td>\n",
       "      <td>['1855', 3, '5', '15:15']</td>\n",
       "      <td>Laxenburg, Austria</td>\n",
       "      <td>Laxenburg, Bezirk Mödling, Niederösterreich, 2...</td>\n",
       "      <td>('48n0687', '16e3561')</td>\n",
       "      <td>&lt;flatlib.chart.Chart object at 0x624ac58d0&gt;</td>\n",
       "    </tr>\n",
       "    <tr>\n",
       "      <th>83</th>\n",
       "      <td>Archduchess_Gisela_of_Austria</td>\n",
       "      <td>r_rulers</td>\n",
       "      <td>83</td>\n",
       "      <td>['1856', 7, '12', '06:35']</td>\n",
       "      <td>Laxenburg, Austria</td>\n",
       "      <td>Laxenburg, Bezirk Mödling, Niederösterreich, 2...</td>\n",
       "      <td>('48n0687', '16e3561')</td>\n",
       "      <td>&lt;flatlib.chart.Chart object at 0x624ac5a20&gt;</td>\n",
       "    </tr>\n",
       "    <tr>\n",
       "      <th>84</th>\n",
       "      <td>King_of_Sweden_Charles_IX</td>\n",
       "      <td>r_rulers</td>\n",
       "      <td>84</td>\n",
       "      <td>['1550', 10, '14', '01:30']</td>\n",
       "      <td>Stockholm, Sweden</td>\n",
       "      <td>Stockholm, Stockholms kommun, Stockholms län, ...</td>\n",
       "      <td>('59n3251', '18e0711')</td>\n",
       "      <td>&lt;flatlib.chart.Chart object at 0x6242e96d8&gt;</td>\n",
       "    </tr>\n",
       "    <tr>\n",
       "      <th>85</th>\n",
       "      <td>Madison_Gesiotto</td>\n",
       "      <td>r_rulers</td>\n",
       "      <td>85</td>\n",
       "      <td>['1992', 3, '20']</td>\n",
       "      <td>Pittsburgh, Pennsylvania, United States</td>\n",
       "      <td>Pittsburgh, Allegheny County, Pennsylvania, 15...</td>\n",
       "      <td>('40n4417', '79w9901')</td>\n",
       "      <td>&lt;flatlib.chart.Chart object at 0x624abf898&gt;</td>\n",
       "    </tr>\n",
       "  </tbody>\n",
       "</table>\n",
       "</div>"
      ],
      "text/plain": [
       "                             name occupation  count  \\\n",
       "81                Norodom_Sihanuk   r_rulers     81   \n",
       "82  Archduchess_Sophie_of_Austria   r_rulers     82   \n",
       "83  Archduchess_Gisela_of_Austria   r_rulers     83   \n",
       "84      King_of_Sweden_Charles_IX   r_rulers     84   \n",
       "85               Madison_Gesiotto   r_rulers     85   \n",
       "\n",
       "                      birthtime                               birthplace  \\\n",
       "81           ['1922', 10, '31']                     Phnom Penh, Cambodia   \n",
       "82    ['1855', 3, '5', '15:15']                       Laxenburg, Austria   \n",
       "83   ['1856', 7, '12', '06:35']                       Laxenburg, Austria   \n",
       "84  ['1550', 10, '14', '01:30']                        Stockholm, Sweden   \n",
       "85            ['1992', 3, '20']  Pittsburgh, Pennsylvania, United States   \n",
       "\n",
       "                                             location  \\\n",
       "81  រាជធានីភ្នំពេញ, ខណ្ឌដូនពេញ, រាជធានីភ្នំពេញ, 11...   \n",
       "82  Laxenburg, Bezirk Mödling, Niederösterreich, 2...   \n",
       "83  Laxenburg, Bezirk Mödling, Niederösterreich, 2...   \n",
       "84  Stockholm, Stockholms kommun, Stockholms län, ...   \n",
       "85  Pittsburgh, Allegheny County, Pennsylvania, 15...   \n",
       "\n",
       "                      point                                        chart  \n",
       "81  ('11n5683', '104e9224')  <flatlib.chart.Chart object at 0x624ac5be0>  \n",
       "82   ('48n0687', '16e3561')  <flatlib.chart.Chart object at 0x624ac58d0>  \n",
       "83   ('48n0687', '16e3561')  <flatlib.chart.Chart object at 0x624ac5a20>  \n",
       "84   ('59n3251', '18e0711')  <flatlib.chart.Chart object at 0x6242e96d8>  \n",
       "85   ('40n4417', '79w9901')  <flatlib.chart.Chart object at 0x624abf898>  "
      ]
     },
     "execution_count": 50,
     "metadata": {},
     "output_type": "execute_result"
    }
   ],
   "source": [
    "df_new.tail()"
   ]
  },
  {
   "cell_type": "code",
   "execution_count": 51,
   "metadata": {},
   "outputs": [
    {
     "name": "stdout",
     "output_type": "stream",
     "text": [
      "<class 'pandas.core.frame.DataFrame'>\n",
      "RangeIndex: 86 entries, 0 to 85\n",
      "Data columns (total 8 columns):\n",
      "name          86 non-null object\n",
      "occupation    86 non-null object\n",
      "count         86 non-null int64\n",
      "birthtime     86 non-null object\n",
      "birthplace    86 non-null object\n",
      "location      86 non-null object\n",
      "point         86 non-null object\n",
      "chart         86 non-null object\n",
      "dtypes: int64(1), object(7)\n",
      "memory usage: 5.5+ KB\n"
     ]
    }
   ],
   "source": [
    "df_new.info()"
   ]
  },
  {
   "cell_type": "code",
   "execution_count": 52,
   "metadata": {},
   "outputs": [],
   "source": [
    "#chart reformatting.\n",
    "df_new = df\n",
    "\n",
    "#print(type(df_new['count'].iloc[0]))\n",
    "df_new['count'] = df_new['count'].apply(intify)\n",
    "#print(type(df_new['birthtime'].iloc[0]))\n",
    "#print('hi')\n",
    "df_new['birthtime'] = df_new['birthtime'].apply(birthtime_fixer)\n",
    "#print(type(df_new['birthtime'].iloc[0]))\n",
    "df_new['point'] = df_new['point'].apply(point_fixer)\n"
   ]
  },
  {
   "cell_type": "code",
   "execution_count": 53,
   "metadata": {},
   "outputs": [
    {
     "name": "stdout",
     "output_type": "stream",
     "text": [
      "<class 'str'>\n",
      "1901\n"
     ]
    }
   ],
   "source": [
    "'''\n",
    "print(type(df_new['count'].iloc[0]))\n",
    "print(df_new['count'].iloc[0])\n",
    "print(type(df_new.get_value(0, 'count')))\n",
    "print(df_new.get_value(0, 'count'))\n",
    "print(df_new['count'].iloc[0].tolist())\n",
    "print(type(df_new['count'].iloc[0].tolist()))\n",
    "'''\n",
    "print(type(df_new['birthtime'].iloc[0][0]))\n",
    "print(df_new['birthtime'].iloc[0][0])\n"
   ]
  },
  {
   "cell_type": "code",
   "execution_count": 54,
   "metadata": {},
   "outputs": [
    {
     "name": "stdout",
     "output_type": "stream",
     "text": [
      "<class 'pandas.core.frame.DataFrame'>\n",
      "RangeIndex: 86 entries, 0 to 85\n",
      "Data columns (total 8 columns):\n",
      "name          86 non-null object\n",
      "occupation    86 non-null object\n",
      "count         86 non-null int64\n",
      "birthtime     86 non-null object\n",
      "birthplace    86 non-null object\n",
      "location      86 non-null object\n",
      "point         86 non-null object\n",
      "chart         86 non-null object\n",
      "dtypes: int64(1), object(7)\n",
      "memory usage: 5.5+ KB\n"
     ]
    }
   ],
   "source": [
    "df_new.info()"
   ]
  },
  {
   "cell_type": "code",
   "execution_count": 55,
   "metadata": {},
   "outputs": [
    {
     "data": {
      "text/html": [
       "<div>\n",
       "<style scoped>\n",
       "    .dataframe tbody tr th:only-of-type {\n",
       "        vertical-align: middle;\n",
       "    }\n",
       "\n",
       "    .dataframe tbody tr th {\n",
       "        vertical-align: top;\n",
       "    }\n",
       "\n",
       "    .dataframe thead th {\n",
       "        text-align: right;\n",
       "    }\n",
       "</style>\n",
       "<table border=\"1\" class=\"dataframe\">\n",
       "  <thead>\n",
       "    <tr style=\"text-align: right;\">\n",
       "      <th></th>\n",
       "      <th>name</th>\n",
       "      <th>occupation</th>\n",
       "      <th>count</th>\n",
       "      <th>birthtime</th>\n",
       "      <th>birthplace</th>\n",
       "      <th>location</th>\n",
       "      <th>point</th>\n",
       "      <th>chart</th>\n",
       "    </tr>\n",
       "  </thead>\n",
       "  <tbody>\n",
       "    <tr>\n",
       "      <th>0</th>\n",
       "      <td>Emperor_Shōwa</td>\n",
       "      <td>r_rulers</td>\n",
       "      <td>0</td>\n",
       "      <td>[1901, 4, 29, 22:10]</td>\n",
       "      <td>Tokyo, Japan</td>\n",
       "      <td>東京都, 日本 (Japan)</td>\n",
       "      <td>[35n6828, 139e7595]</td>\n",
       "      <td>&lt;flatlib.chart.Chart object at 0x6270b0160&gt;</td>\n",
       "    </tr>\n",
       "    <tr>\n",
       "      <th>1</th>\n",
       "      <td>Kaiser_Wilhelm_II</td>\n",
       "      <td>r_rulers</td>\n",
       "      <td>1</td>\n",
       "      <td>[1859, 1, 27, 15:00]</td>\n",
       "      <td>Berlin, Germany</td>\n",
       "      <td>Berlin, Deutschland</td>\n",
       "      <td>[52n517, 13e3889]</td>\n",
       "      <td>&lt;flatlib.chart.Chart object at 0x626f16c88&gt;</td>\n",
       "    </tr>\n",
       "    <tr>\n",
       "      <th>2</th>\n",
       "      <td>Princess_Diana</td>\n",
       "      <td>r_rulers</td>\n",
       "      <td>2</td>\n",
       "      <td>[1961, 7, 1, 19:45]</td>\n",
       "      <td>Sandringham, England, United Kingdom</td>\n",
       "      <td>Sandringham, Norfolk, East of England, England...</td>\n",
       "      <td>[52n8294, 0e5156]</td>\n",
       "      <td>&lt;flatlib.chart.Chart object at 0x626f12a20&gt;</td>\n",
       "    </tr>\n",
       "    <tr>\n",
       "      <th>3</th>\n",
       "      <td>Tsar_Nicholas_II</td>\n",
       "      <td>r_rulers</td>\n",
       "      <td>3</td>\n",
       "      <td>[1868, 5, 18, 00:15]</td>\n",
       "      <td>Saint Petersburg, Russia</td>\n",
       "      <td>Санкт-Петербург, Северо-Западный федеральный о...</td>\n",
       "      <td>[59n9607, 30e1587]</td>\n",
       "      <td>&lt;flatlib.chart.Chart object at 0x626f12240&gt;</td>\n",
       "    </tr>\n",
       "    <tr>\n",
       "      <th>4</th>\n",
       "      <td>Norodom_Sihanouk</td>\n",
       "      <td>r_rulers</td>\n",
       "      <td>4</td>\n",
       "      <td>[1922, 10, 31, 19:05]</td>\n",
       "      <td>Phnom Penh, Cambodia</td>\n",
       "      <td>រាជធានីភ្នំពេញ, ខណ្ឌដូនពេញ, រាជធានីភ្នំពេញ, 11...</td>\n",
       "      <td>[11n5683, 104e9224]</td>\n",
       "      <td>&lt;flatlib.chart.Chart object at 0x626eef1d0&gt;</td>\n",
       "    </tr>\n",
       "  </tbody>\n",
       "</table>\n",
       "</div>"
      ],
      "text/plain": [
       "                name occupation  count              birthtime  \\\n",
       "0      Emperor_Shōwa   r_rulers      0   [1901, 4, 29, 22:10]   \n",
       "1  Kaiser_Wilhelm_II   r_rulers      1   [1859, 1, 27, 15:00]   \n",
       "2     Princess_Diana   r_rulers      2    [1961, 7, 1, 19:45]   \n",
       "3   Tsar_Nicholas_II   r_rulers      3   [1868, 5, 18, 00:15]   \n",
       "4   Norodom_Sihanouk   r_rulers      4  [1922, 10, 31, 19:05]   \n",
       "\n",
       "                             birthplace  \\\n",
       "0                          Tokyo, Japan   \n",
       "1                       Berlin, Germany   \n",
       "2  Sandringham, England, United Kingdom   \n",
       "3              Saint Petersburg, Russia   \n",
       "4                  Phnom Penh, Cambodia   \n",
       "\n",
       "                                            location                point  \\\n",
       "0                                    東京都, 日本 (Japan)  [35n6828, 139e7595]   \n",
       "1                                Berlin, Deutschland    [52n517, 13e3889]   \n",
       "2  Sandringham, Norfolk, East of England, England...    [52n8294, 0e5156]   \n",
       "3  Санкт-Петербург, Северо-Западный федеральный о...   [59n9607, 30e1587]   \n",
       "4  រាជធានីភ្នំពេញ, ខណ្ឌដូនពេញ, រាជធានីភ្នំពេញ, 11...  [11n5683, 104e9224]   \n",
       "\n",
       "                                         chart  \n",
       "0  <flatlib.chart.Chart object at 0x6270b0160>  \n",
       "1  <flatlib.chart.Chart object at 0x626f16c88>  \n",
       "2  <flatlib.chart.Chart object at 0x626f12a20>  \n",
       "3  <flatlib.chart.Chart object at 0x626f12240>  \n",
       "4  <flatlib.chart.Chart object at 0x626eef1d0>  "
      ]
     },
     "execution_count": 55,
     "metadata": {},
     "output_type": "execute_result"
    }
   ],
   "source": [
    "df_new.head()"
   ]
  },
  {
   "cell_type": "code",
   "execution_count": 56,
   "metadata": {},
   "outputs": [
    {
     "name": "stdout",
     "output_type": "stream",
     "text": [
      "東京都, 日本 (Japan)\n",
      "<class 'str'>\n",
      "15\n"
     ]
    }
   ],
   "source": [
    "print(df_new.iloc[0].location)\n",
    "print(type(df_new.iloc[0].location))\n",
    "print(len(df_new.iloc[0].location))"
   ]
  },
  {
   "cell_type": "code",
   "execution_count": 57,
   "metadata": {},
   "outputs": [],
   "source": [
    "var_df = df_new\n",
    "\n",
    "def get_offset(lat, lng):\n",
    "    \"\"\"\n",
    "    returns a location's time zone offset from UTC in minutes.\n",
    "    \"\"\"\n",
    "    tf = TimezoneFinder()\n",
    "\n",
    "    today = datetime.now()\n",
    "    tz_target = timezone(tf.certain_timezone_at(lng=lng, lat=lat))\n",
    "    today_target = tz_target.localize(today)\n",
    "    today_utc = utc.localize(today)\n",
    "    val = (today_utc - today_target).total_seconds()/60\n",
    "    hr = int(val // 60)\n",
    "    hr = str(hr).zfill(2)\n",
    "    mn = int(val - 60 * int(hr))\n",
    "    mn = str(mn).zfill(2)\n",
    "    ans = hr + ':' + mn\n",
    "    #print(ans)\n",
    "    return ans\n",
    "\n",
    "def date_formatter(row):\n",
    "    old_date = var_df.iloc[row].birthtime\n",
    "    \n",
    "    year = str(old_date[0]).zfill(4)\n",
    "    month = str(old_date[1]).zfill(2)\n",
    "    day = str(old_date[2]).zfill(2)\n",
    "    new_date = str(year) + '/' + str(month) + '/' + str(day)\n",
    "    \n",
    "    location = var_df.iloc[row].point\n",
    "    #print(location)\n",
    "    lat = location[0]\n",
    "    lng = location[1]\n",
    "    #print(lat,lng)\n",
    "    if 'n' in lat:\n",
    "        lat = lat.replace('n', '.')\n",
    "    if 's' in lat:\n",
    "        lat = '-' + (lat.replace('s', '.'))\n",
    "    if 'e' in lng:\n",
    "        lng = lng.replace('e', '.')\n",
    "    if 'w' in lng:\n",
    "        lng = '-' + (lng.replace('w', '.'))\n",
    "    #print(lat,lng)\n",
    "    offset = get_offset(float(lat), float(lng))\n",
    "    \n",
    "    if len(old_date) == 4:\n",
    "        time = str(old_date[3])\n",
    "        ans = Datetime(new_date, time, offset)\n",
    "    else:\n",
    "        ans = Datetime(new_date, offset)\n",
    "    #print(ans)\n",
    "    return ans\n",
    "\n",
    "def chart_creator(row):\n",
    "    #print('hi')\n",
    "    '''\n",
    "    if var_df.iloc[row].point == None or var_df.iloc[row].location == None or var_df.iloc[row].birthplace == None or var_df.iloc[row].birthtime == None:\n",
    "        return None\n",
    "    '''\n",
    "    d = date_formatter(row)\n",
    "    #print(d)\n",
    "    #^Remember to use the same df here.\n",
    "    l = var_df.iloc[row].point\n",
    "    pos = GeoPos(l[0], l[1])\n",
    "    #print('bye')\n",
    "    try:\n",
    "        chart = Chart(d, pos)\n",
    "        return chart\n",
    "    except:\n",
    "        None"
   ]
  },
  {
   "cell_type": "code",
   "execution_count": 58,
   "metadata": {},
   "outputs": [
    {
     "name": "stdout",
     "output_type": "stream",
     "text": [
      "<bound method Chart.getObject of <flatlib.chart.Chart object at 0x1a209ae3c8>>\n"
     ]
    }
   ],
   "source": [
    "#print(get_offset(45.69,9.67))\n",
    "'''\n",
    "print(var_df.iloc[0].point)\n",
    "print(type(var_df.iloc[0].point))\n",
    "print(len(var_df.iloc[0].point))\n",
    "print(date_formatter(1))\n",
    "'''\n",
    "print(chart_creator(0).getObject)"
   ]
  },
  {
   "cell_type": "code",
   "execution_count": 59,
   "metadata": {},
   "outputs": [],
   "source": [
    "var_df['chart'] = var_df['count'].apply(chart_creator)"
   ]
  },
  {
   "cell_type": "code",
   "execution_count": 60,
   "metadata": {},
   "outputs": [],
   "source": [
    "def planet_signs(birthchart):\n",
    "    #print('hi')\n",
    "    planet_sign_lst = []\n",
    "    planet_sign_lst.append(birthchart.get(const.SUN).sign)\n",
    "    planet_sign_lst.append(birthchart.get(const.MOON).sign)\n",
    "    planet_sign_lst.append(birthchart.get(const.MERCURY).sign)\n",
    "    planet_sign_lst.append(birthchart.get(const.MARS).sign)\n",
    "    planet_sign_lst.append(birthchart.get(const.VENUS).sign)\n",
    "    planet_sign_lst.append(birthchart.get(const.JUPITER).sign)\n",
    "    planet_sign_lst.append(birthchart.get(const.SATURN).sign)\n",
    "    planet_sign_lst.append(birthchart.get(const.NORTH_NODE).sign)\n",
    "\n",
    "    #Won't work for URANUS or NEPTUNE or PlUTO, unfortunately.\n",
    "    return planet_sign_lst\n",
    "\n",
    "def sun_signs(birthchart):\n",
    "    #print('hi')\n",
    "    planet_sign_lst = []\n",
    "    planet_sign_lst.append(birthchart.get(const.SUN).sign)\n",
    "    planet_sign_lst.append(birthchart.get(const.MOON).sign)\n",
    "    planet_sign_lst.append(birthchart.get(const.MERCURY).sign)\n",
    "    planet_sign_lst.append(birthchart.get(const.MARS).sign)\n",
    "    planet_sign_lst.append(birthchart.get(const.VENUS).sign)\n",
    "    planet_sign_lst.append(birthchart.get(const.JUPITER).sign)\n",
    "    planet_sign_lst.append(birthchart.get(const.SATURN).sign)\n",
    "    planet_sign_lst.append(birthchart.get(const.NORTH_NODE).sign)\n",
    "\n",
    "    return planet_sign_lst[0]\n",
    "\n",
    "def moon_signs(birthchart):\n",
    "    #print('hi')\n",
    "    planet_sign_lst = []\n",
    "    planet_sign_lst.append(birthchart.get(const.SUN).sign)\n",
    "    planet_sign_lst.append(birthchart.get(const.MOON).sign)\n",
    "    planet_sign_lst.append(birthchart.get(const.MERCURY).sign)\n",
    "    planet_sign_lst.append(birthchart.get(const.MARS).sign)\n",
    "    planet_sign_lst.append(birthchart.get(const.VENUS).sign)\n",
    "    planet_sign_lst.append(birthchart.get(const.JUPITER).sign)\n",
    "    planet_sign_lst.append(birthchart.get(const.SATURN).sign)\n",
    "    planet_sign_lst.append(birthchart.get(const.NORTH_NODE).sign)\n",
    "\n",
    "    return planet_sign_lst[1]\n",
    "\n",
    "def mercury_signs(birthchart):\n",
    "    #print('hi')\n",
    "    planet_sign_lst = []\n",
    "    planet_sign_lst.append(birthchart.get(const.SUN).sign)\n",
    "    planet_sign_lst.append(birthchart.get(const.MOON).sign)\n",
    "    planet_sign_lst.append(birthchart.get(const.MERCURY).sign)\n",
    "    planet_sign_lst.append(birthchart.get(const.MARS).sign)\n",
    "    planet_sign_lst.append(birthchart.get(const.VENUS).sign)\n",
    "    planet_sign_lst.append(birthchart.get(const.JUPITER).sign)\n",
    "    planet_sign_lst.append(birthchart.get(const.SATURN).sign)\n",
    "    planet_sign_lst.append(birthchart.get(const.NORTH_NODE).sign)\n",
    "\n",
    "    return planet_sign_lst[2]\n",
    "\n",
    "def mars_signs(birthchart):\n",
    "    #print('hi')\n",
    "    planet_sign_lst = []\n",
    "    planet_sign_lst.append(birthchart.get(const.SUN).sign)\n",
    "    planet_sign_lst.append(birthchart.get(const.MOON).sign)\n",
    "    planet_sign_lst.append(birthchart.get(const.MERCURY).sign)\n",
    "    planet_sign_lst.append(birthchart.get(const.MARS).sign)\n",
    "    planet_sign_lst.append(birthchart.get(const.VENUS).sign)\n",
    "    planet_sign_lst.append(birthchart.get(const.JUPITER).sign)\n",
    "    planet_sign_lst.append(birthchart.get(const.SATURN).sign)\n",
    "    planet_sign_lst.append(birthchart.get(const.NORTH_NODE).sign)\n",
    "\n",
    "    return planet_sign_lst[3]\n",
    "\n",
    "def venus_signs(birthchart):\n",
    "    #print('hi')\n",
    "    planet_sign_lst = []\n",
    "    planet_sign_lst.append(birthchart.get(const.SUN).sign)\n",
    "    planet_sign_lst.append(birthchart.get(const.MOON).sign)\n",
    "    planet_sign_lst.append(birthchart.get(const.MERCURY).sign)\n",
    "    planet_sign_lst.append(birthchart.get(const.MARS).sign)\n",
    "    planet_sign_lst.append(birthchart.get(const.VENUS).sign)\n",
    "    planet_sign_lst.append(birthchart.get(const.JUPITER).sign)\n",
    "    planet_sign_lst.append(birthchart.get(const.SATURN).sign)\n",
    "    planet_sign_lst.append(birthchart.get(const.NORTH_NODE).sign)\n",
    "\n",
    "    return planet_sign_lst[4]\n",
    "\n",
    "def jupiter_signs(birthchart):\n",
    "    #print('hi')\n",
    "    planet_sign_lst = []\n",
    "    planet_sign_lst.append(birthchart.get(const.SUN).sign)\n",
    "    planet_sign_lst.append(birthchart.get(const.MOON).sign)\n",
    "    planet_sign_lst.append(birthchart.get(const.MERCURY).sign)\n",
    "    planet_sign_lst.append(birthchart.get(const.MARS).sign)\n",
    "    planet_sign_lst.append(birthchart.get(const.VENUS).sign)\n",
    "    planet_sign_lst.append(birthchart.get(const.JUPITER).sign)\n",
    "    planet_sign_lst.append(birthchart.get(const.SATURN).sign)\n",
    "    planet_sign_lst.append(birthchart.get(const.NORTH_NODE).sign)\n",
    "\n",
    "    return planet_sign_lst[5]\n",
    "\n",
    "def saturn_signs(birthchart):\n",
    "    #print('hi')\n",
    "    planet_sign_lst = []\n",
    "    planet_sign_lst.append(birthchart.get(const.SUN).sign)\n",
    "    planet_sign_lst.append(birthchart.get(const.MOON).sign)\n",
    "    planet_sign_lst.append(birthchart.get(const.MERCURY).sign)\n",
    "    planet_sign_lst.append(birthchart.get(const.MARS).sign)\n",
    "    planet_sign_lst.append(birthchart.get(const.VENUS).sign)\n",
    "    planet_sign_lst.append(birthchart.get(const.JUPITER).sign)\n",
    "    planet_sign_lst.append(birthchart.get(const.SATURN).sign)\n",
    "    planet_sign_lst.append(birthchart.get(const.NORTH_NODE).sign)\n",
    "\n",
    "    return planet_sign_lst[6]\n",
    "\n",
    "def north_node_signs(birthchart):\n",
    "    #print('hi')\n",
    "    planet_sign_lst = []\n",
    "    planet_sign_lst.append(birthchart.get(const.SUN).sign)\n",
    "    planet_sign_lst.append(birthchart.get(const.MOON).sign)\n",
    "    planet_sign_lst.append(birthchart.get(const.MERCURY).sign)\n",
    "    planet_sign_lst.append(birthchart.get(const.MARS).sign)\n",
    "    planet_sign_lst.append(birthchart.get(const.VENUS).sign)\n",
    "    planet_sign_lst.append(birthchart.get(const.JUPITER).sign)\n",
    "    planet_sign_lst.append(birthchart.get(const.SATURN).sign)\n",
    "    planet_sign_lst.append(birthchart.get(const.NORTH_NODE).sign)\n",
    "\n",
    "    return planet_sign_lst[7]"
   ]
  },
  {
   "cell_type": "code",
   "execution_count": 61,
   "metadata": {},
   "outputs": [],
   "source": [
    "var_df['planet_signs'] = var_df['chart'].apply(planet_signs)\n",
    "var_df['sun_signs'] = var_df['chart'].apply(sun_signs)\n",
    "var_df['moon_signs'] = var_df['chart'].apply(moon_signs)\n",
    "var_df['mercury_signs'] = var_df['chart'].apply(mercury_signs)\n",
    "var_df['mars_signs'] = var_df['chart'].apply(mars_signs)\n",
    "var_df['venus_signs'] = var_df['chart'].apply(venus_signs)\n",
    "var_df['jupiter_signs'] = var_df['chart'].apply(jupiter_signs)\n",
    "var_df['saturn_signs'] = var_df['chart'].apply(saturn_signs)\n",
    "var_df['north_node_signs'] = var_df['chart'].apply(north_node_signs)"
   ]
  },
  {
   "cell_type": "code",
   "execution_count": 62,
   "metadata": {},
   "outputs": [
    {
     "data": {
      "text/html": [
       "<div>\n",
       "<style scoped>\n",
       "    .dataframe tbody tr th:only-of-type {\n",
       "        vertical-align: middle;\n",
       "    }\n",
       "\n",
       "    .dataframe tbody tr th {\n",
       "        vertical-align: top;\n",
       "    }\n",
       "\n",
       "    .dataframe thead th {\n",
       "        text-align: right;\n",
       "    }\n",
       "</style>\n",
       "<table border=\"1\" class=\"dataframe\">\n",
       "  <thead>\n",
       "    <tr style=\"text-align: right;\">\n",
       "      <th></th>\n",
       "      <th>name</th>\n",
       "      <th>occupation</th>\n",
       "      <th>count</th>\n",
       "      <th>birthtime</th>\n",
       "      <th>birthplace</th>\n",
       "      <th>location</th>\n",
       "      <th>point</th>\n",
       "      <th>chart</th>\n",
       "      <th>planet_signs</th>\n",
       "      <th>sun_signs</th>\n",
       "      <th>moon_signs</th>\n",
       "      <th>mercury_signs</th>\n",
       "      <th>mars_signs</th>\n",
       "      <th>venus_signs</th>\n",
       "      <th>jupiter_signs</th>\n",
       "      <th>saturn_signs</th>\n",
       "      <th>north_node_signs</th>\n",
       "    </tr>\n",
       "  </thead>\n",
       "  <tbody>\n",
       "    <tr>\n",
       "      <th>0</th>\n",
       "      <td>Emperor_Shōwa</td>\n",
       "      <td>r_rulers</td>\n",
       "      <td>0</td>\n",
       "      <td>[1901, 4, 29, 22:10]</td>\n",
       "      <td>Tokyo, Japan</td>\n",
       "      <td>東京都, 日本 (Japan)</td>\n",
       "      <td>[35n6828, 139e7595]</td>\n",
       "      <td>&lt;flatlib.chart.Chart object at 0x1a209aec18&gt;</td>\n",
       "      <td>[Taurus, Virgo, Aries, Leo, Taurus, Capricorn,...</td>\n",
       "      <td>Taurus</td>\n",
       "      <td>Virgo</td>\n",
       "      <td>Aries</td>\n",
       "      <td>Leo</td>\n",
       "      <td>Taurus</td>\n",
       "      <td>Capricorn</td>\n",
       "      <td>Capricorn</td>\n",
       "      <td>Scorpio</td>\n",
       "    </tr>\n",
       "    <tr>\n",
       "      <th>1</th>\n",
       "      <td>Kaiser_Wilhelm_II</td>\n",
       "      <td>r_rulers</td>\n",
       "      <td>1</td>\n",
       "      <td>[1859, 1, 27, 15:00]</td>\n",
       "      <td>Berlin, Germany</td>\n",
       "      <td>Berlin, Deutschland</td>\n",
       "      <td>[52n517, 13e3889]</td>\n",
       "      <td>&lt;flatlib.chart.Chart object at 0x1a209aec88&gt;</td>\n",
       "      <td>[Aquarius, Scorpio, Capricorn, Pisces, Sagitta...</td>\n",
       "      <td>Aquarius</td>\n",
       "      <td>Scorpio</td>\n",
       "      <td>Capricorn</td>\n",
       "      <td>Pisces</td>\n",
       "      <td>Sagittarius</td>\n",
       "      <td>Gemini</td>\n",
       "      <td>Leo</td>\n",
       "      <td>Pisces</td>\n",
       "    </tr>\n",
       "    <tr>\n",
       "      <th>2</th>\n",
       "      <td>Princess_Diana</td>\n",
       "      <td>r_rulers</td>\n",
       "      <td>2</td>\n",
       "      <td>[1961, 7, 1, 19:45]</td>\n",
       "      <td>Sandringham, England, United Kingdom</td>\n",
       "      <td>Sandringham, Norfolk, East of England, England...</td>\n",
       "      <td>[52n8294, 0e5156]</td>\n",
       "      <td>&lt;flatlib.chart.Chart object at 0x1a209aedd8&gt;</td>\n",
       "      <td>[Cancer, Aquarius, Cancer, Virgo, Taurus, Aqua...</td>\n",
       "      <td>Cancer</td>\n",
       "      <td>Aquarius</td>\n",
       "      <td>Cancer</td>\n",
       "      <td>Virgo</td>\n",
       "      <td>Taurus</td>\n",
       "      <td>Aquarius</td>\n",
       "      <td>Capricorn</td>\n",
       "      <td>Leo</td>\n",
       "    </tr>\n",
       "    <tr>\n",
       "      <th>3</th>\n",
       "      <td>Tsar_Nicholas_II</td>\n",
       "      <td>r_rulers</td>\n",
       "      <td>3</td>\n",
       "      <td>[1868, 5, 18, 00:15]</td>\n",
       "      <td>Saint Petersburg, Russia</td>\n",
       "      <td>Санкт-Петербург, Северо-Западный федеральный о...</td>\n",
       "      <td>[59n9607, 30e1587]</td>\n",
       "      <td>&lt;flatlib.chart.Chart object at 0x1a20890978&gt;</td>\n",
       "      <td>[Taurus, Aries, Gemini, Aries, Cancer, Aries, ...</td>\n",
       "      <td>Taurus</td>\n",
       "      <td>Aries</td>\n",
       "      <td>Gemini</td>\n",
       "      <td>Aries</td>\n",
       "      <td>Cancer</td>\n",
       "      <td>Aries</td>\n",
       "      <td>Sagittarius</td>\n",
       "      <td>Virgo</td>\n",
       "    </tr>\n",
       "    <tr>\n",
       "      <th>4</th>\n",
       "      <td>Norodom_Sihanouk</td>\n",
       "      <td>r_rulers</td>\n",
       "      <td>4</td>\n",
       "      <td>[1922, 10, 31, 19:05]</td>\n",
       "      <td>Phnom Penh, Cambodia</td>\n",
       "      <td>រាជធានីភ្នំពេញ, ខណ្ឌដូនពេញ, រាជធានីភ្នំពេញ, 11...</td>\n",
       "      <td>[11n5683, 104e9224]</td>\n",
       "      <td>&lt;flatlib.chart.Chart object at 0x1a1f606eb8&gt;</td>\n",
       "      <td>[Scorpio, Pisces, Libra, Aquarius, Sagittarius...</td>\n",
       "      <td>Scorpio</td>\n",
       "      <td>Pisces</td>\n",
       "      <td>Libra</td>\n",
       "      <td>Aquarius</td>\n",
       "      <td>Sagittarius</td>\n",
       "      <td>Scorpio</td>\n",
       "      <td>Libra</td>\n",
       "      <td>Virgo</td>\n",
       "    </tr>\n",
       "  </tbody>\n",
       "</table>\n",
       "</div>"
      ],
      "text/plain": [
       "                name occupation  count              birthtime  \\\n",
       "0      Emperor_Shōwa   r_rulers      0   [1901, 4, 29, 22:10]   \n",
       "1  Kaiser_Wilhelm_II   r_rulers      1   [1859, 1, 27, 15:00]   \n",
       "2     Princess_Diana   r_rulers      2    [1961, 7, 1, 19:45]   \n",
       "3   Tsar_Nicholas_II   r_rulers      3   [1868, 5, 18, 00:15]   \n",
       "4   Norodom_Sihanouk   r_rulers      4  [1922, 10, 31, 19:05]   \n",
       "\n",
       "                             birthplace  \\\n",
       "0                          Tokyo, Japan   \n",
       "1                       Berlin, Germany   \n",
       "2  Sandringham, England, United Kingdom   \n",
       "3              Saint Petersburg, Russia   \n",
       "4                  Phnom Penh, Cambodia   \n",
       "\n",
       "                                            location                point  \\\n",
       "0                                    東京都, 日本 (Japan)  [35n6828, 139e7595]   \n",
       "1                                Berlin, Deutschland    [52n517, 13e3889]   \n",
       "2  Sandringham, Norfolk, East of England, England...    [52n8294, 0e5156]   \n",
       "3  Санкт-Петербург, Северо-Западный федеральный о...   [59n9607, 30e1587]   \n",
       "4  រាជធានីភ្នំពេញ, ខណ្ឌដូនពេញ, រាជធានីភ្នំពេញ, 11...  [11n5683, 104e9224]   \n",
       "\n",
       "                                          chart  \\\n",
       "0  <flatlib.chart.Chart object at 0x1a209aec18>   \n",
       "1  <flatlib.chart.Chart object at 0x1a209aec88>   \n",
       "2  <flatlib.chart.Chart object at 0x1a209aedd8>   \n",
       "3  <flatlib.chart.Chart object at 0x1a20890978>   \n",
       "4  <flatlib.chart.Chart object at 0x1a1f606eb8>   \n",
       "\n",
       "                                        planet_signs sun_signs moon_signs  \\\n",
       "0  [Taurus, Virgo, Aries, Leo, Taurus, Capricorn,...    Taurus      Virgo   \n",
       "1  [Aquarius, Scorpio, Capricorn, Pisces, Sagitta...  Aquarius    Scorpio   \n",
       "2  [Cancer, Aquarius, Cancer, Virgo, Taurus, Aqua...    Cancer   Aquarius   \n",
       "3  [Taurus, Aries, Gemini, Aries, Cancer, Aries, ...    Taurus      Aries   \n",
       "4  [Scorpio, Pisces, Libra, Aquarius, Sagittarius...   Scorpio     Pisces   \n",
       "\n",
       "  mercury_signs mars_signs  venus_signs jupiter_signs saturn_signs  \\\n",
       "0         Aries        Leo       Taurus     Capricorn    Capricorn   \n",
       "1     Capricorn     Pisces  Sagittarius        Gemini          Leo   \n",
       "2        Cancer      Virgo       Taurus      Aquarius    Capricorn   \n",
       "3        Gemini      Aries       Cancer         Aries  Sagittarius   \n",
       "4         Libra   Aquarius  Sagittarius       Scorpio        Libra   \n",
       "\n",
       "  north_node_signs  \n",
       "0          Scorpio  \n",
       "1           Pisces  \n",
       "2              Leo  \n",
       "3            Virgo  \n",
       "4            Virgo  "
      ]
     },
     "execution_count": 62,
     "metadata": {},
     "output_type": "execute_result"
    }
   ],
   "source": [
    "#var_df.iloc[0].planet_signs\n",
    "var_df.head()"
   ]
  },
  {
   "cell_type": "code",
   "execution_count": 63,
   "metadata": {},
   "outputs": [
    {
     "name": "stdout",
     "output_type": "stream",
     "text": [
      "<Sun Taurus +08:30:47 +00:58:14>\n"
     ]
    }
   ],
   "source": [
    "print(var_df.iloc[0].chart.getObject(const.SUN))\n"
   ]
  },
  {
   "cell_type": "code",
   "execution_count": 64,
   "metadata": {},
   "outputs": [],
   "source": [
    "#The getAspect thing is failing, which is a bummer. But moon.signlon is working... I'm gonna make my own aspect method."
   ]
  },
  {
   "cell_type": "code",
   "execution_count": 65,
   "metadata": {},
   "outputs": [
    {
     "name": "stdout",
     "output_type": "stream",
     "text": [
      "<Sun Cancer +11:04:39 +00:57:13>\n",
      "<Moon Gemini +19:31:15 +13:02:05>\n",
      "19.520753533711357\n",
      "<Moon Sun -1 None +00:00:00>\n",
      "-1\n"
     ]
    }
   ],
   "source": [
    "date = Datetime('1997/07/02', '16:07', '-07:00')\n",
    "pos = GeoPos('37n7644', '121w9540')\n",
    "chart = Chart(date, pos)\n",
    "\n",
    "sun = chart.getObject(const.SUN)\n",
    "#print(sun)\n",
    "moon = chart.get(const.MOON)\n",
    "print(sun)\n",
    "print(moon)\n",
    "print(moon.signlon)\n",
    "aspect = aspects.getAspect(sun, moon, const.MAJOR_ASPECTS)\n",
    "print(aspect)\n",
    "print(aspect.type)"
   ]
  },
  {
   "cell_type": "code",
   "execution_count": 66,
   "metadata": {},
   "outputs": [],
   "source": [
    "def convert_to_decimal(p):\n",
    "    sign = p.sign\n",
    "    a1 = 0\n",
    "    if sign == 'Aries':\n",
    "        a1 = 0\n",
    "    if sign == 'Taurus':\n",
    "        a1 = 30\n",
    "    if sign == 'Gemini':\n",
    "        a1 = 60\n",
    "    if sign == 'Cancer':\n",
    "        a1 = 90\n",
    "    if sign == 'Leo':\n",
    "        a1 = 120\n",
    "    if sign == 'Virgo':\n",
    "        a1 = 150\n",
    "    if sign == 'Libra':\n",
    "        a1 = 180\n",
    "    if sign == 'Scorpio':\n",
    "        a1 = 210\n",
    "    if sign == 'Sagittarius':\n",
    "        a1 = 240\n",
    "    if sign == 'Capricorn':\n",
    "        a1 = 270\n",
    "    if sign == 'Aquarius':\n",
    "        a1 = 300\n",
    "    if sign == 'Pisces':\n",
    "        a1 = 330\n",
    "    final_deg = a1 + p.signlon\n",
    "    return final_deg\n",
    "\n",
    "def getaspect(p1, p2):\n",
    "    angle = abs(convert_to_decimal(p1) - convert_to_decimal(p2))\n",
    "    #print(angle)\n",
    "    #conjunction, orb = 8\n",
    "    if abs(angle) == 0:\n",
    "        return None\n",
    "    if abs(angle) <= 8:\n",
    "        return 0\n",
    "    #opposition, orb = 8\n",
    "    if abs(angle - 180) <= 8 and abs(angle - 180) >= -8:\n",
    "        return 180\n",
    "    #trine, orb = 8\n",
    "    if abs(angle - 120) <= 8 and abs(angle - 120) >= -8:\n",
    "        return 120\n",
    "    if abs(angle - 240) <= 8 and abs(angle - 240) >= -8:\n",
    "        return 120\n",
    "    #square, orb = 7\n",
    "    if abs(angle - 90) <= 7 and abs(angle - 90) >= -7:\n",
    "        return 90\n",
    "    if abs(angle - 270) <= 7 and abs(angle - 270) >= -7:\n",
    "        return 90\n",
    "    #sextile, orb = 6\n",
    "    if abs(angle - 60) <= 6 and abs(angle - 60) >= -6:\n",
    "        return 60\n",
    "    if abs(angle - 300) <= 6 and abs(angle - 300) >= -6:\n",
    "        return 60\n",
    "    #quintile, orb = 1\n",
    "    if abs(angle - 72) <= 1 and abs(angle - 72) >= -1:\n",
    "        return 72\n",
    "    if abs(angle - 288) <= 1 and abs(angle - 288) >= -1:\n",
    "        return 72\n",
    "    #septile, orb = 1\n",
    "    if abs(angle - 360/7) <= 1 and abs(angle - 360/7) >= -1:\n",
    "        return 360/7\n",
    "    if abs(angle - (360 - 360/7)) <= 1 and abs(angle - (360 - 360/7)) >= -1:\n",
    "        return 360/7\n",
    "    return None\n",
    "    \n",
    "\n",
    "def aspects(birthchart): \n",
    "    '''\n",
    "    for obj in birthchart.objects:\n",
    "        print(obj)\n",
    "    '''\n",
    "    aspect_lst = []\n",
    "    counter = 0\n",
    "    for p1 in birthchart.objects:\n",
    "        if counter <= 7:\n",
    "            temp_lst = []\n",
    "            temp_counter = 0\n",
    "            for p2 in birthchart.objects:\n",
    "                if temp_counter <= 7:\n",
    "                    #temp_lst.append(aspects.getAspect(p1, p2, const.MAJOR_ASPECTS).type)\n",
    "                    temp_lst.append(getaspect(p1, p2))\n",
    "                temp_counter += 1\n",
    "            aspect_lst.append(temp_lst)\n",
    "        counter += 1\n",
    "\n",
    "    return aspect_lst"
   ]
  },
  {
   "cell_type": "code",
   "execution_count": 67,
   "metadata": {},
   "outputs": [
    {
     "name": "stdout",
     "output_type": "stream",
     "text": [
      "[[None, None, None, None, 90, None, None, 72], [None, None, None, None, None, 120, 60, 90], [None, None, None, None, None, None, 90, 60], [None, None, None, None, 60, None, None, None], [90, None, None, 60, None, None, None, None], [None, 120, None, None, None, None, 60, None], [None, 60, 90, None, None, 60, None, None], [72, 90, 60, None, None, None, None, None]]\n"
     ]
    }
   ],
   "source": [
    "date = Datetime('1997/07/02', '16:07', '-07:00')\n",
    "pos = GeoPos('37n7644', '121w9540')\n",
    "chart = Chart(date, pos)\n",
    "\n",
    "print(aspects(chart))"
   ]
  },
  {
   "cell_type": "code",
   "execution_count": 68,
   "metadata": {},
   "outputs": [],
   "source": [
    "var_df['aspect_matrix'] = var_df['chart'].apply(aspects)"
   ]
  },
  {
   "cell_type": "code",
   "execution_count": 69,
   "metadata": {},
   "outputs": [
    {
     "data": {
      "text/html": [
       "<div>\n",
       "<style scoped>\n",
       "    .dataframe tbody tr th:only-of-type {\n",
       "        vertical-align: middle;\n",
       "    }\n",
       "\n",
       "    .dataframe tbody tr th {\n",
       "        vertical-align: top;\n",
       "    }\n",
       "\n",
       "    .dataframe thead th {\n",
       "        text-align: right;\n",
       "    }\n",
       "</style>\n",
       "<table border=\"1\" class=\"dataframe\">\n",
       "  <thead>\n",
       "    <tr style=\"text-align: right;\">\n",
       "      <th></th>\n",
       "      <th>name</th>\n",
       "      <th>occupation</th>\n",
       "      <th>count</th>\n",
       "      <th>birthtime</th>\n",
       "      <th>birthplace</th>\n",
       "      <th>location</th>\n",
       "      <th>point</th>\n",
       "      <th>chart</th>\n",
       "      <th>planet_signs</th>\n",
       "      <th>sun_signs</th>\n",
       "      <th>moon_signs</th>\n",
       "      <th>mercury_signs</th>\n",
       "      <th>mars_signs</th>\n",
       "      <th>venus_signs</th>\n",
       "      <th>jupiter_signs</th>\n",
       "      <th>saturn_signs</th>\n",
       "      <th>north_node_signs</th>\n",
       "      <th>aspect_matrix</th>\n",
       "    </tr>\n",
       "  </thead>\n",
       "  <tbody>\n",
       "    <tr>\n",
       "      <th>0</th>\n",
       "      <td>Emperor_Shōwa</td>\n",
       "      <td>r_rulers</td>\n",
       "      <td>0</td>\n",
       "      <td>[1901, 4, 29, 22:10]</td>\n",
       "      <td>Tokyo, Japan</td>\n",
       "      <td>東京都, 日本 (Japan)</td>\n",
       "      <td>[35n6828, 139e7595]</td>\n",
       "      <td>&lt;flatlib.chart.Chart object at 0x1a209aec18&gt;</td>\n",
       "      <td>[Taurus, Virgo, Aries, Leo, Taurus, Capricorn,...</td>\n",
       "      <td>Taurus</td>\n",
       "      <td>Virgo</td>\n",
       "      <td>Aries</td>\n",
       "      <td>Leo</td>\n",
       "      <td>Taurus</td>\n",
       "      <td>Capricorn</td>\n",
       "      <td>Capricorn</td>\n",
       "      <td>Scorpio</td>\n",
       "      <td>[[None, None, None, 0, None, 120, 120, None], ...</td>\n",
       "    </tr>\n",
       "    <tr>\n",
       "      <th>1</th>\n",
       "      <td>Kaiser_Wilhelm_II</td>\n",
       "      <td>r_rulers</td>\n",
       "      <td>1</td>\n",
       "      <td>[1859, 1, 27, 15:00]</td>\n",
       "      <td>Berlin, Germany</td>\n",
       "      <td>Berlin, Deutschland</td>\n",
       "      <td>[52n517, 13e3889]</td>\n",
       "      <td>&lt;flatlib.chart.Chart object at 0x1a209aec88&gt;</td>\n",
       "      <td>[Aquarius, Scorpio, Capricorn, Pisces, Sagitta...</td>\n",
       "      <td>Aquarius</td>\n",
       "      <td>Scorpio</td>\n",
       "      <td>Capricorn</td>\n",
       "      <td>Pisces</td>\n",
       "      <td>Sagittarius</td>\n",
       "      <td>Gemini</td>\n",
       "      <td>Leo</td>\n",
       "      <td>Pisces</td>\n",
       "      <td>[[None, None, None, None, None, 120, 180, None...</td>\n",
       "    </tr>\n",
       "    <tr>\n",
       "      <th>2</th>\n",
       "      <td>Princess_Diana</td>\n",
       "      <td>r_rulers</td>\n",
       "      <td>2</td>\n",
       "      <td>[1961, 7, 1, 19:45]</td>\n",
       "      <td>Sandringham, England, United Kingdom</td>\n",
       "      <td>Sandringham, Norfolk, East of England, England...</td>\n",
       "      <td>[52n8294, 0e5156]</td>\n",
       "      <td>&lt;flatlib.chart.Chart object at 0x1a209aedd8&gt;</td>\n",
       "      <td>[Cancer, Aquarius, Cancer, Virgo, Taurus, Aqua...</td>\n",
       "      <td>Cancer</td>\n",
       "      <td>Aquarius</td>\n",
       "      <td>Cancer</td>\n",
       "      <td>Virgo</td>\n",
       "      <td>Taurus</td>\n",
       "      <td>Aquarius</td>\n",
       "      <td>Capricorn</td>\n",
       "      <td>Leo</td>\n",
       "      <td>[[None, None, 0, None, 51.42857142857143, None...</td>\n",
       "    </tr>\n",
       "    <tr>\n",
       "      <th>3</th>\n",
       "      <td>Tsar_Nicholas_II</td>\n",
       "      <td>r_rulers</td>\n",
       "      <td>3</td>\n",
       "      <td>[1868, 5, 18, 00:15]</td>\n",
       "      <td>Saint Petersburg, Russia</td>\n",
       "      <td>Санкт-Петербург, Северо-Западный федеральный о...</td>\n",
       "      <td>[59n9607, 30e1587]</td>\n",
       "      <td>&lt;flatlib.chart.Chart object at 0x1a20890978&gt;</td>\n",
       "      <td>[Taurus, Aries, Gemini, Aries, Cancer, Aries, ...</td>\n",
       "      <td>Taurus</td>\n",
       "      <td>Aries</td>\n",
       "      <td>Gemini</td>\n",
       "      <td>Aries</td>\n",
       "      <td>Cancer</td>\n",
       "      <td>Aries</td>\n",
       "      <td>Sagittarius</td>\n",
       "      <td>Virgo</td>\n",
       "      <td>[[None, 60, 0, None, None, 51.42857142857143, ...</td>\n",
       "    </tr>\n",
       "    <tr>\n",
       "      <th>4</th>\n",
       "      <td>Norodom_Sihanouk</td>\n",
       "      <td>r_rulers</td>\n",
       "      <td>4</td>\n",
       "      <td>[1922, 10, 31, 19:05]</td>\n",
       "      <td>Phnom Penh, Cambodia</td>\n",
       "      <td>រាជធានីភ្នំពេញ, ខណ្ឌដូនពេញ, រាជធានីភ្នំពេញ, 11...</td>\n",
       "      <td>[11n5683, 104e9224]</td>\n",
       "      <td>&lt;flatlib.chart.Chart object at 0x1a1f606eb8&gt;</td>\n",
       "      <td>[Scorpio, Pisces, Libra, Aquarius, Sagittarius...</td>\n",
       "      <td>Scorpio</td>\n",
       "      <td>Pisces</td>\n",
       "      <td>Libra</td>\n",
       "      <td>Aquarius</td>\n",
       "      <td>Sagittarius</td>\n",
       "      <td>Scorpio</td>\n",
       "      <td>Libra</td>\n",
       "      <td>Virgo</td>\n",
       "      <td>[[None, None, None, None, 90, 0, None, None], ...</td>\n",
       "    </tr>\n",
       "  </tbody>\n",
       "</table>\n",
       "</div>"
      ],
      "text/plain": [
       "                name occupation  count              birthtime  \\\n",
       "0      Emperor_Shōwa   r_rulers      0   [1901, 4, 29, 22:10]   \n",
       "1  Kaiser_Wilhelm_II   r_rulers      1   [1859, 1, 27, 15:00]   \n",
       "2     Princess_Diana   r_rulers      2    [1961, 7, 1, 19:45]   \n",
       "3   Tsar_Nicholas_II   r_rulers      3   [1868, 5, 18, 00:15]   \n",
       "4   Norodom_Sihanouk   r_rulers      4  [1922, 10, 31, 19:05]   \n",
       "\n",
       "                             birthplace  \\\n",
       "0                          Tokyo, Japan   \n",
       "1                       Berlin, Germany   \n",
       "2  Sandringham, England, United Kingdom   \n",
       "3              Saint Petersburg, Russia   \n",
       "4                  Phnom Penh, Cambodia   \n",
       "\n",
       "                                            location                point  \\\n",
       "0                                    東京都, 日本 (Japan)  [35n6828, 139e7595]   \n",
       "1                                Berlin, Deutschland    [52n517, 13e3889]   \n",
       "2  Sandringham, Norfolk, East of England, England...    [52n8294, 0e5156]   \n",
       "3  Санкт-Петербург, Северо-Западный федеральный о...   [59n9607, 30e1587]   \n",
       "4  រាជធានីភ្នំពេញ, ខណ្ឌដូនពេញ, រាជធានីភ្នំពេញ, 11...  [11n5683, 104e9224]   \n",
       "\n",
       "                                          chart  \\\n",
       "0  <flatlib.chart.Chart object at 0x1a209aec18>   \n",
       "1  <flatlib.chart.Chart object at 0x1a209aec88>   \n",
       "2  <flatlib.chart.Chart object at 0x1a209aedd8>   \n",
       "3  <flatlib.chart.Chart object at 0x1a20890978>   \n",
       "4  <flatlib.chart.Chart object at 0x1a1f606eb8>   \n",
       "\n",
       "                                        planet_signs sun_signs moon_signs  \\\n",
       "0  [Taurus, Virgo, Aries, Leo, Taurus, Capricorn,...    Taurus      Virgo   \n",
       "1  [Aquarius, Scorpio, Capricorn, Pisces, Sagitta...  Aquarius    Scorpio   \n",
       "2  [Cancer, Aquarius, Cancer, Virgo, Taurus, Aqua...    Cancer   Aquarius   \n",
       "3  [Taurus, Aries, Gemini, Aries, Cancer, Aries, ...    Taurus      Aries   \n",
       "4  [Scorpio, Pisces, Libra, Aquarius, Sagittarius...   Scorpio     Pisces   \n",
       "\n",
       "  mercury_signs mars_signs  venus_signs jupiter_signs saturn_signs  \\\n",
       "0         Aries        Leo       Taurus     Capricorn    Capricorn   \n",
       "1     Capricorn     Pisces  Sagittarius        Gemini          Leo   \n",
       "2        Cancer      Virgo       Taurus      Aquarius    Capricorn   \n",
       "3        Gemini      Aries       Cancer         Aries  Sagittarius   \n",
       "4         Libra   Aquarius  Sagittarius       Scorpio        Libra   \n",
       "\n",
       "  north_node_signs                                      aspect_matrix  \n",
       "0          Scorpio  [[None, None, None, 0, None, 120, 120, None], ...  \n",
       "1           Pisces  [[None, None, None, None, None, 120, 180, None...  \n",
       "2              Leo  [[None, None, 0, None, 51.42857142857143, None...  \n",
       "3            Virgo  [[None, 60, 0, None, None, 51.42857142857143, ...  \n",
       "4            Virgo  [[None, None, None, None, 90, 0, None, None], ...  "
      ]
     },
     "execution_count": 69,
     "metadata": {},
     "output_type": "execute_result"
    }
   ],
   "source": [
    "var_df.head()"
   ]
  },
  {
   "cell_type": "markdown",
   "metadata": {},
   "source": [
    "# PLOTTING STUFF"
   ]
  },
  {
   "cell_type": "markdown",
   "metadata": {},
   "source": [
    "Now that we have some astrology columns, let's make some plots."
   ]
  },
  {
   "cell_type": "code",
   "execution_count": 70,
   "metadata": {},
   "outputs": [
    {
     "data": {
      "text/plain": [
       "[Text(0, 0, 'Aries'),\n",
       " Text(0, 0, 'Taurus'),\n",
       " Text(0, 0, 'Gemini'),\n",
       " Text(0, 0, 'Cancer'),\n",
       " Text(0, 0, 'Leo'),\n",
       " Text(0, 0, 'Virgo'),\n",
       " Text(0, 0, 'Libra'),\n",
       " Text(0, 0, 'Scorpio'),\n",
       " Text(0, 0, 'Sagittarius'),\n",
       " Text(0, 0, 'Capricorn'),\n",
       " Text(0, 0, 'Aquarius'),\n",
       " Text(0, 0, 'Pisces')]"
      ]
     },
     "execution_count": 70,
     "metadata": {},
     "output_type": "execute_result"
    },
    {
     "data": {
      "image/png": "[encoded data removed]",
      "text/plain": [
       "<Figure size 1332x756 with 1 Axes>"
      ]
     },
     "metadata": {
      "needs_background": "light"
     },
     "output_type": "display_data"
    }
   ],
   "source": [
    "signs = ['Aries', 'Taurus', 'Gemini', 'Cancer', 'Leo', 'Virgo', 'Libra', 'Scorpio', 'Sagittarius', 'Capricorn', 'Aquarius', 'Pisces']\n",
    "sign_count = [var_df.loc[var_df.sun_signs == _, 'sun_signs'].count() for _ in signs]\n",
    "\n",
    "x = np.arange(len(signs))\n",
    "fig, ax = plt.subplots()\n",
    "fig.set_size_inches(18.5, 10.5, forward=True)\n",
    "\n",
    "bars = ax.bar(x, sign_count)\n",
    "# Make the ticks at the center of the bar using:\n",
    "#   center = left_edge + 0.5*width\n",
    "ax.set_xticks(x)\n",
    "ax.set_xticklabels(signs)"
   ]
  },
  {
   "cell_type": "markdown",
   "metadata": {},
   "source": [
    "^This plot is pretty bare at the moment. I'll clean it up later. (I'm thinking about using seaborn.)\n",
    "\n",
    "Also, I need to make this plot for each planet.\n",
    "\n",
    "For now, I'm gonna try to do a statistical test, just so I know what to do."
   ]
  },
  {
   "cell_type": "code",
   "execution_count": 71,
   "metadata": {},
   "outputs": [
    {
     "name": "stdout",
     "output_type": "stream",
     "text": [
      "9.145925104409445e-12\n",
      "1.941848103715141e-09\n"
     ]
    }
   ],
   "source": [
    "signs = ['Aries', 'Taurus', 'Gemini', 'Cancer', 'Leo', 'Virgo', 'Libra', 'Scorpio', 'Sagittarius', 'Capricorn', 'Aquarius', 'Pisces']\n",
    "#binomial = stats.binom(n=6, p=0.5)\n",
    "num = len(var_df.index)\n",
    "num1 = int(num/12)\n",
    "num2 = num - 11*num1\n",
    "#multinomial = stats.multinomial(n=num, p=[1/12, 1/12, 1/12, 1/12, 1/12, 1/12, 1/12, 1/12, 1/12, 1/12, 1/12, 1/12])\n",
    "#1 - multinomial.cdf([var_df.loc[var_df.sun_signs == _, 'sun_signs'].count() for _ in signs])\n",
    "multi = stats.multinomial.pmf([var_df.loc[var_df.sun_signs == _, 'sun_signs'].count() for _ in signs], n=num,p=[1/12, 1/12, 1/12, 1/12, 1/12, 1/12, 1/12, 1/12, 1/12, 1/12, 1/12, 1/12])\n",
    "multi_mod = stats.multinomial.pmf([num1,num1,num1,num1,num1,num1,num1,num1,num1,num1,num1,num2], n=num,p=[1/12, 1/12, 1/12, 1/12, 1/12, 1/12, 1/12, 1/12, 1/12, 1/12, 1/12, 1/12])\n",
    "print(multi)\n",
    "print(multi_mod)"
   ]
  },
  {
   "cell_type": "code",
   "execution_count": 76,
   "metadata": {},
   "outputs": [],
   "source": [
    "#We need the pmf for a multinomial distribution. Here's the method.\n",
    "def multiply_l(l):\n",
    "    ans = 1\n",
    "    for _ in l:\n",
    "        ans *= _\n",
    "    return ans\n",
    "\n",
    "def pmf(sample_freq_l,n,p_l):\n",
    "    numer1 = math.gamma(sum([_ + 1 for _ in sample_freq_l]))\n",
    "    numer2 = multiply_l([math.gamma(_ + 1) for _ in sample_freq_l])\n",
    "    denom = 1\n",
    "    for i in range(len(p_l)):\n",
    "        denom *= p_l[i] ** sample_freq_l[i]\n",
    "    #denom = multiply_l[p ** x for x in sample_freq_l for p in p_l]\n",
    "    ans = numer1 * numer2 / denom\n",
    "    return ans"
   ]
  },
  {
   "cell_type": "code",
   "execution_count": 81,
   "metadata": {},
   "outputs": [
    {
     "data": {
      "text/plain": [
       "9.363047936792093"
      ]
     },
     "execution_count": 81,
     "metadata": {},
     "output_type": "execute_result"
    }
   ],
   "source": [
    "math.sqrt(sum([(_ - 86 / 12) ** 2 for _ in sample_freq_l]))"
   ]
  },
  {
   "cell_type": "code",
   "execution_count": 80,
   "metadata": {
    "scrolled": true
   },
   "outputs": [
    {
     "name": "stdout",
     "output_type": "stream",
     "text": [
      "86\n",
      "[4, 12, 8, 12, 7, 8, 4, 6, 4, 5, 7, 9]\n",
      "[7, 7, 7, 7, 7, 7, 7, 7, 7, 7, 7, 9]\n",
      "9.145925104409445e-12\n",
      "1.941848103715141e-09\n",
      "2.5480978003226023e+293\n",
      "1.941848103715141e-09\n"
     ]
    }
   ],
   "source": [
    "signs = ['Aries', 'Taurus', 'Gemini', 'Cancer', 'Leo', 'Virgo', 'Libra', 'Scorpio', 'Sagittarius', 'Capricorn', 'Aquarius', 'Pisces']\n",
    "num = len(var_df.index)\n",
    "num1 = int(num/12)\n",
    "num2 = num - 11*num1\n",
    "\n",
    "print(num)\n",
    "\n",
    "sample_freq_l = [var_df.loc[var_df.sun_signs == _, 'sun_signs'].count() for _ in signs]\n",
    "dumbie_freq_l = [num1,num1,num1,num1,num1,num1,num1,num1,num1,num1,num1,num2]\n",
    "p_l = [1/12, 1/12, 1/12, 1/12, 1/12, 1/12, 1/12, 1/12, 1/12, 1/12, 1/12, 1/12]\n",
    "\n",
    "multi_pmf1 = stats.multinomial.pmf(sample_freq_l, n=num,p=p_l)\n",
    "multi_mod_pmf1 = stats.multinomial.pmf(dumbie_freq_l, n=num,p=p_l)\n",
    "\n",
    "multi_pmf2 = pmf(sample_freq_l,num,p_l)\n",
    "multi_mod_pmf2 = pmf(dumbie_freq_l,num,p_l)\n",
    "\n",
    "print(sample_freq_l)\n",
    "print(dumbie_freq_l)\n",
    "\n",
    "print(multi_pmf1)\n",
    "print(multi_mod_pmf1)\n",
    "\n",
    "print(multi_pmf2)\n",
    "print(multi_mod_pmf1)"
   ]
  },
  {
   "cell_type": "markdown",
   "metadata": {},
   "source": [
    "I've done a lot of thinking, and I'm not gonna be able to find the cdf for a multinormal distribution (unfortunately). I found some code though that's suppose to work, but it's for mathematica:\n",
    "\n",
    "multinomFastCDF2[n_Integer, p_, q_] := If[n < 0 || n > Tr[q], 0,\n",
    "   FullSimplify[E n! Last@Fold[Take[ListConvolve[##, {1, -1}, 0], UpTo[n + 1]] &, \n",
    "                               MapThread[Divide[Gamma[#2 + 1, #1], Gamma[#2 + 1]] \n",
    "                               Normalize[Divide[E^-#1 #1^Range[0, #2], Range[0, #2]!], Total] &, \n",
    "                                        {p,q}]]]];\n",
    "                                        \n",
    "                                        \n",
    "https://mathematica.stackexchange.com/questions/137883/faster-method-for-cdf-of-multinomial-distribution"
   ]
  },
  {
   "cell_type": "markdown",
   "metadata": {},
   "source": [
    "I think the best idea for now is to use a Bayesian approach."
   ]
  },
  {
   "cell_type": "code",
   "execution_count": null,
   "metadata": {},
   "outputs": [],
   "source": []
  },
  {
   "cell_type": "code",
   "execution_count": 28,
   "metadata": {},
   "outputs": [
    {
     "name": "stdout",
     "output_type": "stream",
     "text": [
      "yo\n"
     ]
    }
   ],
   "source": [
    "'''\n",
    "planet_signs_data = var_df.planet_signs\n",
    "signs = ['Aries', 'Taurus', 'Gemini', 'Cancer', 'Leo', 'Virgo', 'Libra', 'Scorpio', 'Sagittarius', 'Capricorn', 'Aquarius', 'Pisces']\n",
    "#all sun signs next...\n",
    "sun_sign = [planet_signs_data[a][0] for a in range(0,len(planet_signs_data))]\n",
    "#y_eg = [var_df.iloc[0].planet_signs[_] for _ in range(0,12)]\n",
    "print(x)\n",
    "print(y)\n",
    "\n",
    "#sns.barplot(data = planet_signs_data,x = signs,y = frequency)\n",
    "ax = sns.barplot(x=signs, y=sun_sign)\n",
    "#sns.catplot(x=\"signs\",y=\"score\",kind='bar',hue='gender',data=planet_signs_data)\n",
    "'''\n",
    "print('yo')"
   ]
  },
  {
   "cell_type": "code",
   "execution_count": null,
   "metadata": {},
   "outputs": [],
   "source": []
  },
  {
   "cell_type": "markdown",
   "metadata": {},
   "source": [
    "Aha! I have an idea. Let's go back to the multinomial approach and just simulate a ton of them."
   ]
  },
  {
   "cell_type": "code",
   "execution_count": 93,
   "metadata": {},
   "outputs": [
    {
     "name": "stdout",
     "output_type": "stream",
     "text": [
      "0.6492\n"
     ]
    }
   ],
   "source": [
    "'''\n",
    "num_of_sim_points = 10\n",
    "\n",
    "for i in range(num_of_sim_points):\n",
    "    proto_p_l = sorted([random.uniform(0, 1) for _ in range(num_of_sim_points - 1)])\n",
    "    endpoint_l_zero = [0]\n",
    "    #endpoint_l_one = [1]\n",
    "    p_l = endpoint_l_zero\n",
    "    for i in range(num_of_sim_points - 1):\n",
    "        p_l.append(proto_p_l[i + 1] - proto_p_l[i])\n",
    "    p_l.append(1)\n",
    "    sim_point = stats.multinomial(num_of_sim_points, num_of_sim_points, p_l)\n",
    "'''\n",
    "\n",
    "signs = ['Aries', 'Taurus', 'Gemini', 'Cancer', 'Leo', 'Virgo', 'Libra', 'Scorpio', 'Sagittarius', 'Capricorn', 'Aquarius', 'Pisces']\n",
    "num = len(var_df.index)\n",
    "num_of_sim_points = 10000\n",
    "p_l = [1/12, 1/12, 1/12, 1/12, 1/12, 1/12, 1/12, 1/12, 1/12, 1/12, 1/12, 1/12]\n",
    "\n",
    "dist = math.sqrt(sum([(_ - 86 / 12) ** 2 for _ in sample_freq_l]))\n",
    "bin1 = 0\n",
    "bin2 = 0\n",
    "bin_sum = 0\n",
    "\n",
    "\n",
    "m = stats.multinomial(num, p_l)\n",
    "s_l = m.rvs(num_of_sim_points)\n",
    "for _ in s_l:\n",
    "    d_temp = math.sqrt(sum([(_[i] - (num / 12)) ** 2 for i in range(12)]))\n",
    "    if d_temp < dist:\n",
    "        bin1 += 1\n",
    "        bin_sum += 1\n",
    "    else:\n",
    "        bin2 += 1\n",
    "        bin_sum += 1\n",
    "    \n",
    "outside = bin1 / bin_sum\n",
    "inside = 1 - outside\n",
    "\n",
    "print(outside)"
   ]
  },
  {
   "cell_type": "markdown",
   "metadata": {},
   "source": [
    "This seems to calculate the probability that the null hypothesis is false (64.5%). I'll investigate this number later to see what it means exactly."
   ]
  },
  {
   "cell_type": "markdown",
   "metadata": {},
   "source": [
    "I wanna make a loop for all the planets. Although it's hard to loop over zodiac signs. I'm just gonna do each one individually."
   ]
  },
  {
   "cell_type": "code",
   "execution_count": 111,
   "metadata": {},
   "outputs": [
    {
     "data": {
      "text/plain": [
       "[Text(0, 0, 'Aries'),\n",
       " Text(0, 0, 'Taurus'),\n",
       " Text(0, 0, 'Gemini'),\n",
       " Text(0, 0, 'Cancer'),\n",
       " Text(0, 0, 'Leo'),\n",
       " Text(0, 0, 'Virgo'),\n",
       " Text(0, 0, 'Libra'),\n",
       " Text(0, 0, 'Scorpio'),\n",
       " Text(0, 0, 'Sagittarius'),\n",
       " Text(0, 0, 'Capricorn'),\n",
       " Text(0, 0, 'Aquarius'),\n",
       " Text(0, 0, 'Pisces')]"
      ]
     },
     "execution_count": 111,
     "metadata": {},
     "output_type": "execute_result"
    },
    {
     "data": {
      "image/png": "[encoded data removed]",
      "text/plain": [
       "<Figure size 1332x756 with 1 Axes>"
      ]
     },
     "metadata": {
      "needs_background": "light"
     },
     "output_type": "display_data"
    }
   ],
   "source": [
    "signs = ['Aries', 'Taurus', 'Gemini', 'Cancer', 'Leo', 'Virgo', 'Libra', 'Scorpio', 'Sagittarius', 'Capricorn', 'Aquarius', 'Pisces']\n",
    "sign_count = [var_df.loc[var_df.moon_signs == _, 'moon_signs'].count() for _ in signs]\n",
    "\n",
    "x = np.arange(len(signs))\n",
    "fig, ax = plt.subplots()\n",
    "fig.set_size_inches(18.5, 10.5, forward=True)\n",
    "\n",
    "bars = ax.bar(x, sign_count)\n",
    "# Make the ticks at the center of the bar using:\n",
    "#   center = left_edge + 0.5*width\n",
    "ax.set_xticks(x)\n",
    "ax.set_xticklabels(signs)"
   ]
  },
  {
   "cell_type": "code",
   "execution_count": 116,
   "metadata": {},
   "outputs": [],
   "source": [
    "def probability_outside(num_of_sim_points, column=var_df.sun_signs, column_name=sun_signs):\n",
    "    signs = ['Aries', 'Taurus', 'Gemini', 'Cancer', 'Leo', 'Virgo', 'Libra', 'Scorpio', 'Sagittarius', 'Capricorn', 'Aquarius', 'Pisces']\n",
    "    num = len(var_df.index)\n",
    "    p_l = [1/12, 1/12, 1/12, 1/12, 1/12, 1/12, 1/12, 1/12, 1/12, 1/12, 1/12, 1/12]\n",
    "    sample_freq_l = [var_df.loc[column == _, column_name].count() for _ in signs]\n",
    "    dist = math.sqrt(sum([(_ - 86 / 12) ** 2 for _ in sample_freq_l]))\n",
    "    bin1 = 0\n",
    "    bin2 = 0\n",
    "    bin_sum = 0\n",
    "    m = stats.multinomial(num, p_l)\n",
    "    s_l = m.rvs(num_of_sim_points)\n",
    "    for _ in s_l:\n",
    "        d_temp = math.sqrt(sum([(_[i] - (num / 12)) ** 2 for i in range(12)]))\n",
    "        if d_temp < dist:\n",
    "            bin1 += 1\n",
    "            bin_sum += 1\n",
    "        else:\n",
    "            bin2 += 1\n",
    "            bin_sum += 1\n",
    "\n",
    "    outside = bin1 / bin_sum\n",
    "    inside = 1 - outside\n",
    "\n",
    "    return outside"
   ]
  },
  {
   "cell_type": "code",
   "execution_count": 117,
   "metadata": {
    "scrolled": true
   },
   "outputs": [
    {
     "name": "stdout",
     "output_type": "stream",
     "text": [
      "0.61\n",
      "0.63\n",
      "0.54\n",
      "0.23\n",
      "0.71\n",
      "0.77\n",
      "0.48\n",
      "0.46\n"
     ]
    },
    {
     "data": {
      "image/png": "[encoded data removed]",
      "text/plain": [
       "<Figure size 1332x756 with 1 Axes>"
      ]
     },
     "metadata": {
      "needs_background": "light"
     },
     "output_type": "display_data"
    },
    {
     "data": {
      "image/png": "[encoded data removed]",
      "text/plain": [
       "<Figure size 1332x756 with 1 Axes>"
      ]
     },
     "metadata": {
      "needs_background": "light"
     },
     "output_type": "display_data"
    },
    {
     "data": {
      "image/png": "[encoded data removed]",
      "text/plain": [
       "<Figure size 1332x756 with 1 Axes>"
      ]
     },
     "metadata": {
      "needs_background": "light"
     },
     "output_type": "display_data"
    },
    {
     "data": {
      "image/png": "[encoded data removed]",
      "text/plain": [
       "<Figure size 1332x756 with 1 Axes>"
      ]
     },
     "metadata": {
      "needs_background": "light"
     },
     "output_type": "display_data"
    },
    {
     "data": {
      "image/png": "[encoded data removed]",
      "text/plain": [
       "<Figure size 1332x756 with 1 Axes>"
      ]
     },
     "metadata": {
      "needs_background": "light"
     },
     "output_type": "display_data"
    },
    {
     "data": {
      "image/png": "[encoded data removed]",
      "text/plain": [
       "<Figure size 1332x756 with 1 Axes>"
      ]
     },
     "metadata": {
      "needs_background": "light"
     },
     "output_type": "display_data"
    },
    {
     "data": {
      "image/png": "[encoded data removed]",
      "text/plain": [
       "<Figure size 1332x756 with 1 Axes>"
      ]
     },
     "metadata": {
      "needs_background": "light"
     },
     "output_type": "display_data"
    },
    {
     "data": {
      "image/png": "[encoded data removed]",
      "text/plain": [
       "<Figure size 1332x756 with 1 Axes>"
      ]
     },
     "metadata": {
      "needs_background": "light"
     },
     "output_type": "display_data"
    }
   ],
   "source": [
    "#probability_outside(100)\n",
    "signs = ['Aries', 'Taurus', 'Gemini', 'Cancer', 'Leo', 'Virgo', 'Libra', 'Scorpio', 'Sagittarius', 'Capricorn', 'Aquarius', 'Pisces']\n",
    "planet_column_lst = [var_df.sun_signs,var_df.moon_signs,var_df.mercury_signs,var_df.mars_signs,var_df.venus_signs,var_df.jupiter_signs,var_df.saturn_signs,var_df.north_node_signs]\n",
    "planet_column_name_lst = ['sun_signs','moon_signs','mercury_signs','mars_signs','venus_signs','jupiter_signs','saturn_signs','north_node_signs']\n",
    "for i in range(len(planet_column_lst)):\n",
    "    p = planet_column_lst[i]\n",
    "    p_n = planet_column_name_lst[i]\n",
    "    sign_count = [var_df.loc[p == _, p_n].count() for _ in signs]\n",
    "    \n",
    "    bar_width = 0.02\n",
    "    \n",
    "    proto_x = np.arange(len(signs))\n",
    "    x = [_ + i * bar_width for _ in proto_x]\n",
    "    fig, ax = plt.subplots()\n",
    "    fig.set_size_inches(18.5, 10.5, forward=True)\n",
    "    \n",
    "    plt.bar(x, sign_count, width=bar_width, edgecolor='white', label=p_n[:-6])\n",
    "    \n",
    "    # Add xticks on the middle of the group bars\n",
    "    plt.xlabel('sign', fontweight='bold')\n",
    "    plt.xticks([r + bar_width for r in range(len(sign_count))], signs)\n",
    "\n",
    "    \n",
    "    bars = ax.bar(x, sign_count)\n",
    "    ax.set_xticks(x)\n",
    "    ax.set_xticklabels(signs)\n",
    "    \n",
    "\n",
    "    print(probability_outside(100, p, p_n))\n",
    "\n",
    "plt.legend()\n",
    "plt.show()"
   ]
  },
  {
   "cell_type": "markdown",
   "metadata": {},
   "source": [
    "I want to plot all my graphs on the same chart."
   ]
  },
  {
   "cell_type": "code",
   "execution_count": 114,
   "metadata": {},
   "outputs": [
    {
     "name": "stdout",
     "output_type": "stream",
     "text": [
      "hi\n"
     ]
    }
   ],
   "source": [
    "''' \n",
    "#set width of bar\n",
    "barWidth = 0.25\n",
    " \n",
    "# set height of bar\n",
    "bars1 = [12, 30, 1, 8, 22]\n",
    "bars2 = [28, 6, 16, 5, 10]\n",
    "bars3 = [29, 3, 24, 25, 17]\n",
    " \n",
    "# Set position of bar on X axis\n",
    "r1 = np.arange(len(bars1))\n",
    "r2 = [x + barWidth for x in r1]\n",
    "r3 = [x + barWidth for x in r2]\n",
    " \n",
    "# Make the plot\n",
    "plt.bar(r1, bars1, color='#7f6d5f', width=barWidth, edgecolor='white', label='var1')\n",
    "plt.bar(r2, bars2, color='#557f2d', width=barWidth, edgecolor='white', label='var2')\n",
    "plt.bar(r3, bars3, color='#2d7f5e', width=barWidth, edgecolor='white', label='var3')\n",
    " \n",
    "# Add xticks on the middle of the group bars\n",
    "plt.xlabel('group', fontweight='bold')\n",
    "plt.xticks([r + barWidth for r in range(len(bars1))], ['A', 'B', 'C', 'D', 'E'])\n",
    " \n",
    "# Create legend & Show graphic\n",
    "plt.legend()\n",
    "plt.show()\n",
    "'''\n",
    "print('hi')"
   ]
  },
  {
   "cell_type": "markdown",
   "metadata": {},
   "source": [
    "I'll figure out the bar chart later. (Real quick -- I want the x axis to have the planets on them, and I want each planet on the x axis to have 12 different mini-bars grouped together for each of the zodiac signs.)\n",
    "\n",
    "For now, let's go back to Bayes."
   ]
  },
  {
   "cell_type": "markdown",
   "metadata": {},
   "source": [
    "p(is uniform | seeing sample) = p(seeing sample | is unif) * p(is unif) / denom, where denom is:\n",
    "\n",
    "p(seeing sample | is unif) * p(is unif) + sum(p(seeing sample | is distribution_i) * p(is distribution_i)).\n",
    "\n",
    "The sum on the right part of the denominator is taken over a bunch of randomly generated (multinomial) distributions. In each case, p(is distribution_i) is 1 / (number of generated distributions + 1). Also, the p(seeing sample | is distribution_i) will equal stats.multinomial(sample, sample_n, distribution_i_probabilities).\n",
    "\n",
    "Let's do this:"
   ]
  },
  {
   "cell_type": "code",
   "execution_count": 201,
   "metadata": {},
   "outputs": [],
   "source": [
    "def bayes_prob(num_of_sim_distr, column=var_df.sun_signs, column_name='sun_signs'):\n",
    "    #num_of_sim_distr\n",
    "    num = len(var_df.index)\n",
    "    p_l = [1/12, 1/12, 1/12, 1/12, 1/12, 1/12, 1/12, 1/12, 1/12, 1/12, 1/12, 1/12]\n",
    "    sample_freq_l = [var_df.loc[column == _, column_name].count() for _ in signs]\n",
    "    numerator = stats.multinomial.pmf(sample_freq_l, num, p_l)\n",
    "    denominator = stats.multinomial.pmf(sample_freq_l, num, p_l)\n",
    "    #print(num)\n",
    "    #print(p_l)\n",
    "    #print(sample_freq_l)\n",
    "    #print(numerator)\n",
    "    #print(denominator)\n",
    "    \n",
    "    for i in range(num_of_sim_distr):\n",
    "        #print('count: ' + str(i))\n",
    "        proto_p_l_mod = sorted([random.uniform(0, 1) for _ in range(11)])\n",
    "        endpoint_l_zero = [proto_p_l_mod[0]]\n",
    "        #endpoint_l_one = [1]\n",
    "        p_l_mod = endpoint_l_zero\n",
    "        for i in range(12 - 2):\n",
    "            p_l_mod.append(proto_p_l_mod[i + 1] - proto_p_l_mod[i])\n",
    "        p_l_mod.append(1 - proto_p_l_mod[12 - 2])\n",
    "        new_p_l = stats.multinomial.pmf(sample_freq_l, num, p_l_mod)\n",
    "        #print(len(p_l_mod))\n",
    "        #print(sum(p_l_mod))\n",
    "        #print(new_p_l)\n",
    "        denominator += new_p_l\n",
    "        #print(denominator)\n",
    "        #print(numerator/denominator)\n",
    "    \n",
    "    \n",
    "    ans = numerator / denominator\n",
    "    return ans\n",
    "\n",
    "def bayes_prob_fudged(num_of_sim_distr, column=var_df.sun_signs, column_name='sun_signs'):\n",
    "    #num_of_sim_distr\n",
    "    num = len(var_df.index)\n",
    "    p_l = [1/12, 1/12, 1/12, 1/12, 1/12, 1/12, 1/12, 1/12, 1/12, 1/12, 1/12, 1/12]\n",
    "    sample_freq_l = [var_df.loc[column == _, column_name].count() for _ in signs]\n",
    "    numerator = stats.multinomial.pmf(sample_freq_l, num, p_l)\n",
    "    denominator = stats.multinomial.pmf(sample_freq_l, num, p_l)\n",
    "    #print(num)\n",
    "    #print(p_l)\n",
    "    #print(sample_freq_l)\n",
    "    #print(numerator)\n",
    "    #print(denominator)\n",
    "    numerator_i = stats.multinomial.pmf(sample_freq_l, num, p_l)\n",
    "    for i in range(num_of_sim_distr):\n",
    "        #print('count: ' + str(i))\n",
    "        proto_p_l_mod = sorted([random.uniform(0, 1) for _ in range(11)])\n",
    "        endpoint_l_zero = [proto_p_l_mod[0]]\n",
    "        #endpoint_l_one = [1]\n",
    "        p_l_mod = endpoint_l_zero\n",
    "        for i in range(12 - 2):\n",
    "            p_l_mod.append(proto_p_l_mod[i + 1] - proto_p_l_mod[i])\n",
    "        p_l_mod.append(1 - proto_p_l_mod[12 - 2])\n",
    "        new_p_l = stats.multinomial.pmf(sample_freq_l, num, p_l_mod)\n",
    "        denominator += new_p_l\n",
    "        sum_sq_dif = 0\n",
    "        for a in range(len(p_l)):\n",
    "            sq_dif = (p_l[a] - p_l_mod[a]) ** 2\n",
    "            sum_sq_dif += sq_dif\n",
    "        if sum_sq_dif < 0.01:\n",
    "            numerator += numerator_i\n",
    "    \n",
    "    \n",
    "    ans = numerator / denominator\n",
    "    return ans"
   ]
  },
  {
   "cell_type": "code",
   "execution_count": 220,
   "metadata": {},
   "outputs": [
    {
     "name": "stdout",
     "output_type": "stream",
     "text": [
      "0.007679833273418039\n",
      "0.00891208270370896\n",
      "0.014244571051636278\n",
      "0.013107264522968181\n",
      "0.010245914107813898\n",
      "0.011835660078413033\n",
      "0.005997472056103179\n",
      "0.008461011665075369\n",
      "0.007598909158549111\n",
      "0.011750589561693715\n"
     ]
    }
   ],
   "source": [
    "for i in range(10):\n",
    "    print(bayes_prob(100000))\n",
    "#Notice that the higher number you put in, the lower the probability. I think this is misleading.\n",
    "#To combat this, I'm gonna add a condition where if the distance between p_1_mod and p_1 is small enough, I'll add another factor to the numerator.\n",
    "#This should give us a much better estimate."
   ]
  },
  {
   "cell_type": "code",
   "execution_count": 219,
   "metadata": {},
   "outputs": [
    {
     "name": "stdout",
     "output_type": "stream",
     "text": [
      "0.25993843248055193\n",
      "0.22295442588251702\n",
      "0.26131728551693406\n",
      "0.13078318411029177\n",
      "0.18201296426525643\n"
     ]
    }
   ],
   "source": [
    "for i in range(5):\n",
    "    print(bayes_prob_fudged(200000))\n",
    "#This is still very inconsistent"
   ]
  },
  {
   "cell_type": "markdown",
   "metadata": {},
   "source": [
    "My whole Bayes approach was kinda nonsense. To get it to work, I need to use a 12-dimensional version of a Beta distribution, aka a Dirichlet distribution (k = 12).\n",
    "\n",
    "The Dirichlet distribution requires a few variables:\n",
    "\n",
    "-probability list (of size 12, where each probability begins as 1/12)\n",
    "\n",
    "-list of number of 'hits'/'successes' for each sign\n",
    "\n",
    "The idea is to update the probability list each time a new birthchart is taken into consideration. Each time you do this, you update the hits-list for each sign.\n",
    "\n",
    "Let's write a method that can help us."
   ]
  },
  {
   "cell_type": "code",
   "execution_count": 226,
   "metadata": {},
   "outputs": [],
   "source": [
    "def dirichlet_distr(p_l,h_l):\n",
    "    bta_numer_l = [math.gamma(h_l[_]) for _ in range(12)]\n",
    "    bta_numer = 1\n",
    "    for b in bta_numer_l:\n",
    "        bta_numer *= b\n",
    "    bta_denom = math.gamma(sum(h_l))\n",
    "    bta = bta_numer / bta_denom\n",
    "    \n",
    "    prod = h_l\n",
    "    new_prod = []\n",
    "    for x in range(12):\n",
    "        new_prod.append(prod[x] ** (h_l[x] - 1))\n",
    "    \n",
    "    prodct = 1\n",
    "    for np in new_prod:\n",
    "        prodct *= np\n",
    "    \n",
    "    ans = prodct / bta\n",
    "    return ans"
   ]
  },
  {
   "cell_type": "code",
   "execution_count": 227,
   "metadata": {},
   "outputs": [
    {
     "name": "stdout",
     "output_type": "stream",
     "text": [
      "0.0\n"
     ]
    }
   ],
   "source": [
    "p_l_i = [1/12, 1/12, 1/12, 1/12, 1/12, 1/12, 1/12, 1/12, 1/12, 1/12, 1/12, 1/12]\n",
    "sample_freq_l = [var_df.loc[var_df.sun_signs == _, 'sun_signs'].count() for _ in signs]\n",
    "\n",
    "print(dirichlet_distr(p_l_i,sample_freq_l))\n"
   ]
  },
  {
   "cell_type": "markdown",
   "metadata": {},
   "source": [
    "I just realized... for my nonparametric stats test, I should do a chi-squared goodness-of-fit test -- this is because I am comparing a sample to a hypothesized distribution. And it works for multiple categories (unlike the binomial test)."
   ]
  },
  {
   "cell_type": "code",
   "execution_count": 230,
   "metadata": {},
   "outputs": [
    {
     "name": "stdout",
     "output_type": "stream",
     "text": [
      "Power_divergenceResult(statistic=11.714285714285715, pvalue=0.38549811666213424)\n",
      "Power_divergenceResult(statistic=13.053571428571429, pvalue=0.28983843722687913)\n",
      "Power_divergenceResult(statistic=9.678571428571427, pvalue=0.5595105163023866)\n",
      "Power_divergenceResult(statistic=6.249999999999999, pvalue=0.8561734771264891)\n",
      "Power_divergenceResult(statistic=11.821428571428571, pvalue=0.3772145354007936)\n",
      "Power_divergenceResult(statistic=15.767857142857142, pvalue=0.1499702515545793)\n",
      "Power_divergenceResult(statistic=12.410714285714286, pvalue=0.33357580850051427)\n",
      "Power_divergenceResult(statistic=10.553571428571429, pvalue=0.4813845441154613)\n"
     ]
    }
   ],
   "source": [
    "signs = ['Aries', 'Taurus', 'Gemini', 'Cancer', 'Leo', 'Virgo', 'Libra', 'Scorpio', 'Sagittarius', 'Capricorn', 'Aquarius', 'Pisces']\n",
    "planet_column_lst = [var_df.sun_signs,var_df.moon_signs,var_df.mercury_signs,var_df.mars_signs,var_df.venus_signs,var_df.jupiter_signs,var_df.saturn_signs,var_df.north_node_signs]\n",
    "planet_column_name_lst = ['sun_signs','moon_signs','mercury_signs','mars_signs','venus_signs','jupiter_signs','saturn_signs','north_node_signs']\n",
    "num = len(var_df.index)\n",
    "for i in range(len(planet_column_lst)):    \n",
    "    p = planet_column_lst[i]\n",
    "    p_n = planet_column_name_lst[i]\n",
    "    sign_count = [var_df.loc[p == _, p_n].count() for _ in signs]\n",
    "    num1 = math.floor(num / 12)\n",
    "    unif = [num1,num1,num1,num1,num1,num1,num1,num1,num1,num1,num1,num1]\n",
    "    count = num - 12 * num1\n",
    "    for j in range(count):\n",
    "        unif[j] += 1\n",
    "    print(stats.chisquare(sign_count, unif))"
   ]
  },
  {
   "cell_type": "markdown",
   "metadata": {},
   "source": [
    "Sweeet, stats.chisquare is working and making sense p-value-wise.\n",
    "\n",
    "My idea is that when we see a small p-value somewhere, we make a note about it. In this case, the p-value for the planet Jupiter was 0.14997, which is less than an alpha of say 0.2 or 0.15 (I'll do 0.15 for now). So maybe 'rulers' have an extra influence from Jupiter -- in particular, rulers tend to have Jupiter in the sign Gemini, Cancer, or Scorpio (just choose a couple max values).\n",
    "\n",
    "Along these lines, we could sum up all the planets together and see what zodiac-distribution we get -- maybe rulers tend to correlate with a certain sign.\n",
    "\n",
    "(As much as I want to include more astrology features, I'm gonna stick to the planet signs for now. Time is not a luxury at this point.)"
   ]
  },
  {
   "cell_type": "code",
   "execution_count": 249,
   "metadata": {},
   "outputs": [],
   "source": [
    "def test_data():\n",
    "    signs = ['Aries', 'Taurus', 'Gemini', 'Cancer', 'Leo', 'Virgo', 'Libra', 'Scorpio', 'Sagittarius', 'Capricorn', 'Aquarius', 'Pisces']\n",
    "    planet_column_lst = [var_df.sun_signs,var_df.moon_signs,var_df.mercury_signs,var_df.mars_signs,var_df.venus_signs,var_df.jupiter_signs,var_df.saturn_signs,var_df.north_node_signs]\n",
    "    planet_column_name_lst = ['sun_signs','moon_signs','mercury_signs','mars_signs','venus_signs','jupiter_signs','saturn_signs','north_node_signs']\n",
    "    num = len(var_df.index)\n",
    "    num1 = math.floor(num / 12)\n",
    "    unif = [num1,num1,num1,num1,num1,num1,num1,num1,num1,num1,num1,num1]\n",
    "    count = num - 12 * num1\n",
    "    for j in range(count):\n",
    "        unif[j] += 1\n",
    "    big_sign_count = [0,0,0,0,0,0,0,0,0,0,0,0]\n",
    "    message_lst = []\n",
    "    for i in range(len(planet_column_lst)):    \n",
    "        p = planet_column_lst[i]\n",
    "        p_n = planet_column_name_lst[i]\n",
    "        sign_count = [var_df.loc[p == _, p_n].count() for _ in signs]\n",
    "        for k in range(len(sign_count)):\n",
    "            big_sign_count[k] += sign_count[k]\n",
    "        tst = stats.chisquare(sign_count, unif)\n",
    "        #print(tst)\n",
    "        if tst[1] < 0.15:\n",
    "            message_lst.append('Our test shows that ' + str(planet_column_name_lst[i])[:-6] + ' has a strong influence here, and prefers to be in the sign ' + str(signs[sign_count.index(max(sign_count))]) + '.')\n",
    "    tst = stats.chisquare(big_sign_count, unif)\n",
    "    #print(tst)\n",
    "    if tst[1] < 0.15:\n",
    "            message_lst.append('Our test shows that ' + str(planet_column_name_lst[i])[:-6] + ' has a strong influence here, and prefers to be in the sign ' + str(signs[sign_count.index(max(sign_count))]) + '.')\n",
    "    return message_lst\n"
   ]
  },
  {
   "cell_type": "code",
   "execution_count": 250,
   "metadata": {},
   "outputs": [
    {
     "data": {
      "text/plain": [
       "['Our test shows that jupiter has a strong influence here, and prefers to be in the sign Gemini.',\n",
       " 'Our test shows that north_node has a strong influence here, and prefers to be in the sign Cancer.']"
      ]
     },
     "execution_count": 250,
     "metadata": {},
     "output_type": "execute_result"
    }
   ],
   "source": [
    "test_data()"
   ]
  },
  {
   "cell_type": "code",
   "execution_count": null,
   "metadata": {},
   "outputs": [],
   "source": []
  }
 ],
 "metadata": {
  "kernelspec": {
   "display_name": "Python 3",
   "language": "python",
   "name": "python3"
  },
  "language_info": {
   "codemirror_mode": {
    "name": "ipython",
    "version": 3
   },
   "file_extension": ".py",
   "mimetype": "text/x-python",
   "name": "python",
   "nbconvert_exporter": "python",
   "pygments_lexer": "ipython3",
   "version": "3.7.1"
  }
 },
 "nbformat": 4,
 "nbformat_minor": 2
}
