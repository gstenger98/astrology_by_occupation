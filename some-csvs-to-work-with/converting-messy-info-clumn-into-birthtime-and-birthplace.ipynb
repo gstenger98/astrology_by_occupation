{
 "cells": [
  {
   "cell_type": "markdown",
   "metadata": {},
   "source": [
    "# Goal\n",
    "\n",
    "My goal here is to turn the messy birthdate and birthplace column into two nice columns with the proper formatting.\n",
    "\n",
    "I will probably use regex and maybe the timestrip thing I tried out before."
   ]
  },
  {
   "cell_type": "code",
   "execution_count": 1,
   "metadata": {},
   "outputs": [],
   "source": [
    "import pandas as pd\n",
    "import numpy as np\n",
    "import re"
   ]
  },
  {
   "cell_type": "markdown",
   "metadata": {},
   "source": [
    "Let's do an example with a random occupation csv."
   ]
  },
  {
   "cell_type": "code",
   "execution_count": 2,
   "metadata": {},
   "outputs": [],
   "source": [
    "df = pd.read_csv('hi_its_philosophers_df.csv')"
   ]
  },
  {
   "cell_type": "code",
   "execution_count": 3,
   "metadata": {},
   "outputs": [
    {
     "data": {
      "text/html": [
       "<div>\n",
       "<style scoped>\n",
       "    .dataframe tbody tr th:only-of-type {\n",
       "        vertical-align: middle;\n",
       "    }\n",
       "\n",
       "    .dataframe tbody tr th {\n",
       "        vertical-align: top;\n",
       "    }\n",
       "\n",
       "    .dataframe thead th {\n",
       "        text-align: right;\n",
       "    }\n",
       "</style>\n",
       "<table border=\"1\" class=\"dataframe\">\n",
       "  <thead>\n",
       "    <tr style=\"text-align: right;\">\n",
       "      <th></th>\n",
       "      <th>name</th>\n",
       "      <th>info</th>\n",
       "      <th>occupation</th>\n",
       "    </tr>\n",
       "  </thead>\n",
       "  <tbody>\n",
       "    <tr>\n",
       "      <th>0</th>\n",
       "      <td>Michael_Haneke</td>\n",
       "      <td>Gender:MaleDate of Birth:23 March  1942Birth p...</td>\n",
       "      <td>r_philosophers</td>\n",
       "    </tr>\n",
       "    <tr>\n",
       "      <th>1</th>\n",
       "      <td>Noam_Chomsky</td>\n",
       "      <td>Gender:MaleDate of Birth:7 December  1928 - 07...</td>\n",
       "      <td>r_philosophers</td>\n",
       "    </tr>\n",
       "    <tr>\n",
       "      <th>2</th>\n",
       "      <td>Albert_Camus</td>\n",
       "      <td>Gender:MaleDate of Birth:7 November  1913 - 02...</td>\n",
       "      <td>r_philosophers</td>\n",
       "    </tr>\n",
       "    <tr>\n",
       "      <th>3</th>\n",
       "      <td>Mahatma_Gandhi</td>\n",
       "      <td>Gender:MaleDate of Birth:2 October  1869 - 07:...</td>\n",
       "      <td>r_philosophers</td>\n",
       "    </tr>\n",
       "    <tr>\n",
       "      <th>4</th>\n",
       "      <td>Jean-Jacques_Rousseau</td>\n",
       "      <td>Gender:MaleDate of Birth:28 June  1712 - 10:00...</td>\n",
       "      <td>r_philosophers</td>\n",
       "    </tr>\n",
       "  </tbody>\n",
       "</table>\n",
       "</div>"
      ],
      "text/plain": [
       "                    name                                               info  \\\n",
       "0         Michael_Haneke  Gender:MaleDate of Birth:23 March  1942Birth p...   \n",
       "1           Noam_Chomsky  Gender:MaleDate of Birth:7 December  1928 - 07...   \n",
       "2           Albert_Camus  Gender:MaleDate of Birth:7 November  1913 - 02...   \n",
       "3         Mahatma_Gandhi  Gender:MaleDate of Birth:2 October  1869 - 07:...   \n",
       "4  Jean-Jacques_Rousseau  Gender:MaleDate of Birth:28 June  1712 - 10:00...   \n",
       "\n",
       "       occupation  \n",
       "0  r_philosophers  \n",
       "1  r_philosophers  \n",
       "2  r_philosophers  \n",
       "3  r_philosophers  \n",
       "4  r_philosophers  "
      ]
     },
     "execution_count": 3,
     "metadata": {},
     "output_type": "execute_result"
    }
   ],
   "source": [
    "df.head()"
   ]
  },
  {
   "cell_type": "markdown",
   "metadata": {},
   "source": [
    "Even though the name and occupation columns aren't perfect either, I can worry about those later.\n",
    "\n",
    "For now, let's fix the info column by extracting the birthdate and birthtime, putting them in the correct format, and creating a new pair of columns for them."
   ]
  },
  {
   "cell_type": "code",
   "execution_count": 8,
   "metadata": {},
   "outputs": [
    {
     "data": {
      "text/plain": [
       "'Gender:MaleDate of Birth:7 December  1928 - 07:00hBirth place:Philadelphia, PennsylvaniaCountry:US, United StatesAge:91 years'"
      ]
     },
     "execution_count": 8,
     "metadata": {},
     "output_type": "execute_result"
    }
   ],
   "source": [
    "b_info = df['info'][1]\n",
    "b_info"
   ]
  },
  {
   "cell_type": "code",
   "execution_count": 38,
   "metadata": {},
   "outputs": [
    {
     "name": "stdout",
     "output_type": "stream",
     "text": [
      "['7 December  1928', '07:00h']\n",
      "['Philadelphia, Pennsylvania', 'US, United States']\n"
     ]
    }
   ],
   "source": [
    "b_info_mod = ''\n",
    "b_info_mod = b_info.replace('Gender:MaleDate of Birth:', '')\n",
    "b_info_mod = b_info_mod.split('Birth place:')\n",
    "b_info_mod_time = b_info_mod[0]\n",
    "b_info_mod_time = b_info_mod_time.split(' - ')\n",
    "print(b_info_mod_time)\n",
    "b_info_mod_place = b_info_mod[1].split('Age:')\n",
    "b_info_mod_place = b_info_mod_place[0]\n",
    "b_info_mod_place = b_info_mod_place.split('Country:')\n",
    "print(b_info_mod_place)"
   ]
  },
  {
   "cell_type": "code",
   "execution_count": 143,
   "metadata": {},
   "outputs": [],
   "source": [
    "def get_birthtime_info(row):\n",
    "    b_info = df['info'][row]\n",
    "    b_info_mod = ''\n",
    "    b_info_mod = b_info.replace('Gender:MaleDate of Birth:', '')\n",
    "    b_info_mod = b_info_mod.split('Birth place:')\n",
    "    b_info_mod_time = b_info_mod[0]\n",
    "    b_info_mod_time = b_info_mod_time.split(' - ')\n",
    "    #print(b_info_mod_time)\n",
    "    #print('...end of get_birthtime_info')\n",
    "    return b_info_mod_time\n",
    "\n",
    "def get_birthplace_info(row):\n",
    "    b_info = df['info'][row]\n",
    "    b_info_mod = ''\n",
    "    if 'Gender:FemaleDate of Birth:' in b_info:\n",
    "        b_info_mod = b_info.replace('Gender:FemaleDate of Birth:', '')\n",
    "    elif 'Gender:MaleDate of Birth:' in b_info:\n",
    "        b_info_mod = b_info.replace('Gender:MaleDate of Birth:', '')\n",
    "    else:\n",
    "        return None\n",
    "    b_info_mod = b_info_mod.split('Birth place:')\n",
    "    b_info_mod_place = b_info_mod[1].split('Age:')\n",
    "    b_info_mod_place = b_info_mod_place[0]\n",
    "    b_info_mod_place = b_info_mod_place.split('Country:')\n",
    "    #print(b_info_mod_place)\n",
    "    #print('...end of get_birthplace_info')\n",
    "    return b_info_mod_place"
   ]
  },
  {
   "cell_type": "code",
   "execution_count": 61,
   "metadata": {},
   "outputs": [
    {
     "name": "stdout",
     "output_type": "stream",
     "text": [
      "['23 March  1942']\n",
      "...end of get_birthtime_info\n",
      "['Munich', 'DE, Germany']\n",
      "...end of get_birthplace_info\n",
      "['7 December  1928', '07:00h']\n",
      "...end of get_birthtime_info\n",
      "['Philadelphia, Pennsylvania', 'US, United States']\n",
      "...end of get_birthplace_info\n",
      "['7 November  1913', '02:00h']\n",
      "...end of get_birthtime_info\n",
      "['Mondovi', 'DZ, Algeria']\n",
      "...end of get_birthplace_info\n",
      "['2 October  1869', '07:08h']\n",
      "...end of get_birthtime_info\n",
      "['Porbandar', 'IN, India']\n",
      "...end of get_birthplace_info\n",
      "['28 June  1712', '10:00h']\n",
      "...end of get_birthtime_info\n",
      "['Geneva', 'CH, Switzerland']\n",
      "...end of get_birthplace_info\n"
     ]
    }
   ],
   "source": [
    "for i in range(5):\n",
    "    get_birthtime_info(i)\n",
    "    get_birthplace_info(i)"
   ]
  },
  {
   "cell_type": "markdown",
   "metadata": {},
   "source": [
    "We now have a list with birthtime and birthdate, as well as a list with birthcity and birthcountry.\n",
    "\n",
    "\n",
    "\n",
    "(((((Now let's create a function which inputs these lists and outputs a something in the proper format for using FlatLib.\n",
    "\n",
    "This means that you can use GeoPy in there to get lon/lat.)))))\n",
    "\n",
    "Actually, let's just output a birthtime that is properly formatted for FlatLib, and then a birthplace which is properly formatted for GeoPy -- we can do the GeoPy conversion-to-lon/-lat on the actual dataframe later."
   ]
  },
  {
   "cell_type": "code",
   "execution_count": 102,
   "metadata": {},
   "outputs": [],
   "source": [
    "def convert_month_name_to_number(month):\n",
    "    month = month.lower()\n",
    "    if month == 'january':\n",
    "        return 1\n",
    "    elif month == 'february':\n",
    "        return 1\n",
    "    elif month == 'march':\n",
    "        return 1\n",
    "    elif month == 'april':\n",
    "        return 1\n",
    "    elif month == 'may':\n",
    "        return 1\n",
    "    elif month == 'june':\n",
    "        return 1\n",
    "    elif month == 'july':\n",
    "        return 1\n",
    "    elif month == 'august':\n",
    "        return 1\n",
    "    elif month == 'september':\n",
    "        return 1\n",
    "    elif month == 'october':\n",
    "        return 1\n",
    "    elif month == 'november':\n",
    "        return 1\n",
    "    elif month == 'december':\n",
    "        return 1\n",
    "    else:\n",
    "        print('Not_a_month')\n",
    "        return None\n",
    "\n",
    "def time_formatter(time_lst):\n",
    "    if len(time_lst) == 2:\n",
    "        first = time_lst[0]\n",
    "        month = \" \".join(re.split(\"[^a-zA-Z]*\", first))\n",
    "        month = month.replace(' ', '')\n",
    "        first = first.replace(' ', '')\n",
    "        temp = first.split(month)\n",
    "        day = temp[0]\n",
    "        year = temp[1]\n",
    "        time = time_lst[1]\n",
    "        time = time[:-1]\n",
    "        ans = [year, convert_month_name_to_number(month), day, time]\n",
    "        print(ans)\n",
    "        return ans\n",
    "    elif len(time_lst) == 1:\n",
    "        first = time_lst[0]\n",
    "        month = \" \".join(re.split(\"[^a-zA-Z]*\", first))\n",
    "        month = month.replace(' ', '')\n",
    "        first = first.replace(' ', '')\n",
    "        temp = first.split(month)\n",
    "        day = temp[0]\n",
    "        year = temp[1]\n",
    "        ans = [year, convert_month_name_to_number(month), day]\n",
    "        print(ans)\n",
    "        return ans\n",
    "    return 'No_time_info'\n",
    "        \n",
    "    \n",
    "def place_formatter(place_lst):\n",
    "    city_info = place_lst[0]\n",
    "    country_info = place_lst[1]\n",
    "    if ',' in city_info:\n",
    "        city_info = city_info.split(', ')\n",
    "    else:\n",
    "        city_info = [city_info]\n",
    "    if ',' in country_info:\n",
    "        country_info = country_info.split(', ')\n",
    "        country_info = country_info[1]\n",
    "    if len(city_info) == 2:\n",
    "        city = city_info[0]\n",
    "        state = city_info[1]\n",
    "    elif len(city_info) == 1:\n",
    "        city = city_info[0]\n",
    "        state = 'no_state'\n",
    "    country = country_info\n",
    "    if state == 'no_state':\n",
    "        ans = [city, country]\n",
    "        ans = ', '.join(ans)\n",
    "    else:\n",
    "        ans = [city, state, country]\n",
    "        ans = ', '.join(ans)\n",
    "    print(ans)\n",
    "    return ans"
   ]
  },
  {
   "cell_type": "code",
   "execution_count": 114,
   "metadata": {},
   "outputs": [
    {
     "name": "stdout",
     "output_type": "stream",
     "text": [
      "['1942', 1, '23']\n",
      "Munich, Germany\n",
      "['1928', 1, '7', '07:00']\n",
      "Philadelphia, Pennsylvania, United States\n",
      "['1913', 1, '7', '02:00']\n",
      "Mondovi, Algeria\n",
      "['1869', 1, '2', '07:08']\n",
      "Porbandar, India\n",
      "['1712', 1, '28', '10:00']\n",
      "Geneva, Switzerland\n",
      "['1713', 1, '5', '17:00']\n",
      "Langres, France\n",
      "['1724', 1, '22', '05:00']\n",
      "Königsberg, Germany\n",
      "['1744', 1, '25', '23:30']\n",
      "Mohrungen, Poland\n",
      "['1813', 1, '5']\n",
      "Copenhagen, Denmark\n",
      "['1844', 1, '15', '10:00']\n",
      "Roecken, Germany\n",
      "['1872', 1, '18', '17:45']\n",
      "Trelleck, Wales, United Kingdom\n",
      "['1928', 1, '16', '12:15']\n",
      "Chicago, Illinois, United States\n",
      "['1788', 1, '22', '12:00']\n",
      "Gdańsk, Poland\n",
      "['1818', 1, '5', '02:00']\n",
      "Trier, Germany\n"
     ]
    },
    {
     "ename": "IndexError",
     "evalue": "list index out of range",
     "output_type": "error",
     "traceback": [
      "\u001b[0;31m---------------------------------------------------------------------------\u001b[0m",
      "\u001b[0;31mIndexError\u001b[0m                                Traceback (most recent call last)",
      "\u001b[0;32m<ipython-input-114-f8583f90003f>\u001b[0m in \u001b[0;36m<module>\u001b[0;34m\u001b[0m\n\u001b[1;32m      1\u001b[0m \u001b[0;32mfor\u001b[0m \u001b[0mi\u001b[0m \u001b[0;32min\u001b[0m \u001b[0mrange\u001b[0m\u001b[0;34m(\u001b[0m\u001b[0;36m15\u001b[0m\u001b[0;34m)\u001b[0m\u001b[0;34m:\u001b[0m\u001b[0;34m\u001b[0m\u001b[0;34m\u001b[0m\u001b[0m\n\u001b[0;32m----> 2\u001b[0;31m     \u001b[0mtime_formatter\u001b[0m\u001b[0;34m(\u001b[0m\u001b[0mget_birthtime_info\u001b[0m\u001b[0;34m(\u001b[0m\u001b[0mi\u001b[0m\u001b[0;34m)\u001b[0m\u001b[0;34m)\u001b[0m\u001b[0;34m\u001b[0m\u001b[0;34m\u001b[0m\u001b[0m\n\u001b[0m\u001b[1;32m      3\u001b[0m     \u001b[0mplace_formatter\u001b[0m\u001b[0;34m(\u001b[0m\u001b[0mget_birthplace_info\u001b[0m\u001b[0;34m(\u001b[0m\u001b[0mi\u001b[0m\u001b[0;34m)\u001b[0m\u001b[0;34m)\u001b[0m\u001b[0;34m\u001b[0m\u001b[0;34m\u001b[0m\u001b[0m\n",
      "\u001b[0;32m<ipython-input-102-eb00c5eaea0d>\u001b[0m in \u001b[0;36mtime_formatter\u001b[0;34m(time_lst)\u001b[0m\n\u001b[1;32m     37\u001b[0m         \u001b[0mtemp\u001b[0m \u001b[0;34m=\u001b[0m \u001b[0mfirst\u001b[0m\u001b[0;34m.\u001b[0m\u001b[0msplit\u001b[0m\u001b[0;34m(\u001b[0m\u001b[0mmonth\u001b[0m\u001b[0;34m)\u001b[0m\u001b[0;34m\u001b[0m\u001b[0;34m\u001b[0m\u001b[0m\n\u001b[1;32m     38\u001b[0m         \u001b[0mday\u001b[0m \u001b[0;34m=\u001b[0m \u001b[0mtemp\u001b[0m\u001b[0;34m[\u001b[0m\u001b[0;36m0\u001b[0m\u001b[0;34m]\u001b[0m\u001b[0;34m\u001b[0m\u001b[0;34m\u001b[0m\u001b[0m\n\u001b[0;32m---> 39\u001b[0;31m         \u001b[0myear\u001b[0m \u001b[0;34m=\u001b[0m \u001b[0mtemp\u001b[0m\u001b[0;34m[\u001b[0m\u001b[0;36m1\u001b[0m\u001b[0;34m]\u001b[0m\u001b[0;34m\u001b[0m\u001b[0;34m\u001b[0m\u001b[0m\n\u001b[0m\u001b[1;32m     40\u001b[0m         \u001b[0mtime\u001b[0m \u001b[0;34m=\u001b[0m \u001b[0mtime_lst\u001b[0m\u001b[0;34m[\u001b[0m\u001b[0;36m1\u001b[0m\u001b[0;34m]\u001b[0m\u001b[0;34m\u001b[0m\u001b[0;34m\u001b[0m\u001b[0m\n\u001b[1;32m     41\u001b[0m         \u001b[0mtime\u001b[0m \u001b[0;34m=\u001b[0m \u001b[0mtime\u001b[0m\u001b[0;34m[\u001b[0m\u001b[0;34m:\u001b[0m\u001b[0;34m-\u001b[0m\u001b[0;36m1\u001b[0m\u001b[0;34m]\u001b[0m\u001b[0;34m\u001b[0m\u001b[0;34m\u001b[0m\u001b[0m\n",
      "\u001b[0;31mIndexError\u001b[0m: list index out of range"
     ]
    }
   ],
   "source": [
    "for i in range(15):\n",
    "    time_formatter(get_birthtime_info(i))\n",
    "    place_formatter(get_birthplace_info(i))"
   ]
  },
  {
   "cell_type": "markdown",
   "metadata": {},
   "source": [
    "So now I'm gonna convert the time list into the right format for FlatLib."
   ]
  },
  {
   "cell_type": "code",
   "execution_count": null,
   "metadata": {},
   "outputs": [],
   "source": [
    "#OLD CODE FROM A WHILE BACK:\n",
    "'''\n",
    "from flatlib.datetime import Datetime\n",
    "from flatlib.geopos import GeoPos\n",
    "from flatlib.chart import Chart\n",
    "from flatlib import const\n",
    "\n",
    "\n",
    "date = Datetime('1997/07/02', '16:07', '-07:00')\n",
    "#date.jd\n",
    "print(date.jd)\n",
    "\n",
    "pos = GeoPos('37n7644', '121w9540')\n",
    "print(pos.lat,pos.lon)\n",
    "\n",
    "chart = Chart(date, pos)\n",
    "\n",
    "sun = chart.getObject(const.SUN)\n",
    "print(sun)\n",
    "\n",
    "moon = chart.get(const.MOON)\n",
    "print(moon)\n",
    "\n",
    "\n",
    "\n",
    "print(sun.lon)\n",
    "\n",
    "print(sun.lat)\n",
    "\n",
    "print(sun.sign)\n",
    "\n",
    "print(sun.signlon)\n",
    "\n",
    "print(sun.lonspeed)\n",
    "\n",
    "print(sun.orb())\n",
    "\n",
    "print(sun.meanMotion())\n",
    "\n",
    "print(sun.movement())\n",
    "\n",
    "print(sun.gender())\n",
    "\n",
    "print(sun.element())\n",
    "\n",
    "print(sun.isFast())\n",
    "'''"
   ]
  },
  {
   "cell_type": "markdown",
   "metadata": {},
   "source": [
    "From the above code, I see that I need:\n",
    "\n",
    "-xxxx/xx/xx (year, month, day) in numbers\n",
    "\n",
    "-xx:xx (time) in 24-hour time\n",
    "\n",
    "-'-xx:xx' or '+xx:xx' (time) for time-change\n",
    "\n",
    "Seeing as I need the time-change... I'm gonna work on the place list first.\n",
    "\n",
    "So I'll determine the proper location format for GeoPy."
   ]
  },
  {
   "cell_type": "markdown",
   "metadata": {},
   "source": [
    "Ok, I just check the proper location format for GeoPy... if I turn my list into a string, I'll be good."
   ]
  },
  {
   "cell_type": "code",
   "execution_count": 104,
   "metadata": {},
   "outputs": [],
   "source": [
    "def make_time_column(row):\n",
    "    return time_formatter(get_birthtime_info(row))\n",
    "\n",
    "def make_place_column(row):\n",
    "    return place_formatter(get_birthplace_info(row))"
   ]
  },
  {
   "cell_type": "code",
   "execution_count": 105,
   "metadata": {},
   "outputs": [],
   "source": [
    "copy_df = df"
   ]
  },
  {
   "cell_type": "code",
   "execution_count": 106,
   "metadata": {},
   "outputs": [
    {
     "data": {
      "text/html": [
       "<div>\n",
       "<style scoped>\n",
       "    .dataframe tbody tr th:only-of-type {\n",
       "        vertical-align: middle;\n",
       "    }\n",
       "\n",
       "    .dataframe tbody tr th {\n",
       "        vertical-align: top;\n",
       "    }\n",
       "\n",
       "    .dataframe thead th {\n",
       "        text-align: right;\n",
       "    }\n",
       "</style>\n",
       "<table border=\"1\" class=\"dataframe\">\n",
       "  <thead>\n",
       "    <tr style=\"text-align: right;\">\n",
       "      <th></th>\n",
       "      <th>name</th>\n",
       "      <th>info</th>\n",
       "      <th>occupation</th>\n",
       "    </tr>\n",
       "  </thead>\n",
       "  <tbody>\n",
       "    <tr>\n",
       "      <th>0</th>\n",
       "      <td>Michael_Haneke</td>\n",
       "      <td>Gender:MaleDate of Birth:23 March  1942Birth p...</td>\n",
       "      <td>r_philosophers</td>\n",
       "    </tr>\n",
       "    <tr>\n",
       "      <th>1</th>\n",
       "      <td>Noam_Chomsky</td>\n",
       "      <td>Gender:MaleDate of Birth:7 December  1928 - 07...</td>\n",
       "      <td>r_philosophers</td>\n",
       "    </tr>\n",
       "    <tr>\n",
       "      <th>2</th>\n",
       "      <td>Albert_Camus</td>\n",
       "      <td>Gender:MaleDate of Birth:7 November  1913 - 02...</td>\n",
       "      <td>r_philosophers</td>\n",
       "    </tr>\n",
       "    <tr>\n",
       "      <th>3</th>\n",
       "      <td>Mahatma_Gandhi</td>\n",
       "      <td>Gender:MaleDate of Birth:2 October  1869 - 07:...</td>\n",
       "      <td>r_philosophers</td>\n",
       "    </tr>\n",
       "    <tr>\n",
       "      <th>4</th>\n",
       "      <td>Jean-Jacques_Rousseau</td>\n",
       "      <td>Gender:MaleDate of Birth:28 June  1712 - 10:00...</td>\n",
       "      <td>r_philosophers</td>\n",
       "    </tr>\n",
       "  </tbody>\n",
       "</table>\n",
       "</div>"
      ],
      "text/plain": [
       "                    name                                               info  \\\n",
       "0         Michael_Haneke  Gender:MaleDate of Birth:23 March  1942Birth p...   \n",
       "1           Noam_Chomsky  Gender:MaleDate of Birth:7 December  1928 - 07...   \n",
       "2           Albert_Camus  Gender:MaleDate of Birth:7 November  1913 - 02...   \n",
       "3         Mahatma_Gandhi  Gender:MaleDate of Birth:2 October  1869 - 07:...   \n",
       "4  Jean-Jacques_Rousseau  Gender:MaleDate of Birth:28 June  1712 - 10:00...   \n",
       "\n",
       "       occupation  \n",
       "0  r_philosophers  \n",
       "1  r_philosophers  \n",
       "2  r_philosophers  \n",
       "3  r_philosophers  \n",
       "4  r_philosophers  "
      ]
     },
     "execution_count": 106,
     "metadata": {},
     "output_type": "execute_result"
    }
   ],
   "source": [
    "copy_df.head()"
   ]
  },
  {
   "cell_type": "code",
   "execution_count": 109,
   "metadata": {},
   "outputs": [],
   "source": [
    "copy_df['count'] = np.arange(len(copy_df))"
   ]
  },
  {
   "cell_type": "code",
   "execution_count": 110,
   "metadata": {},
   "outputs": [
    {
     "data": {
      "text/html": [
       "<div>\n",
       "<style scoped>\n",
       "    .dataframe tbody tr th:only-of-type {\n",
       "        vertical-align: middle;\n",
       "    }\n",
       "\n",
       "    .dataframe tbody tr th {\n",
       "        vertical-align: top;\n",
       "    }\n",
       "\n",
       "    .dataframe thead th {\n",
       "        text-align: right;\n",
       "    }\n",
       "</style>\n",
       "<table border=\"1\" class=\"dataframe\">\n",
       "  <thead>\n",
       "    <tr style=\"text-align: right;\">\n",
       "      <th></th>\n",
       "      <th>name</th>\n",
       "      <th>info</th>\n",
       "      <th>occupation</th>\n",
       "      <th>count</th>\n",
       "    </tr>\n",
       "  </thead>\n",
       "  <tbody>\n",
       "    <tr>\n",
       "      <th>0</th>\n",
       "      <td>Michael_Haneke</td>\n",
       "      <td>Gender:MaleDate of Birth:23 March  1942Birth p...</td>\n",
       "      <td>r_philosophers</td>\n",
       "      <td>0</td>\n",
       "    </tr>\n",
       "    <tr>\n",
       "      <th>1</th>\n",
       "      <td>Noam_Chomsky</td>\n",
       "      <td>Gender:MaleDate of Birth:7 December  1928 - 07...</td>\n",
       "      <td>r_philosophers</td>\n",
       "      <td>1</td>\n",
       "    </tr>\n",
       "    <tr>\n",
       "      <th>2</th>\n",
       "      <td>Albert_Camus</td>\n",
       "      <td>Gender:MaleDate of Birth:7 November  1913 - 02...</td>\n",
       "      <td>r_philosophers</td>\n",
       "      <td>2</td>\n",
       "    </tr>\n",
       "    <tr>\n",
       "      <th>3</th>\n",
       "      <td>Mahatma_Gandhi</td>\n",
       "      <td>Gender:MaleDate of Birth:2 October  1869 - 07:...</td>\n",
       "      <td>r_philosophers</td>\n",
       "      <td>3</td>\n",
       "    </tr>\n",
       "    <tr>\n",
       "      <th>4</th>\n",
       "      <td>Jean-Jacques_Rousseau</td>\n",
       "      <td>Gender:MaleDate of Birth:28 June  1712 - 10:00...</td>\n",
       "      <td>r_philosophers</td>\n",
       "      <td>4</td>\n",
       "    </tr>\n",
       "  </tbody>\n",
       "</table>\n",
       "</div>"
      ],
      "text/plain": [
       "                    name                                               info  \\\n",
       "0         Michael_Haneke  Gender:MaleDate of Birth:23 March  1942Birth p...   \n",
       "1           Noam_Chomsky  Gender:MaleDate of Birth:7 December  1928 - 07...   \n",
       "2           Albert_Camus  Gender:MaleDate of Birth:7 November  1913 - 02...   \n",
       "3         Mahatma_Gandhi  Gender:MaleDate of Birth:2 October  1869 - 07:...   \n",
       "4  Jean-Jacques_Rousseau  Gender:MaleDate of Birth:28 June  1712 - 10:00...   \n",
       "\n",
       "       occupation  count  \n",
       "0  r_philosophers      0  \n",
       "1  r_philosophers      1  \n",
       "2  r_philosophers      2  \n",
       "3  r_philosophers      3  \n",
       "4  r_philosophers      4  "
      ]
     },
     "execution_count": 110,
     "metadata": {},
     "output_type": "execute_result"
    }
   ],
   "source": [
    "copy_df.head()"
   ]
  },
  {
   "cell_type": "code",
   "execution_count": 113,
   "metadata": {},
   "outputs": [
    {
     "data": {
      "text/html": [
       "<div>\n",
       "<style scoped>\n",
       "    .dataframe tbody tr th:only-of-type {\n",
       "        vertical-align: middle;\n",
       "    }\n",
       "\n",
       "    .dataframe tbody tr th {\n",
       "        vertical-align: top;\n",
       "    }\n",
       "\n",
       "    .dataframe thead th {\n",
       "        text-align: right;\n",
       "    }\n",
       "</style>\n",
       "<table border=\"1\" class=\"dataframe\">\n",
       "  <thead>\n",
       "    <tr style=\"text-align: right;\">\n",
       "      <th></th>\n",
       "      <th>name</th>\n",
       "      <th>info</th>\n",
       "      <th>occupation</th>\n",
       "      <th>count</th>\n",
       "    </tr>\n",
       "  </thead>\n",
       "  <tbody>\n",
       "    <tr>\n",
       "      <th>0</th>\n",
       "      <td>Michael_Haneke</td>\n",
       "      <td>Gender:MaleDate of Birth:23 March  1942Birth p...</td>\n",
       "      <td>r_philosophers</td>\n",
       "      <td>0</td>\n",
       "    </tr>\n",
       "    <tr>\n",
       "      <th>1</th>\n",
       "      <td>Noam_Chomsky</td>\n",
       "      <td>Gender:MaleDate of Birth:7 December  1928 - 07...</td>\n",
       "      <td>r_philosophers</td>\n",
       "      <td>1</td>\n",
       "    </tr>\n",
       "    <tr>\n",
       "      <th>2</th>\n",
       "      <td>Albert_Camus</td>\n",
       "      <td>Gender:MaleDate of Birth:7 November  1913 - 02...</td>\n",
       "      <td>r_philosophers</td>\n",
       "      <td>2</td>\n",
       "    </tr>\n",
       "    <tr>\n",
       "      <th>3</th>\n",
       "      <td>Mahatma_Gandhi</td>\n",
       "      <td>Gender:MaleDate of Birth:2 October  1869 - 07:...</td>\n",
       "      <td>r_philosophers</td>\n",
       "      <td>3</td>\n",
       "    </tr>\n",
       "    <tr>\n",
       "      <th>4</th>\n",
       "      <td>Jean-Jacques_Rousseau</td>\n",
       "      <td>Gender:MaleDate of Birth:28 June  1712 - 10:00...</td>\n",
       "      <td>r_philosophers</td>\n",
       "      <td>4</td>\n",
       "    </tr>\n",
       "    <tr>\n",
       "      <th>5</th>\n",
       "      <td>Denis_Diderot</td>\n",
       "      <td>Gender:MaleDate of Birth:5 October  1713 - 17:...</td>\n",
       "      <td>r_philosophers</td>\n",
       "      <td>5</td>\n",
       "    </tr>\n",
       "    <tr>\n",
       "      <th>6</th>\n",
       "      <td>Immanuel_Kant</td>\n",
       "      <td>Gender:MaleDate of Birth:22 April  1724 - 05:0...</td>\n",
       "      <td>r_philosophers</td>\n",
       "      <td>6</td>\n",
       "    </tr>\n",
       "    <tr>\n",
       "      <th>7</th>\n",
       "      <td>Johann_Gottfried_Herder</td>\n",
       "      <td>Gender:MaleDate of Birth:25 August  1744 - 23:...</td>\n",
       "      <td>r_philosophers</td>\n",
       "      <td>7</td>\n",
       "    </tr>\n",
       "    <tr>\n",
       "      <th>8</th>\n",
       "      <td>Soeren_Kierkegaard</td>\n",
       "      <td>Gender:MaleDate of Birth:5 May  1813Birth plac...</td>\n",
       "      <td>r_philosophers</td>\n",
       "      <td>8</td>\n",
       "    </tr>\n",
       "    <tr>\n",
       "      <th>9</th>\n",
       "      <td>Friedrich_Nietzsche</td>\n",
       "      <td>Gender:MaleDate of Birth:15 October  1844 - 10...</td>\n",
       "      <td>r_philosophers</td>\n",
       "      <td>9</td>\n",
       "    </tr>\n",
       "    <tr>\n",
       "      <th>10</th>\n",
       "      <td>Bertrand_Russell</td>\n",
       "      <td>Gender:MaleDate of Birth:18 May  1872 - 17:45h...</td>\n",
       "      <td>r_philosophers</td>\n",
       "      <td>10</td>\n",
       "    </tr>\n",
       "    <tr>\n",
       "      <th>11</th>\n",
       "      <td>Philip_K._Dick</td>\n",
       "      <td>Gender:MaleDate of Birth:16 December  1928 - 1...</td>\n",
       "      <td>r_philosophers</td>\n",
       "      <td>11</td>\n",
       "    </tr>\n",
       "    <tr>\n",
       "      <th>12</th>\n",
       "      <td>Arthur_Schopenhauer</td>\n",
       "      <td>Gender:MaleDate of Birth:22 February  1788 - 1...</td>\n",
       "      <td>r_philosophers</td>\n",
       "      <td>12</td>\n",
       "    </tr>\n",
       "    <tr>\n",
       "      <th>13</th>\n",
       "      <td>Karl_Marx</td>\n",
       "      <td>Gender:MaleDate of Birth:5 May  1818 - 02:00hB...</td>\n",
       "      <td>r_philosophers</td>\n",
       "      <td>13</td>\n",
       "    </tr>\n",
       "    <tr>\n",
       "      <th>14</th>\n",
       "      <td>Helena_Blavatsky</td>\n",
       "      <td>Gender:FemaleDate of Birth:12 August  1831 - 0...</td>\n",
       "      <td>r_philosophers</td>\n",
       "      <td>14</td>\n",
       "    </tr>\n",
       "    <tr>\n",
       "      <th>15</th>\n",
       "      <td>Ernst_Bloch</td>\n",
       "      <td>Gender:MaleDate of Birth:8 July  1885 - 08:00h...</td>\n",
       "      <td>r_philosophers</td>\n",
       "      <td>15</td>\n",
       "    </tr>\n",
       "    <tr>\n",
       "      <th>16</th>\n",
       "      <td>George_Boole</td>\n",
       "      <td>Gender:MaleDate of Birth:2 November  1815 - 16...</td>\n",
       "      <td>r_philosophers</td>\n",
       "      <td>16</td>\n",
       "    </tr>\n",
       "    <tr>\n",
       "      <th>17</th>\n",
       "      <td>Martin_Buber</td>\n",
       "      <td>Gender:MaleDate of Birth:8 February  1878 - 06...</td>\n",
       "      <td>r_philosophers</td>\n",
       "      <td>17</td>\n",
       "    </tr>\n",
       "    <tr>\n",
       "      <th>18</th>\n",
       "      <td>Fritjof_Capra</td>\n",
       "      <td>Gender:MaleDate of Birth:1 February  1939 - 10...</td>\n",
       "      <td>r_philosophers</td>\n",
       "      <td>18</td>\n",
       "    </tr>\n",
       "    <tr>\n",
       "      <th>19</th>\n",
       "      <td>Gilles_Deleuze</td>\n",
       "      <td>Gender:MaleDate of Birth:18 January  1925 - 02...</td>\n",
       "      <td>r_philosophers</td>\n",
       "      <td>19</td>\n",
       "    </tr>\n",
       "  </tbody>\n",
       "</table>\n",
       "</div>"
      ],
      "text/plain": [
       "                       name  \\\n",
       "0            Michael_Haneke   \n",
       "1              Noam_Chomsky   \n",
       "2              Albert_Camus   \n",
       "3            Mahatma_Gandhi   \n",
       "4     Jean-Jacques_Rousseau   \n",
       "5             Denis_Diderot   \n",
       "6             Immanuel_Kant   \n",
       "7   Johann_Gottfried_Herder   \n",
       "8        Soeren_Kierkegaard   \n",
       "9       Friedrich_Nietzsche   \n",
       "10         Bertrand_Russell   \n",
       "11           Philip_K._Dick   \n",
       "12      Arthur_Schopenhauer   \n",
       "13                Karl_Marx   \n",
       "14         Helena_Blavatsky   \n",
       "15              Ernst_Bloch   \n",
       "16             George_Boole   \n",
       "17             Martin_Buber   \n",
       "18            Fritjof_Capra   \n",
       "19           Gilles_Deleuze   \n",
       "\n",
       "                                                 info      occupation  count  \n",
       "0   Gender:MaleDate of Birth:23 March  1942Birth p...  r_philosophers      0  \n",
       "1   Gender:MaleDate of Birth:7 December  1928 - 07...  r_philosophers      1  \n",
       "2   Gender:MaleDate of Birth:7 November  1913 - 02...  r_philosophers      2  \n",
       "3   Gender:MaleDate of Birth:2 October  1869 - 07:...  r_philosophers      3  \n",
       "4   Gender:MaleDate of Birth:28 June  1712 - 10:00...  r_philosophers      4  \n",
       "5   Gender:MaleDate of Birth:5 October  1713 - 17:...  r_philosophers      5  \n",
       "6   Gender:MaleDate of Birth:22 April  1724 - 05:0...  r_philosophers      6  \n",
       "7   Gender:MaleDate of Birth:25 August  1744 - 23:...  r_philosophers      7  \n",
       "8   Gender:MaleDate of Birth:5 May  1813Birth plac...  r_philosophers      8  \n",
       "9   Gender:MaleDate of Birth:15 October  1844 - 10...  r_philosophers      9  \n",
       "10  Gender:MaleDate of Birth:18 May  1872 - 17:45h...  r_philosophers     10  \n",
       "11  Gender:MaleDate of Birth:16 December  1928 - 1...  r_philosophers     11  \n",
       "12  Gender:MaleDate of Birth:22 February  1788 - 1...  r_philosophers     12  \n",
       "13  Gender:MaleDate of Birth:5 May  1818 - 02:00hB...  r_philosophers     13  \n",
       "14  Gender:FemaleDate of Birth:12 August  1831 - 0...  r_philosophers     14  \n",
       "15  Gender:MaleDate of Birth:8 July  1885 - 08:00h...  r_philosophers     15  \n",
       "16  Gender:MaleDate of Birth:2 November  1815 - 16...  r_philosophers     16  \n",
       "17  Gender:MaleDate of Birth:8 February  1878 - 06...  r_philosophers     17  \n",
       "18  Gender:MaleDate of Birth:1 February  1939 - 10...  r_philosophers     18  \n",
       "19  Gender:MaleDate of Birth:18 January  1925 - 02...  r_philosophers     19  "
      ]
     },
     "execution_count": 113,
     "metadata": {},
     "output_type": "execute_result"
    }
   ],
   "source": [
    "copy_df.head(20)"
   ]
  },
  {
   "cell_type": "code",
   "execution_count": 119,
   "metadata": {},
   "outputs": [
    {
     "data": {
      "text/plain": [
       "'Gender:FemaleDate of Birth:12 August  1831 - 02:17hBirth place:Ekaterinoslav, DniproCountry:UA, UkraineAge:† 59 years'"
      ]
     },
     "execution_count": 119,
     "metadata": {},
     "output_type": "execute_result"
    }
   ],
   "source": [
    "copy_df.iloc[14].info"
   ]
  },
  {
   "cell_type": "code",
   "execution_count": 122,
   "metadata": {},
   "outputs": [],
   "source": [
    "import string"
   ]
  },
  {
   "cell_type": "code",
   "execution_count": 126,
   "metadata": {},
   "outputs": [],
   "source": [
    "def adios_weird_characters(i):\n",
    "    s = copy_df.iloc[i].info\n",
    "    printable = set(string.printable)\n",
    "    return ''.join(filter(lambda x: x in printable, s))"
   ]
  },
  {
   "cell_type": "code",
   "execution_count": 146,
   "metadata": {},
   "outputs": [
    {
     "data": {
      "text/plain": [
       "'Gender:MaleDate of Birth:7 December  1928 - 07:00hBirth place:Philadelphia, PennsylvaniaCountry:US, United StatesAge:91 years'"
      ]
     },
     "execution_count": 146,
     "metadata": {},
     "output_type": "execute_result"
    }
   ],
   "source": [
    "adios_weird_characters(1)"
   ]
  },
  {
   "cell_type": "code",
   "execution_count": 145,
   "metadata": {},
   "outputs": [
    {
     "data": {
      "text/plain": [
       "'Gender:MaleDate of Birth:5 May  1818 - 02:00hBirth place:TrierCountry:DE, GermanyAge: 64 years'"
      ]
     },
     "execution_count": 145,
     "metadata": {},
     "output_type": "execute_result"
    }
   ],
   "source": [
    "adios_weird_characters(13)"
   ]
  },
  {
   "cell_type": "code",
   "execution_count": 128,
   "metadata": {},
   "outputs": [
    {
     "data": {
      "text/plain": [
       "'Gender:FemaleDate of Birth:12 August  1831 - 02:17hBirth place:Ekaterinoslav, DniproCountry:UA, UkraineAge: 59 years'"
      ]
     },
     "execution_count": 128,
     "metadata": {},
     "output_type": "execute_result"
    }
   ],
   "source": [
    "adios_weird_characters(14)"
   ]
  },
  {
   "cell_type": "code",
   "execution_count": 129,
   "metadata": {},
   "outputs": [],
   "source": [
    "copy_df['info_norm'] = copy_df['count'].apply(adios_weird_characters)"
   ]
  },
  {
   "cell_type": "code",
   "execution_count": 132,
   "metadata": {},
   "outputs": [
    {
     "data": {
      "text/html": [
       "<div>\n",
       "<style scoped>\n",
       "    .dataframe tbody tr th:only-of-type {\n",
       "        vertical-align: middle;\n",
       "    }\n",
       "\n",
       "    .dataframe tbody tr th {\n",
       "        vertical-align: top;\n",
       "    }\n",
       "\n",
       "    .dataframe thead th {\n",
       "        text-align: right;\n",
       "    }\n",
       "</style>\n",
       "<table border=\"1\" class=\"dataframe\">\n",
       "  <thead>\n",
       "    <tr style=\"text-align: right;\">\n",
       "      <th></th>\n",
       "      <th>name</th>\n",
       "      <th>occupation</th>\n",
       "      <th>count</th>\n",
       "      <th>info_norm</th>\n",
       "    </tr>\n",
       "  </thead>\n",
       "  <tbody>\n",
       "    <tr>\n",
       "      <th>0</th>\n",
       "      <td>Michael_Haneke</td>\n",
       "      <td>r_philosophers</td>\n",
       "      <td>0</td>\n",
       "      <td>Gender:MaleDate of Birth:23 March  1942Birth p...</td>\n",
       "    </tr>\n",
       "    <tr>\n",
       "      <th>1</th>\n",
       "      <td>Noam_Chomsky</td>\n",
       "      <td>r_philosophers</td>\n",
       "      <td>1</td>\n",
       "      <td>Gender:MaleDate of Birth:7 December  1928 - 07...</td>\n",
       "    </tr>\n",
       "    <tr>\n",
       "      <th>2</th>\n",
       "      <td>Albert_Camus</td>\n",
       "      <td>r_philosophers</td>\n",
       "      <td>2</td>\n",
       "      <td>Gender:MaleDate of Birth:7 November  1913 - 02...</td>\n",
       "    </tr>\n",
       "    <tr>\n",
       "      <th>3</th>\n",
       "      <td>Mahatma_Gandhi</td>\n",
       "      <td>r_philosophers</td>\n",
       "      <td>3</td>\n",
       "      <td>Gender:MaleDate of Birth:2 October  1869 - 07:...</td>\n",
       "    </tr>\n",
       "    <tr>\n",
       "      <th>4</th>\n",
       "      <td>Jean-Jacques_Rousseau</td>\n",
       "      <td>r_philosophers</td>\n",
       "      <td>4</td>\n",
       "      <td>Gender:MaleDate of Birth:28 June  1712 - 10:00...</td>\n",
       "    </tr>\n",
       "    <tr>\n",
       "      <th>5</th>\n",
       "      <td>Denis_Diderot</td>\n",
       "      <td>r_philosophers</td>\n",
       "      <td>5</td>\n",
       "      <td>Gender:MaleDate of Birth:5 October  1713 - 17:...</td>\n",
       "    </tr>\n",
       "    <tr>\n",
       "      <th>6</th>\n",
       "      <td>Immanuel_Kant</td>\n",
       "      <td>r_philosophers</td>\n",
       "      <td>6</td>\n",
       "      <td>Gender:MaleDate of Birth:22 April  1724 - 05:0...</td>\n",
       "    </tr>\n",
       "    <tr>\n",
       "      <th>7</th>\n",
       "      <td>Johann_Gottfried_Herder</td>\n",
       "      <td>r_philosophers</td>\n",
       "      <td>7</td>\n",
       "      <td>Gender:MaleDate of Birth:25 August  1744 - 23:...</td>\n",
       "    </tr>\n",
       "    <tr>\n",
       "      <th>8</th>\n",
       "      <td>Soeren_Kierkegaard</td>\n",
       "      <td>r_philosophers</td>\n",
       "      <td>8</td>\n",
       "      <td>Gender:MaleDate of Birth:5 May  1813Birth plac...</td>\n",
       "    </tr>\n",
       "    <tr>\n",
       "      <th>9</th>\n",
       "      <td>Friedrich_Nietzsche</td>\n",
       "      <td>r_philosophers</td>\n",
       "      <td>9</td>\n",
       "      <td>Gender:MaleDate of Birth:15 October  1844 - 10...</td>\n",
       "    </tr>\n",
       "    <tr>\n",
       "      <th>10</th>\n",
       "      <td>Bertrand_Russell</td>\n",
       "      <td>r_philosophers</td>\n",
       "      <td>10</td>\n",
       "      <td>Gender:MaleDate of Birth:18 May  1872 - 17:45h...</td>\n",
       "    </tr>\n",
       "    <tr>\n",
       "      <th>11</th>\n",
       "      <td>Philip_K._Dick</td>\n",
       "      <td>r_philosophers</td>\n",
       "      <td>11</td>\n",
       "      <td>Gender:MaleDate of Birth:16 December  1928 - 1...</td>\n",
       "    </tr>\n",
       "    <tr>\n",
       "      <th>12</th>\n",
       "      <td>Arthur_Schopenhauer</td>\n",
       "      <td>r_philosophers</td>\n",
       "      <td>12</td>\n",
       "      <td>Gender:MaleDate of Birth:22 February  1788 - 1...</td>\n",
       "    </tr>\n",
       "    <tr>\n",
       "      <th>13</th>\n",
       "      <td>Karl_Marx</td>\n",
       "      <td>r_philosophers</td>\n",
       "      <td>13</td>\n",
       "      <td>Gender:MaleDate of Birth:5 May  1818 - 02:00hB...</td>\n",
       "    </tr>\n",
       "    <tr>\n",
       "      <th>14</th>\n",
       "      <td>Helena_Blavatsky</td>\n",
       "      <td>r_philosophers</td>\n",
       "      <td>14</td>\n",
       "      <td>Gender:FemaleDate of Birth:12 August  1831 - 0...</td>\n",
       "    </tr>\n",
       "  </tbody>\n",
       "</table>\n",
       "</div>"
      ],
      "text/plain": [
       "                       name      occupation  count  \\\n",
       "0            Michael_Haneke  r_philosophers      0   \n",
       "1              Noam_Chomsky  r_philosophers      1   \n",
       "2              Albert_Camus  r_philosophers      2   \n",
       "3            Mahatma_Gandhi  r_philosophers      3   \n",
       "4     Jean-Jacques_Rousseau  r_philosophers      4   \n",
       "5             Denis_Diderot  r_philosophers      5   \n",
       "6             Immanuel_Kant  r_philosophers      6   \n",
       "7   Johann_Gottfried_Herder  r_philosophers      7   \n",
       "8        Soeren_Kierkegaard  r_philosophers      8   \n",
       "9       Friedrich_Nietzsche  r_philosophers      9   \n",
       "10         Bertrand_Russell  r_philosophers     10   \n",
       "11           Philip_K._Dick  r_philosophers     11   \n",
       "12      Arthur_Schopenhauer  r_philosophers     12   \n",
       "13                Karl_Marx  r_philosophers     13   \n",
       "14         Helena_Blavatsky  r_philosophers     14   \n",
       "\n",
       "                                            info_norm  \n",
       "0   Gender:MaleDate of Birth:23 March  1942Birth p...  \n",
       "1   Gender:MaleDate of Birth:7 December  1928 - 07...  \n",
       "2   Gender:MaleDate of Birth:7 November  1913 - 02...  \n",
       "3   Gender:MaleDate of Birth:2 October  1869 - 07:...  \n",
       "4   Gender:MaleDate of Birth:28 June  1712 - 10:00...  \n",
       "5   Gender:MaleDate of Birth:5 October  1713 - 17:...  \n",
       "6   Gender:MaleDate of Birth:22 April  1724 - 05:0...  \n",
       "7   Gender:MaleDate of Birth:25 August  1744 - 23:...  \n",
       "8   Gender:MaleDate of Birth:5 May  1813Birth plac...  \n",
       "9   Gender:MaleDate of Birth:15 October  1844 - 10...  \n",
       "10  Gender:MaleDate of Birth:18 May  1872 - 17:45h...  \n",
       "11  Gender:MaleDate of Birth:16 December  1928 - 1...  \n",
       "12  Gender:MaleDate of Birth:22 February  1788 - 1...  \n",
       "13  Gender:MaleDate of Birth:5 May  1818 - 02:00hB...  \n",
       "14  Gender:FemaleDate of Birth:12 August  1831 - 0...  "
      ]
     },
     "execution_count": 132,
     "metadata": {},
     "output_type": "execute_result"
    }
   ],
   "source": [
    "copy_df_mod = copy_df.drop(['info'], axis=1)\n",
    "copy_df_mod.head(15)"
   ]
  },
  {
   "cell_type": "code",
   "execution_count": 136,
   "metadata": {
    "scrolled": true
   },
   "outputs": [
    {
     "data": {
      "text/html": [
       "<div>\n",
       "<style scoped>\n",
       "    .dataframe tbody tr th:only-of-type {\n",
       "        vertical-align: middle;\n",
       "    }\n",
       "\n",
       "    .dataframe tbody tr th {\n",
       "        vertical-align: top;\n",
       "    }\n",
       "\n",
       "    .dataframe thead th {\n",
       "        text-align: right;\n",
       "    }\n",
       "</style>\n",
       "<table border=\"1\" class=\"dataframe\">\n",
       "  <thead>\n",
       "    <tr style=\"text-align: right;\">\n",
       "      <th></th>\n",
       "      <th>name</th>\n",
       "      <th>occupation</th>\n",
       "      <th>count</th>\n",
       "      <th>info</th>\n",
       "    </tr>\n",
       "  </thead>\n",
       "  <tbody>\n",
       "    <tr>\n",
       "      <th>0</th>\n",
       "      <td>Michael_Haneke</td>\n",
       "      <td>r_philosophers</td>\n",
       "      <td>0</td>\n",
       "      <td>Gender:MaleDate of Birth:23 March  1942Birth p...</td>\n",
       "    </tr>\n",
       "    <tr>\n",
       "      <th>1</th>\n",
       "      <td>Noam_Chomsky</td>\n",
       "      <td>r_philosophers</td>\n",
       "      <td>1</td>\n",
       "      <td>Gender:MaleDate of Birth:7 December  1928 - 07...</td>\n",
       "    </tr>\n",
       "    <tr>\n",
       "      <th>2</th>\n",
       "      <td>Albert_Camus</td>\n",
       "      <td>r_philosophers</td>\n",
       "      <td>2</td>\n",
       "      <td>Gender:MaleDate of Birth:7 November  1913 - 02...</td>\n",
       "    </tr>\n",
       "    <tr>\n",
       "      <th>3</th>\n",
       "      <td>Mahatma_Gandhi</td>\n",
       "      <td>r_philosophers</td>\n",
       "      <td>3</td>\n",
       "      <td>Gender:MaleDate of Birth:2 October  1869 - 07:...</td>\n",
       "    </tr>\n",
       "    <tr>\n",
       "      <th>4</th>\n",
       "      <td>Jean-Jacques_Rousseau</td>\n",
       "      <td>r_philosophers</td>\n",
       "      <td>4</td>\n",
       "      <td>Gender:MaleDate of Birth:28 June  1712 - 10:00...</td>\n",
       "    </tr>\n",
       "  </tbody>\n",
       "</table>\n",
       "</div>"
      ],
      "text/plain": [
       "                    name      occupation  count  \\\n",
       "0         Michael_Haneke  r_philosophers      0   \n",
       "1           Noam_Chomsky  r_philosophers      1   \n",
       "2           Albert_Camus  r_philosophers      2   \n",
       "3         Mahatma_Gandhi  r_philosophers      3   \n",
       "4  Jean-Jacques_Rousseau  r_philosophers      4   \n",
       "\n",
       "                                                info  \n",
       "0  Gender:MaleDate of Birth:23 March  1942Birth p...  \n",
       "1  Gender:MaleDate of Birth:7 December  1928 - 07...  \n",
       "2  Gender:MaleDate of Birth:7 November  1913 - 02...  \n",
       "3  Gender:MaleDate of Birth:2 October  1869 - 07:...  \n",
       "4  Gender:MaleDate of Birth:28 June  1712 - 10:00...  "
      ]
     },
     "execution_count": 136,
     "metadata": {},
     "output_type": "execute_result"
    }
   ],
   "source": [
    "copyd_df_mod = copy_df_mod.rename(columns={\"info_norm\": \"info\"}, inplace=True)\n",
    "copy_df_mod.head()"
   ]
  },
  {
   "cell_type": "code",
   "execution_count": 141,
   "metadata": {},
   "outputs": [
    {
     "data": {
      "text/plain": [
       "'Gender:FemaleDate of Birth:12 August  1831 - 02:17hBirth place:Ekaterinoslav, DniproCountry:UA, UkraineAge: 59 years'"
      ]
     },
     "execution_count": 141,
     "metadata": {},
     "output_type": "execute_result"
    }
   ],
   "source": [
    "copy_df_mod.iloc[14].info"
   ]
  },
  {
   "cell_type": "code",
   "execution_count": 144,
   "metadata": {},
   "outputs": [
    {
     "name": "stdout",
     "output_type": "stream",
     "text": [
      "['1942', 1, '23']\n",
      "['1928', 1, '7', '07:00']\n",
      "['1913', 1, '7', '02:00']\n",
      "['1869', 1, '2', '07:08']\n",
      "['1712', 1, '28', '10:00']\n",
      "['1713', 1, '5', '17:00']\n",
      "['1724', 1, '22', '05:00']\n",
      "['1744', 1, '25', '23:30']\n",
      "['1813', 1, '5']\n",
      "['1844', 1, '15', '10:00']\n",
      "['1872', 1, '18', '17:45']\n",
      "['1928', 1, '16', '12:15']\n",
      "['1788', 1, '22', '12:00']\n",
      "['1818', 1, '5', '02:00']\n"
     ]
    },
    {
     "ename": "IndexError",
     "evalue": "list index out of range",
     "output_type": "error",
     "traceback": [
      "\u001b[0;31m---------------------------------------------------------------------------\u001b[0m",
      "\u001b[0;31mIndexError\u001b[0m                                Traceback (most recent call last)",
      "\u001b[0;32m<ipython-input-144-e79f3f6e3f76>\u001b[0m in \u001b[0;36m<module>\u001b[0;34m\u001b[0m\n\u001b[0;32m----> 1\u001b[0;31m \u001b[0mcopy_df_mod\u001b[0m\u001b[0;34m[\u001b[0m\u001b[0;34m'birthtime'\u001b[0m\u001b[0;34m]\u001b[0m \u001b[0;34m=\u001b[0m \u001b[0mcopy_df_mod\u001b[0m\u001b[0;34m[\u001b[0m\u001b[0;34m'count'\u001b[0m\u001b[0;34m]\u001b[0m\u001b[0;34m.\u001b[0m\u001b[0mapply\u001b[0m\u001b[0;34m(\u001b[0m\u001b[0mmake_time_column\u001b[0m\u001b[0;34m)\u001b[0m\u001b[0;34m\u001b[0m\u001b[0;34m\u001b[0m\u001b[0m\n\u001b[0m\u001b[1;32m      2\u001b[0m \u001b[0;31m#copy_df['birthtime'] = copy_df['count'].apply(make_time_column)\u001b[0m\u001b[0;34m\u001b[0m\u001b[0;34m\u001b[0m\u001b[0;34m\u001b[0m\u001b[0m\n",
      "\u001b[0;32m/anaconda3/lib/python3.7/site-packages/pandas/core/series.py\u001b[0m in \u001b[0;36mapply\u001b[0;34m(self, func, convert_dtype, args, **kwds)\u001b[0m\n\u001b[1;32m   3192\u001b[0m             \u001b[0;32melse\u001b[0m\u001b[0;34m:\u001b[0m\u001b[0;34m\u001b[0m\u001b[0;34m\u001b[0m\u001b[0m\n\u001b[1;32m   3193\u001b[0m                 \u001b[0mvalues\u001b[0m \u001b[0;34m=\u001b[0m \u001b[0mself\u001b[0m\u001b[0;34m.\u001b[0m\u001b[0mastype\u001b[0m\u001b[0;34m(\u001b[0m\u001b[0mobject\u001b[0m\u001b[0;34m)\u001b[0m\u001b[0;34m.\u001b[0m\u001b[0mvalues\u001b[0m\u001b[0;34m\u001b[0m\u001b[0;34m\u001b[0m\u001b[0m\n\u001b[0;32m-> 3194\u001b[0;31m                 \u001b[0mmapped\u001b[0m \u001b[0;34m=\u001b[0m \u001b[0mlib\u001b[0m\u001b[0;34m.\u001b[0m\u001b[0mmap_infer\u001b[0m\u001b[0;34m(\u001b[0m\u001b[0mvalues\u001b[0m\u001b[0;34m,\u001b[0m \u001b[0mf\u001b[0m\u001b[0;34m,\u001b[0m \u001b[0mconvert\u001b[0m\u001b[0;34m=\u001b[0m\u001b[0mconvert_dtype\u001b[0m\u001b[0;34m)\u001b[0m\u001b[0;34m\u001b[0m\u001b[0;34m\u001b[0m\u001b[0m\n\u001b[0m\u001b[1;32m   3195\u001b[0m \u001b[0;34m\u001b[0m\u001b[0m\n\u001b[1;32m   3196\u001b[0m         \u001b[0;32mif\u001b[0m \u001b[0mlen\u001b[0m\u001b[0;34m(\u001b[0m\u001b[0mmapped\u001b[0m\u001b[0;34m)\u001b[0m \u001b[0;32mand\u001b[0m \u001b[0misinstance\u001b[0m\u001b[0;34m(\u001b[0m\u001b[0mmapped\u001b[0m\u001b[0;34m[\u001b[0m\u001b[0;36m0\u001b[0m\u001b[0;34m]\u001b[0m\u001b[0;34m,\u001b[0m \u001b[0mSeries\u001b[0m\u001b[0;34m)\u001b[0m\u001b[0;34m:\u001b[0m\u001b[0;34m\u001b[0m\u001b[0;34m\u001b[0m\u001b[0m\n",
      "\u001b[0;32mpandas/_libs/src/inference.pyx\u001b[0m in \u001b[0;36mpandas._libs.lib.map_infer\u001b[0;34m()\u001b[0m\n",
      "\u001b[0;32m<ipython-input-104-0b986b9218cb>\u001b[0m in \u001b[0;36mmake_time_column\u001b[0;34m(row)\u001b[0m\n\u001b[1;32m      1\u001b[0m \u001b[0;32mdef\u001b[0m \u001b[0mmake_time_column\u001b[0m\u001b[0;34m(\u001b[0m\u001b[0mrow\u001b[0m\u001b[0;34m)\u001b[0m\u001b[0;34m:\u001b[0m\u001b[0;34m\u001b[0m\u001b[0;34m\u001b[0m\u001b[0m\n\u001b[0;32m----> 2\u001b[0;31m     \u001b[0;32mreturn\u001b[0m \u001b[0mtime_formatter\u001b[0m\u001b[0;34m(\u001b[0m\u001b[0mget_birthtime_info\u001b[0m\u001b[0;34m(\u001b[0m\u001b[0mrow\u001b[0m\u001b[0;34m)\u001b[0m\u001b[0;34m)\u001b[0m\u001b[0;34m\u001b[0m\u001b[0;34m\u001b[0m\u001b[0m\n\u001b[0m\u001b[1;32m      3\u001b[0m \u001b[0;34m\u001b[0m\u001b[0m\n\u001b[1;32m      4\u001b[0m \u001b[0;32mdef\u001b[0m \u001b[0mmake_place_column\u001b[0m\u001b[0;34m(\u001b[0m\u001b[0mrow\u001b[0m\u001b[0;34m)\u001b[0m\u001b[0;34m:\u001b[0m\u001b[0;34m\u001b[0m\u001b[0;34m\u001b[0m\u001b[0m\n\u001b[1;32m      5\u001b[0m     \u001b[0;32mreturn\u001b[0m \u001b[0mplace_formatter\u001b[0m\u001b[0;34m(\u001b[0m\u001b[0mget_birthplace_info\u001b[0m\u001b[0;34m(\u001b[0m\u001b[0mrow\u001b[0m\u001b[0;34m)\u001b[0m\u001b[0;34m)\u001b[0m\u001b[0;34m\u001b[0m\u001b[0;34m\u001b[0m\u001b[0m\n",
      "\u001b[0;32m<ipython-input-102-eb00c5eaea0d>\u001b[0m in \u001b[0;36mtime_formatter\u001b[0;34m(time_lst)\u001b[0m\n\u001b[1;32m     37\u001b[0m         \u001b[0mtemp\u001b[0m \u001b[0;34m=\u001b[0m \u001b[0mfirst\u001b[0m\u001b[0;34m.\u001b[0m\u001b[0msplit\u001b[0m\u001b[0;34m(\u001b[0m\u001b[0mmonth\u001b[0m\u001b[0;34m)\u001b[0m\u001b[0;34m\u001b[0m\u001b[0;34m\u001b[0m\u001b[0m\n\u001b[1;32m     38\u001b[0m         \u001b[0mday\u001b[0m \u001b[0;34m=\u001b[0m \u001b[0mtemp\u001b[0m\u001b[0;34m[\u001b[0m\u001b[0;36m0\u001b[0m\u001b[0;34m]\u001b[0m\u001b[0;34m\u001b[0m\u001b[0;34m\u001b[0m\u001b[0m\n\u001b[0;32m---> 39\u001b[0;31m         \u001b[0myear\u001b[0m \u001b[0;34m=\u001b[0m \u001b[0mtemp\u001b[0m\u001b[0;34m[\u001b[0m\u001b[0;36m1\u001b[0m\u001b[0;34m]\u001b[0m\u001b[0;34m\u001b[0m\u001b[0;34m\u001b[0m\u001b[0m\n\u001b[0m\u001b[1;32m     40\u001b[0m         \u001b[0mtime\u001b[0m \u001b[0;34m=\u001b[0m \u001b[0mtime_lst\u001b[0m\u001b[0;34m[\u001b[0m\u001b[0;36m1\u001b[0m\u001b[0;34m]\u001b[0m\u001b[0;34m\u001b[0m\u001b[0;34m\u001b[0m\u001b[0m\n\u001b[1;32m     41\u001b[0m         \u001b[0mtime\u001b[0m \u001b[0;34m=\u001b[0m \u001b[0mtime\u001b[0m\u001b[0;34m[\u001b[0m\u001b[0;34m:\u001b[0m\u001b[0;34m-\u001b[0m\u001b[0;36m1\u001b[0m\u001b[0;34m]\u001b[0m\u001b[0;34m\u001b[0m\u001b[0;34m\u001b[0m\u001b[0m\n",
      "\u001b[0;31mIndexError\u001b[0m: list index out of range"
     ]
    }
   ],
   "source": [
    "copy_df_mod['birthtime'] = copy_df_mod['count'].apply(make_time_column)\n",
    "#copy_df['birthtime'] = copy_df['count'].apply(make_time_column)"
   ]
  },
  {
   "cell_type": "code",
   "execution_count": null,
   "metadata": {},
   "outputs": [],
   "source": [
    "from geopy.geocoders import Nominatim\n",
    "geolocator = Nominatim(user_agent=\"specify_your_app_name_here\")\n",
    "\n",
    "from geopy.extra.rate_limiter import RateLimiter\n",
    "geocode = RateLimiter(geolocator.geocode, min_delay_seconds=1)\n",
    "df['location'] = df['birthplace'].apply(geocode)\n",
    "df['point'] = df['location'].apply(lambda loc: tuple(loc.point) if loc else None)"
   ]
  }
 ],
 "metadata": {
  "kernelspec": {
   "display_name": "Python 3",
   "language": "python",
   "name": "python3"
  },
  "language_info": {
   "codemirror_mode": {
    "name": "ipython",
    "version": 3
   },
   "file_extension": ".py",
   "mimetype": "text/x-python",
   "name": "python",
   "nbconvert_exporter": "python",
   "pygments_lexer": "ipython3",
   "version": "3.7.1"
  }
 },
 "nbformat": 4,
 "nbformat_minor": 2
}
